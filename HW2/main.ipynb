{
  "cells": [
    {
      "cell_type": "code",
      "execution_count": null,
      "metadata": {
        "colab": {
          "base_uri": "https://localhost:8080/"
        },
        "id": "Zsrrfz7vb1-t",
        "outputId": "9019656a-8709-4092-a54c-d0d402d04336"
      },
      "outputs": [
        {
          "name": "stdout",
          "output_type": "stream",
          "text": [
            "Requirement already satisfied: hazm in /usr/local/lib/python3.11/dist-packages (0.10.0)\n",
            "Requirement already satisfied: fasttext-wheel<0.10.0,>=0.9.2 in /usr/local/lib/python3.11/dist-packages (from hazm) (0.9.2)\n",
            "Requirement already satisfied: flashtext<3.0,>=2.7 in /usr/local/lib/python3.11/dist-packages (from hazm) (2.7)\n",
            "Requirement already satisfied: gensim<5.0.0,>=4.3.1 in /usr/local/lib/python3.11/dist-packages (from hazm) (4.3.3)\n",
            "Requirement already satisfied: nltk<4.0.0,>=3.8.1 in /usr/local/lib/python3.11/dist-packages (from hazm) (3.9.1)\n",
            "Requirement already satisfied: numpy==1.24.3 in /usr/local/lib/python3.11/dist-packages (from hazm) (1.24.3)\n",
            "Requirement already satisfied: python-crfsuite<0.10.0,>=0.9.9 in /usr/local/lib/python3.11/dist-packages (from hazm) (0.9.11)\n",
            "Requirement already satisfied: scikit-learn<2.0.0,>=1.2.2 in /usr/local/lib/python3.11/dist-packages (from hazm) (1.6.1)\n",
            "Requirement already satisfied: pybind11>=2.2 in /usr/local/lib/python3.11/dist-packages (from fasttext-wheel<0.10.0,>=0.9.2->hazm) (2.13.6)\n",
            "Requirement already satisfied: setuptools>=0.7.0 in /usr/local/lib/python3.11/dist-packages (from fasttext-wheel<0.10.0,>=0.9.2->hazm) (75.2.0)\n",
            "Requirement already satisfied: scipy<1.14.0,>=1.7.0 in /usr/local/lib/python3.11/dist-packages (from gensim<5.0.0,>=4.3.1->hazm) (1.13.1)\n",
            "Requirement already satisfied: smart-open>=1.8.1 in /usr/local/lib/python3.11/dist-packages (from gensim<5.0.0,>=4.3.1->hazm) (7.1.0)\n",
            "Requirement already satisfied: click in /usr/local/lib/python3.11/dist-packages (from nltk<4.0.0,>=3.8.1->hazm) (8.1.8)\n",
            "Requirement already satisfied: joblib in /usr/local/lib/python3.11/dist-packages (from nltk<4.0.0,>=3.8.1->hazm) (1.4.2)\n",
            "Requirement already satisfied: regex>=2021.8.3 in /usr/local/lib/python3.11/dist-packages (from nltk<4.0.0,>=3.8.1->hazm) (2024.11.6)\n",
            "Requirement already satisfied: tqdm in /usr/local/lib/python3.11/dist-packages (from nltk<4.0.0,>=3.8.1->hazm) (4.67.1)\n",
            "Requirement already satisfied: threadpoolctl>=3.1.0 in /usr/local/lib/python3.11/dist-packages (from scikit-learn<2.0.0,>=1.2.2->hazm) (3.6.0)\n",
            "Requirement already satisfied: wrapt in /usr/local/lib/python3.11/dist-packages (from smart-open>=1.8.1->gensim<5.0.0,>=4.3.1->hazm) (1.17.2)\n"
          ]
        }
      ],
      "source": [
        "!pip install hazm"
      ]
    },
    {
      "cell_type": "code",
      "execution_count": null,
      "metadata": {
        "colab": {
          "base_uri": "https://localhost:8080/"
        },
        "id": "j4lvRPsmPNYu",
        "outputId": "ee9c7a62-e0c8-4f8c-85b0-ae3088218bbb"
      },
      "outputs": [
        {
          "name": "stdout",
          "output_type": "stream",
          "text": [
            "Collecting parsivar\n",
            "  Using cached parsivar-0.2.3.1-py3-none-any.whl.metadata (242 bytes)\n",
            "Requirement already satisfied: nltk>=3.6.6 in /usr/local/lib/python3.11/dist-packages (from parsivar) (3.9.1)\n",
            "Requirement already satisfied: click in /usr/local/lib/python3.11/dist-packages (from nltk>=3.6.6->parsivar) (8.1.8)\n",
            "Requirement already satisfied: joblib in /usr/local/lib/python3.11/dist-packages (from nltk>=3.6.6->parsivar) (1.4.2)\n",
            "Requirement already satisfied: regex>=2021.8.3 in /usr/local/lib/python3.11/dist-packages (from nltk>=3.6.6->parsivar) (2024.11.6)\n",
            "Requirement already satisfied: tqdm in /usr/local/lib/python3.11/dist-packages (from nltk>=3.6.6->parsivar) (4.67.1)\n",
            "Using cached parsivar-0.2.3.1-py3-none-any.whl (18.0 MB)\n",
            "Installing collected packages: parsivar\n",
            "Successfully installed parsivar-0.2.3.1\n"
          ]
        }
      ],
      "source": [
        "!pip install parsivar"
      ]
    },
    {
      "cell_type": "code",
      "execution_count": null,
      "metadata": {
        "id": "Z288Wf1sbv46"
      },
      "outputs": [],
      "source": [
        "from hazm import WordTokenizer, Stemmer, stopwords_list\n",
        "from parsivar import Normalizer\n",
        "import pandas as pd\n",
        "import numpy as np\n",
        "import re\n",
        "from collections import Counter\n",
        "import torch\n",
        "from torch.utils.data import Dataset, DataLoader\n",
        "import torch.nn as nn\n",
        "from sklearn.model_selection import train_test_split\n",
        "from sklearn.metrics import accuracy_score, precision_recall_fscore_support\n",
        "from sklearn.utils import resample"
      ]
    },
    {
      "cell_type": "code",
      "execution_count": null,
      "metadata": {
        "id": "yz1B8Sq1b5M5"
      },
      "outputs": [],
      "source": [
        "df = pd.read_csv('data.csv')"
      ]
    },
    {
      "cell_type": "code",
      "execution_count": null,
      "metadata": {
        "colab": {
          "base_uri": "https://localhost:8080/",
          "height": 206
        },
        "id": "hCPmV73Pc0qh",
        "outputId": "08e65df8-dfcc-4e89-e04c-2fe712bdba9b"
      },
      "outputs": [
        {
          "data": {
            "application/vnd.google.colaboratory.intrinsic+json": {
              "summary": "{\n  \"name\": \"df\",\n  \"rows\": 3261,\n  \"fields\": [\n    {\n      \"column\": \"Text\",\n      \"properties\": {\n        \"dtype\": \"string\",\n        \"num_unique_values\": 3021,\n        \"samples\": [\n          \"\\u067e\\u0631\\u06cc\\u0646\\u062a\\u0631 \\u06cc\\u06a9 \\u0633\\u0627\\u0644 \\u062f\\u0627\\u0631\\u0645 \\u0648\\u0627\\u0642\\u0639\\u0627 \\u0627\\u0632\\u0634 \\u0631\\u0627\\u0636\\u06cc \\u0627\\u0645 \\u06cc\\u0647 \\u0645\\u0634\\u06a9\\u0644\\u06cc \\u06a9 \\u0641\\u06a9 \\u06a9\\u0646\\u0645 \\u0627\\u0648\\u0646\\u0627\\u06cc \\u06a9\\u0647 \\u0645\\u06cc\\u062e\\u0648\\u0627\\u0645 \\u0648\\u0627\\u0633\\u0647 \\u062e\\u0648\\u0646\\u0647 \\u0628\\u062e\\u0631\\u0646 \\u0627\\u06cc\\u0646\\u0647 \\u06a9\\u0647 \\u0647\\u0631 \\u0631\\u0648\\u0632 \\u0628\\u0627\\u06cc\\u062f \\u067e\\u0631\\u06cc\\u0646\\u062a \\u0628\\u06af\\u06cc\\u0631\\u0646 \\u06a9\\u0647 \\u062c\\u0648\\u0647\\u0631\\u0634 \\u062e\\u0634\\u06a9 \\u0646\\u0634\\u0647 \\u0648\\u0644\\u06cc \\u062f\\u0631 \\u0645\\u062c\\u0645\\u0648\\u0639 \\u0648\\u0627\\u0642\\u0639\\u0627 \\u06a9\\u06cc\\u0641\\u06cc\\u062a \\u0686\\u0627\\u067e\\u0634 \\u0648 \\u0645\\u0648\\u0646\\u06af\\u0627\\u0631\\u06cc\\u0634 \\u0639\\u0627\\u0644\\u06cc\\u0647 \",\n          \"\\u0628\\u0631\\u0627\\u06cc \\u06a9\\u0627\\u0631\\u0647\\u0627\\u06cc \\u062f\\u0627\\u0646\\u0634\\u062c\\u0648\\u06cc\\u06cc \\u0628\\u0633\\u06cc\\u0627\\u0631 \\u0639\\u0627\\u0644\\u06cc\\u0633\\u062a \\u0648 \\u067e\\u06cc\\u0634\\u0646\\u0647\\u0627\\u062f \\u0645\\u06cc\\u06a9\\u0646\\u0645  \",\n          \"\\u062f\\u0648 \\u0645\\u0627\\u0647\\u0647 \\u062e\\u0631\\u06cc\\u062f\\u0645\\u0634   \\u0645\\u062d\\u0634\\u0631\\u0647 \\u0627\\u0648\\u0644 \\u0627\\u06cc\\u0646 \\u06a9\\u0647 \\u0628\\u0627\\u062a\\u0631\\u06cc \\u0641\\u0648\\u0642 \\u0627\\u0644\\u0639\\u0627\\u062f\\u0647 \\u0639\\u0627\\u0644\\u06cc \\u062f\\u0627\\u0631\\u0647   \\u062a\\u0648 \\u067e\\u0627\\u0648\\u0631 \\u0633\\u06cc\\u0648\\u0634 \\u062f\\u0647 \\u0633\\u0627\\u0639\\u062a \\u0648 \\u0645\\u0639\\u0645\\u0648\\u0644\\u06cc \\u0647\\u0641\\u062a \\u0633\\u0627\\u0639\\u062a \\u0631\\u0648 \\u062c\\u0648\\u0627\\u0628\\u0647   \\u062b\\u0627\\u0646\\u06cc\\u0627 \\u06a9\\u06cc\\u0641\\u06cc\\u062a \\u0633\\u0627\\u062e\\u062a \\u0639\\u0627\\u0644\\u06cc  \\u0628\\u0639\\u062f \\u0627\\u0628\\u0646\\u06a9\\u0647 \\u0628\\u0627 \\u0627\\u06cc\\u0646\\u06a9\\u0647 \\u0627\\u06cc \\u0641\\u0627\\u06cc\\u0648\\u0647 \\u0648\\u0644\\u06cc 6200 u  \\u06a9 \\u06a9\\u0627\\u0631 \\u0627\\u06cc \\u0633\\u0648\\u0646 5000  \\u0631\\u0648 \\u0645\\u06cc\\u06a9\\u0646\\u0647  \\u062b\\u0627\\u0644\\u062b\\u0627\\u062f\\u0648 \\u062a\\u0627 \\u06af\\u0631\\u0627\\u0641\\u06cc\\u06a9 \\u062f\\u0627\\u0631\\u0647 \\u06cc\\u06a9\\u06cc \\u0628\\u0631\\u0627 \\u0627\\u0645\\u0648\\u0631 \\u0633\\u0627\\u062f\\u0647 \\u0648 \\u06cc\\u06a9\\u06cc \\u0628\\u0631\\u0627 \\u0645\\u062d\\u0627\\u0633\\u0628\\u0627\\u062a \\u0633\\u0646\\u06af\\u06cc\\u0646 \\u0645\\u062b \\u06af\\u06cc\\u0645  \\u0633\\u0646\\u0633\\u0648\\u0631 \\u0627\\u062b\\u0631 \\u0627\\u0646\\u06af\\u0634\\u062a\\u0634\\u0645 \\u0639\\u0627\\u0644\\u06cc\\u0647  \\u0641\\u0642\\u0637 \\u0628\\u062f\\u06cc\\u0634 \\u0627\\u06cc\\u0646\\u0647 \\u06a9 \\u06a9\\u06cc\\u0628\\u0648\\u0631\\u062f\\u0634 \\u0646\\u0648\\u0631 \\u067e\\u0633 \\u0646\\u062f\\u0627\\u0631\\u0647 \\u0648 \\u0627\\u06cc\\u0646\\u06a9\\u0647 \\u0648\\u0628\\u06a9\\u0645\\u0634 \\u0636\\u0639\\u06cc\\u0641\\u0647 \"\n        ],\n        \"semantic_type\": \"\",\n        \"description\": \"\"\n      }\n    },\n    {\n      \"column\": \"Score\",\n      \"properties\": {\n        \"dtype\": \"number\",\n        \"std\": 21,\n        \"min\": 0,\n        \"max\": 100,\n        \"num_unique_values\": 31,\n        \"samples\": [\n          10,\n          56,\n          94\n        ],\n        \"semantic_type\": \"\",\n        \"description\": \"\"\n      }\n    },\n    {\n      \"column\": \"Suggestion\",\n      \"properties\": {\n        \"dtype\": \"number\",\n        \"std\": 0,\n        \"min\": 1,\n        \"max\": 3,\n        \"num_unique_values\": 3,\n        \"samples\": [\n          1,\n          3,\n          2\n        ],\n        \"semantic_type\": \"\",\n        \"description\": \"\"\n      }\n    }\n  ]\n}",
              "type": "dataframe",
              "variable_name": "df"
            },
            "text/html": [
              "\n",
              "  <div id=\"df-1a589ab0-c14d-4e39-ac67-ed1231bfb8d7\" class=\"colab-df-container\">\n",
              "    <div>\n",
              "<style scoped>\n",
              "    .dataframe tbody tr th:only-of-type {\n",
              "        vertical-align: middle;\n",
              "    }\n",
              "\n",
              "    .dataframe tbody tr th {\n",
              "        vertical-align: top;\n",
              "    }\n",
              "\n",
              "    .dataframe thead th {\n",
              "        text-align: right;\n",
              "    }\n",
              "</style>\n",
              "<table border=\"1\" class=\"dataframe\">\n",
              "  <thead>\n",
              "    <tr style=\"text-align: right;\">\n",
              "      <th></th>\n",
              "      <th>Text</th>\n",
              "      <th>Score</th>\n",
              "      <th>Suggestion</th>\n",
              "    </tr>\n",
              "  </thead>\n",
              "  <tbody>\n",
              "    <tr>\n",
              "      <th>0</th>\n",
              "      <td>این اولین تجربه من برای خرید ایفون هست   امروز...</td>\n",
              "      <td>100</td>\n",
              "      <td>1</td>\n",
              "    </tr>\n",
              "    <tr>\n",
              "      <th>1</th>\n",
              "      <td>خرید این محصول رو توصیه میکنم</td>\n",
              "      <td>84</td>\n",
              "      <td>1</td>\n",
              "    </tr>\n",
              "    <tr>\n",
              "      <th>2</th>\n",
              "      <td>1 ساله این گوشی رو دارم   هیچ نقطه ضعفی ازش ند...</td>\n",
              "      <td>60</td>\n",
              "      <td>1</td>\n",
              "    </tr>\n",
              "    <tr>\n",
              "      <th>3</th>\n",
              "      <td>سلام خدمت دوستان این گوشی از همه نظر عالی  کیف...</td>\n",
              "      <td>96</td>\n",
              "      <td>1</td>\n",
              "    </tr>\n",
              "    <tr>\n",
              "      <th>4</th>\n",
              "      <td>سلام دوستانی که نگران شکستن صفحه نمایش هستند ا...</td>\n",
              "      <td>92</td>\n",
              "      <td>1</td>\n",
              "    </tr>\n",
              "  </tbody>\n",
              "</table>\n",
              "</div>\n",
              "    <div class=\"colab-df-buttons\">\n",
              "\n",
              "  <div class=\"colab-df-container\">\n",
              "    <button class=\"colab-df-convert\" onclick=\"convertToInteractive('df-1a589ab0-c14d-4e39-ac67-ed1231bfb8d7')\"\n",
              "            title=\"Convert this dataframe to an interactive table.\"\n",
              "            style=\"display:none;\">\n",
              "\n",
              "  <svg xmlns=\"http://www.w3.org/2000/svg\" height=\"24px\" viewBox=\"0 -960 960 960\">\n",
              "    <path d=\"M120-120v-720h720v720H120Zm60-500h600v-160H180v160Zm220 220h160v-160H400v160Zm0 220h160v-160H400v160ZM180-400h160v-160H180v160Zm440 0h160v-160H620v160ZM180-180h160v-160H180v160Zm440 0h160v-160H620v160Z\"/>\n",
              "  </svg>\n",
              "    </button>\n",
              "\n",
              "  <style>\n",
              "    .colab-df-container {\n",
              "      display:flex;\n",
              "      gap: 12px;\n",
              "    }\n",
              "\n",
              "    .colab-df-convert {\n",
              "      background-color: #E8F0FE;\n",
              "      border: none;\n",
              "      border-radius: 50%;\n",
              "      cursor: pointer;\n",
              "      display: none;\n",
              "      fill: #1967D2;\n",
              "      height: 32px;\n",
              "      padding: 0 0 0 0;\n",
              "      width: 32px;\n",
              "    }\n",
              "\n",
              "    .colab-df-convert:hover {\n",
              "      background-color: #E2EBFA;\n",
              "      box-shadow: 0px 1px 2px rgba(60, 64, 67, 0.3), 0px 1px 3px 1px rgba(60, 64, 67, 0.15);\n",
              "      fill: #174EA6;\n",
              "    }\n",
              "\n",
              "    .colab-df-buttons div {\n",
              "      margin-bottom: 4px;\n",
              "    }\n",
              "\n",
              "    [theme=dark] .colab-df-convert {\n",
              "      background-color: #3B4455;\n",
              "      fill: #D2E3FC;\n",
              "    }\n",
              "\n",
              "    [theme=dark] .colab-df-convert:hover {\n",
              "      background-color: #434B5C;\n",
              "      box-shadow: 0px 1px 3px 1px rgba(0, 0, 0, 0.15);\n",
              "      filter: drop-shadow(0px 1px 2px rgba(0, 0, 0, 0.3));\n",
              "      fill: #FFFFFF;\n",
              "    }\n",
              "  </style>\n",
              "\n",
              "    <script>\n",
              "      const buttonEl =\n",
              "        document.querySelector('#df-1a589ab0-c14d-4e39-ac67-ed1231bfb8d7 button.colab-df-convert');\n",
              "      buttonEl.style.display =\n",
              "        google.colab.kernel.accessAllowed ? 'block' : 'none';\n",
              "\n",
              "      async function convertToInteractive(key) {\n",
              "        const element = document.querySelector('#df-1a589ab0-c14d-4e39-ac67-ed1231bfb8d7');\n",
              "        const dataTable =\n",
              "          await google.colab.kernel.invokeFunction('convertToInteractive',\n",
              "                                                    [key], {});\n",
              "        if (!dataTable) return;\n",
              "\n",
              "        const docLinkHtml = 'Like what you see? Visit the ' +\n",
              "          '<a target=\"_blank\" href=https://colab.research.google.com/notebooks/data_table.ipynb>data table notebook</a>'\n",
              "          + ' to learn more about interactive tables.';\n",
              "        element.innerHTML = '';\n",
              "        dataTable['output_type'] = 'display_data';\n",
              "        await google.colab.output.renderOutput(dataTable, element);\n",
              "        const docLink = document.createElement('div');\n",
              "        docLink.innerHTML = docLinkHtml;\n",
              "        element.appendChild(docLink);\n",
              "      }\n",
              "    </script>\n",
              "  </div>\n",
              "\n",
              "\n",
              "<div id=\"df-87b333f0-e733-492a-91d0-94151b7003ae\">\n",
              "  <button class=\"colab-df-quickchart\" onclick=\"quickchart('df-87b333f0-e733-492a-91d0-94151b7003ae')\"\n",
              "            title=\"Suggest charts\"\n",
              "            style=\"display:none;\">\n",
              "\n",
              "<svg xmlns=\"http://www.w3.org/2000/svg\" height=\"24px\"viewBox=\"0 0 24 24\"\n",
              "     width=\"24px\">\n",
              "    <g>\n",
              "        <path d=\"M19 3H5c-1.1 0-2 .9-2 2v14c0 1.1.9 2 2 2h14c1.1 0 2-.9 2-2V5c0-1.1-.9-2-2-2zM9 17H7v-7h2v7zm4 0h-2V7h2v10zm4 0h-2v-4h2v4z\"/>\n",
              "    </g>\n",
              "</svg>\n",
              "  </button>\n",
              "\n",
              "<style>\n",
              "  .colab-df-quickchart {\n",
              "      --bg-color: #E8F0FE;\n",
              "      --fill-color: #1967D2;\n",
              "      --hover-bg-color: #E2EBFA;\n",
              "      --hover-fill-color: #174EA6;\n",
              "      --disabled-fill-color: #AAA;\n",
              "      --disabled-bg-color: #DDD;\n",
              "  }\n",
              "\n",
              "  [theme=dark] .colab-df-quickchart {\n",
              "      --bg-color: #3B4455;\n",
              "      --fill-color: #D2E3FC;\n",
              "      --hover-bg-color: #434B5C;\n",
              "      --hover-fill-color: #FFFFFF;\n",
              "      --disabled-bg-color: #3B4455;\n",
              "      --disabled-fill-color: #666;\n",
              "  }\n",
              "\n",
              "  .colab-df-quickchart {\n",
              "    background-color: var(--bg-color);\n",
              "    border: none;\n",
              "    border-radius: 50%;\n",
              "    cursor: pointer;\n",
              "    display: none;\n",
              "    fill: var(--fill-color);\n",
              "    height: 32px;\n",
              "    padding: 0;\n",
              "    width: 32px;\n",
              "  }\n",
              "\n",
              "  .colab-df-quickchart:hover {\n",
              "    background-color: var(--hover-bg-color);\n",
              "    box-shadow: 0 1px 2px rgba(60, 64, 67, 0.3), 0 1px 3px 1px rgba(60, 64, 67, 0.15);\n",
              "    fill: var(--button-hover-fill-color);\n",
              "  }\n",
              "\n",
              "  .colab-df-quickchart-complete:disabled,\n",
              "  .colab-df-quickchart-complete:disabled:hover {\n",
              "    background-color: var(--disabled-bg-color);\n",
              "    fill: var(--disabled-fill-color);\n",
              "    box-shadow: none;\n",
              "  }\n",
              "\n",
              "  .colab-df-spinner {\n",
              "    border: 2px solid var(--fill-color);\n",
              "    border-color: transparent;\n",
              "    border-bottom-color: var(--fill-color);\n",
              "    animation:\n",
              "      spin 1s steps(1) infinite;\n",
              "  }\n",
              "\n",
              "  @keyframes spin {\n",
              "    0% {\n",
              "      border-color: transparent;\n",
              "      border-bottom-color: var(--fill-color);\n",
              "      border-left-color: var(--fill-color);\n",
              "    }\n",
              "    20% {\n",
              "      border-color: transparent;\n",
              "      border-left-color: var(--fill-color);\n",
              "      border-top-color: var(--fill-color);\n",
              "    }\n",
              "    30% {\n",
              "      border-color: transparent;\n",
              "      border-left-color: var(--fill-color);\n",
              "      border-top-color: var(--fill-color);\n",
              "      border-right-color: var(--fill-color);\n",
              "    }\n",
              "    40% {\n",
              "      border-color: transparent;\n",
              "      border-right-color: var(--fill-color);\n",
              "      border-top-color: var(--fill-color);\n",
              "    }\n",
              "    60% {\n",
              "      border-color: transparent;\n",
              "      border-right-color: var(--fill-color);\n",
              "    }\n",
              "    80% {\n",
              "      border-color: transparent;\n",
              "      border-right-color: var(--fill-color);\n",
              "      border-bottom-color: var(--fill-color);\n",
              "    }\n",
              "    90% {\n",
              "      border-color: transparent;\n",
              "      border-bottom-color: var(--fill-color);\n",
              "    }\n",
              "  }\n",
              "</style>\n",
              "\n",
              "  <script>\n",
              "    async function quickchart(key) {\n",
              "      const quickchartButtonEl =\n",
              "        document.querySelector('#' + key + ' button');\n",
              "      quickchartButtonEl.disabled = true;  // To prevent multiple clicks.\n",
              "      quickchartButtonEl.classList.add('colab-df-spinner');\n",
              "      try {\n",
              "        const charts = await google.colab.kernel.invokeFunction(\n",
              "            'suggestCharts', [key], {});\n",
              "      } catch (error) {\n",
              "        console.error('Error during call to suggestCharts:', error);\n",
              "      }\n",
              "      quickchartButtonEl.classList.remove('colab-df-spinner');\n",
              "      quickchartButtonEl.classList.add('colab-df-quickchart-complete');\n",
              "    }\n",
              "    (() => {\n",
              "      let quickchartButtonEl =\n",
              "        document.querySelector('#df-87b333f0-e733-492a-91d0-94151b7003ae button');\n",
              "      quickchartButtonEl.style.display =\n",
              "        google.colab.kernel.accessAllowed ? 'block' : 'none';\n",
              "    })();\n",
              "  </script>\n",
              "</div>\n",
              "\n",
              "    </div>\n",
              "  </div>\n"
            ],
            "text/plain": [
              "                                                Text  Score  Suggestion\n",
              "0  این اولین تجربه من برای خرید ایفون هست   امروز...    100           1\n",
              "1                     خرید این محصول رو توصیه میکنم      84           1\n",
              "2  1 ساله این گوشی رو دارم   هیچ نقطه ضعفی ازش ند...     60           1\n",
              "3  سلام خدمت دوستان این گوشی از همه نظر عالی  کیف...     96           1\n",
              "4  سلام دوستانی که نگران شکستن صفحه نمایش هستند ا...     92           1"
            ]
          },
          "execution_count": 6,
          "metadata": {},
          "output_type": "execute_result"
        }
      ],
      "source": [
        "df.head()"
      ]
    },
    {
      "cell_type": "code",
      "execution_count": null,
      "metadata": {
        "colab": {
          "base_uri": "https://localhost:8080/"
        },
        "id": "oL1Zh7_bevU1",
        "outputId": "39c8e308-0264-4ea1-8ad0-3740569eb3c0"
      },
      "outputs": [
        {
          "data": {
            "text/plain": [
              "(3261, 3)"
            ]
          },
          "execution_count": 7,
          "metadata": {},
          "output_type": "execute_result"
        }
      ],
      "source": [
        "df.shape"
      ]
    },
    {
      "cell_type": "code",
      "execution_count": null,
      "metadata": {
        "id": "jlpVKVkFVHXs"
      },
      "outputs": [],
      "source": [
        "def map_label(score, suggestion):\n",
        "  if score >= 70 and suggestion == 1:\n",
        "    return 2 # Positive Data\n",
        "  elif score >= 40 and suggestion == 3:\n",
        "    return 1 # Neutral Data\n",
        "  elif score <= 40 and suggestion == 2:\n",
        "    return 0 # Negative\n",
        "  else:\n",
        "    return -1 # Noisy Data"
      ]
    },
    {
      "cell_type": "code",
      "execution_count": null,
      "metadata": {
        "id": "GLPgM3jkVwp6"
      },
      "outputs": [],
      "source": [
        "df['label'] = df.apply(lambda row: map_label(row['Score'], row['Suggestion']), axis = 1)"
      ]
    },
    {
      "cell_type": "code",
      "execution_count": null,
      "metadata": {
        "id": "aGjCvULyemI5"
      },
      "outputs": [],
      "source": [
        "df.drop(df[df['label'] == -1].index, inplace = True)"
      ]
    },
    {
      "cell_type": "code",
      "execution_count": null,
      "metadata": {
        "colab": {
          "base_uri": "https://localhost:8080/"
        },
        "id": "tSqvhHqge0Vo",
        "outputId": "f9b35af3-d235-42f1-a7ba-f1dc0f457c74"
      },
      "outputs": [
        {
          "data": {
            "text/plain": [
              "(2157, 4)"
            ]
          },
          "execution_count": 11,
          "metadata": {},
          "output_type": "execute_result"
        }
      ],
      "source": [
        "df.shape"
      ]
    },
    {
      "cell_type": "code",
      "execution_count": null,
      "metadata": {
        "colab": {
          "base_uri": "https://localhost:8080/",
          "height": 209
        },
        "id": "oK6LYd7yXfoW",
        "outputId": "7d947e21-92fb-4130-b3ff-fe3618799aec"
      },
      "outputs": [
        {
          "data": {
            "text/html": [
              "<div>\n",
              "<style scoped>\n",
              "    .dataframe tbody tr th:only-of-type {\n",
              "        vertical-align: middle;\n",
              "    }\n",
              "\n",
              "    .dataframe tbody tr th {\n",
              "        vertical-align: top;\n",
              "    }\n",
              "\n",
              "    .dataframe thead th {\n",
              "        text-align: right;\n",
              "    }\n",
              "</style>\n",
              "<table border=\"1\" class=\"dataframe\">\n",
              "  <thead>\n",
              "    <tr style=\"text-align: right;\">\n",
              "      <th></th>\n",
              "      <th>count</th>\n",
              "    </tr>\n",
              "    <tr>\n",
              "      <th>label</th>\n",
              "      <th></th>\n",
              "    </tr>\n",
              "  </thead>\n",
              "  <tbody>\n",
              "    <tr>\n",
              "      <th>2</th>\n",
              "      <td>1827</td>\n",
              "    </tr>\n",
              "    <tr>\n",
              "      <th>1</th>\n",
              "      <td>302</td>\n",
              "    </tr>\n",
              "    <tr>\n",
              "      <th>0</th>\n",
              "      <td>28</td>\n",
              "    </tr>\n",
              "  </tbody>\n",
              "</table>\n",
              "</div><br><label><b>dtype:</b> int64</label>"
            ],
            "text/plain": [
              "label\n",
              "2    1827\n",
              "1     302\n",
              "0      28\n",
              "Name: count, dtype: int64"
            ]
          },
          "execution_count": 12,
          "metadata": {},
          "output_type": "execute_result"
        }
      ],
      "source": [
        "df.value_counts('label')"
      ]
    },
    {
      "cell_type": "code",
      "execution_count": null,
      "metadata": {
        "id": "DLaJupF9USbW"
      },
      "outputs": [],
      "source": [
        "normalizer = Normalizer(statistical_space_correction = True)\n",
        "tokenizer = WordTokenizer()\n",
        "stemmer = Stemmer()"
      ]
    },
    {
      "cell_type": "code",
      "execution_count": null,
      "metadata": {
        "id": "VLRx_EDsc1S7"
      },
      "outputs": [],
      "source": [
        "def preprocess_text(text, apply_stemming = True):\n",
        "  stopwords = set(stopwords_list())\n",
        "\n",
        "  text = normalizer.normalize(text)\n",
        "  text = re.sub(r'-+', '', text)\n",
        "  text = re.sub(r'\\d+', '', text)\n",
        "  text = re.sub(r'\\s+', ' ',text).strip()\n",
        "\n",
        "  tokens = tokenizer.tokenize(text)\n",
        "\n",
        "  processed = []\n",
        "  for token in tokens:\n",
        "    if token not in stopwords:\n",
        "      if apply_stemming:\n",
        "        processed.append(stemmer.stem(token))\n",
        "      else:\n",
        "        processed.append(token)\n",
        "\n",
        "  return ' '.join(processed)"
      ]
    },
    {
      "cell_type": "code",
      "execution_count": null,
      "metadata": {
        "id": "Gyaev0T3dK3n"
      },
      "outputs": [],
      "source": [
        "df['Tokens'] = df['Text'].apply(preprocess_text)"
      ]
    },
    {
      "cell_type": "code",
      "execution_count": null,
      "metadata": {
        "id": "Yt9RjqBxfZ26"
      },
      "outputs": [],
      "source": [
        "def build_vocab(text, min_freq = 1):\n",
        "  counter = Counter()\n",
        "  for tokens in text:\n",
        "    counter.update(tokens)\n",
        "\n",
        "  vocab = {'<PAD>': 0, '<UNK>': 1}\n",
        "  for word, freq in counter.items():\n",
        "    if freq >= min_freq:\n",
        "      vocab[word] = len(vocab)\n",
        "\n",
        "  return vocab"
      ]
    },
    {
      "cell_type": "code",
      "execution_count": null,
      "metadata": {
        "id": "Li7MaLDYtjB6"
      },
      "outputs": [],
      "source": [
        "tokenized_texts = df['Tokens'].tolist()\n",
        "vocab = build_vocab(tokenized_texts)"
      ]
    },
    {
      "cell_type": "code",
      "execution_count": null,
      "metadata": {
        "id": "QD3RGp11t03q"
      },
      "outputs": [],
      "source": [
        "def tokens_to_indices(tokens, vocab):\n",
        "  return [vocab.get(token, vocab['<UNK>']) for token in tokens]"
      ]
    },
    {
      "cell_type": "code",
      "execution_count": null,
      "metadata": {
        "id": "_YIZPlyqu5U7"
      },
      "outputs": [],
      "source": [
        "def pad_sequence(seq, max_len, pad_value = 0):\n",
        "  return seq[:max_len] + [pad_value] * max(0, max_len - len(seq))"
      ]
    },
    {
      "cell_type": "code",
      "execution_count": null,
      "metadata": {
        "id": "tT032C5gT8AC"
      },
      "outputs": [],
      "source": [
        "class DigikalaDataset(Dataset):\n",
        "  def __init__(self, dataframe, vocab, max_len = 30):\n",
        "    self.vocab = vocab\n",
        "    self.max_len = max_len\n",
        "    self.texts = dataframe['Text'].tolist()\n",
        "    self.labels = dataframe['label'].tolist()\n",
        "    self.tokens_list = [preprocess_text(text) for text in self.texts]\n",
        "    self.indexed_padded = [pad_sequence(tokens_to_indices(tokens, vocab), max_len) for tokens in self.tokens_list]\n",
        "\n",
        "  def __len__(self):\n",
        "    return len(self.texts)\n",
        "\n",
        "  def __getitem__(self, idx):\n",
        "    text_tensor = torch.tensor(self.indexed_padded[idx], dtype = torch.long)\n",
        "    label_tensor = torch.tensor(self.labels[idx], dtype = torch.long)\n",
        "    return text_tensor, label_tensor"
      ]
    },
    {
      "cell_type": "code",
      "execution_count": null,
      "metadata": {
        "id": "uykpd50ahV3F"
      },
      "outputs": [],
      "source": [
        "train_df, val_df = train_test_split(df, test_size = 0.2, random_state = 42, stratify = df['label'])\n",
        "df_majority = train_df[train_df['label'] == 2]\n",
        "df_class1 = train_df[train_df['label'] == 1]\n",
        "df_class0 = train_df[train_df['label'] == 0]\n",
        "df_class1_upsampled = resample(df_class1,\n",
        "                               replace=True,\n",
        "                               n_samples=len(df_majority),\n",
        "                               random_state=42)\n",
        "\n",
        "df_class0_upsampled = resample(df_class0,\n",
        "                               replace=True,\n",
        "                               n_samples=len(df_majority),\n",
        "                               random_state=42)\n",
        "\n",
        "train_df_balanced = pd.concat([df_majority, df_class1_upsampled, df_class0_upsampled])\n",
        "train_df = train_df_balanced.sample(frac=1).reset_index(drop=True)\n",
        "\n",
        "train_dataset = DigikalaDataset(train_df, vocab, max_len = 50)\n",
        "val_dataset = DigikalaDataset(val_df, vocab, max_len = 50)\n",
        "\n",
        "train_dataloader = DataLoader(train_dataset, batch_size = 32, shuffle = True)\n",
        "val_dataloader = DataLoader(val_dataset, batch_size = 32)"
      ]
    },
    {
      "cell_type": "code",
      "execution_count": null,
      "metadata": {
        "id": "BDBIoKPqgMaG"
      },
      "outputs": [],
      "source": [
        "class Classifier(nn.Module):\n",
        "  def __init__(self, vocab_size, embedding_dim = 128, hidden_dim = 128, output_dim = 3, dropout_prob = 0.3):\n",
        "    super(Classifier, self).__init__()\n",
        "    self.embedding = nn.Embedding(vocab_size, embedding_dim, padding_idx = 0)\n",
        "    self.lstm = nn.LSTM(embedding_dim, hidden_dim, batch_first = True, bidirectional = True)\n",
        "    self.dropout = nn.Dropout(dropout_prob)\n",
        "    self.fc1 = nn.Linear(hidden_dim * 2, hidden_dim)\n",
        "    self.batch_norm = nn.BatchNorm1d(hidden_dim)\n",
        "    self.relu = nn.ReLU()\n",
        "    self.fc2 = nn.Linear(hidden_dim, output_dim)\n",
        "\n",
        "  def forward(self, x):\n",
        "    embedded = self.embedding(x)\n",
        "\n",
        "    lstm_out, (h_n, h_c) = self.lstm(embedded)\n",
        "    h_n = torch.cat((h_n[-2, :, :], h_n[-1, :, :]), dim = 1)\n",
        "    h_n = self.dropout(h_n)\n",
        "    fc1_out = self.fc1(h_n)\n",
        "    fc1_out = self.batch_norm(fc1_out)\n",
        "    fc1_out = self.relu(fc1_out)\n",
        "\n",
        "\n",
        "    output = self.fc2(fc1_out)\n",
        "    return output"
      ]
    },
    {
      "cell_type": "code",
      "execution_count": null,
      "metadata": {
        "id": "ykYmmHfIhx2T"
      },
      "outputs": [],
      "source": [
        "device = torch.device('cuda' if torch.cuda.is_available() else 'cpu')\n",
        "model = Classifier(len(vocab), embedding_dim = 128, hidden_dim = 128, output_dim = 3).to(device)\n",
        "criterion = nn.CrossEntropyLoss()\n",
        "optimizer = torch.optim.Adam(model.parameters(), lr = 0.0001)"
      ]
    },
    {
      "cell_type": "code",
      "execution_count": null,
      "metadata": {
        "id": "lyQ_igBPh_8z"
      },
      "outputs": [],
      "source": [
        "def evaluate(model, dataloader):\n",
        "  model.eval()\n",
        "  all_preds, all_labels = [], []\n",
        "\n",
        "  with torch.no_grad():\n",
        "    for inputs, labels in dataloader:\n",
        "      inputs, labels = inputs.to(device), labels.to(device)\n",
        "      outputs = model(inputs)\n",
        "      preds = torch.argmax(outputs, dim = 1)\n",
        "      all_preds.extend(preds.cpu().numpy())\n",
        "      all_labels.extend(labels.cpu().numpy())\n",
        "\n",
        "  acc = accuracy_score(all_labels, all_preds)\n",
        "  precision, recall, f1, _ = precision_recall_fscore_support(all_labels, all_preds, average = 'macro')\n",
        "\n",
        "  return acc, precision, recall, f1"
      ]
    },
    {
      "cell_type": "code",
      "execution_count": null,
      "metadata": {
        "colab": {
          "base_uri": "https://localhost:8080/"
        },
        "id": "fysPW4tlit-J",
        "outputId": "7b1ef5be-978b-4292-968b-bbfd7dc54a05"
      },
      "outputs": [
        {
          "name": "stdout",
          "output_type": "stream",
          "text": [
            "Epoch 1/100, Train Loss: 0.9357, Val Acc: 0.5069 | Val Precision: 0.3598 | Val Recall: 0.4295 | Val F1: 0.3191\n",
            "Epoch 2/100, Train Loss: 0.7296, Val Acc: 0.5231 | Val Precision: 0.3563 | Val Recall: 0.4312 | Val F1: 0.3255\n",
            "Epoch 3/100, Train Loss: 0.6185, Val Acc: 0.5463 | Val Precision: 0.3842 | Val Recall: 0.4729 | Val F1: 0.3670\n",
            "Epoch 4/100, Train Loss: 0.5400, Val Acc: 0.5579 | Val Precision: 0.3681 | Val Recall: 0.4181 | Val F1: 0.3468\n",
            "Epoch 5/100, Train Loss: 0.4803, Val Acc: 0.6273 | Val Precision: 0.3901 | Val Recall: 0.4769 | Val F1: 0.3938\n",
            "Epoch 6/100, Train Loss: 0.4350, Val Acc: 0.6505 | Val Precision: 0.3952 | Val Recall: 0.4406 | Val F1: 0.3947\n",
            "Epoch 7/100, Train Loss: 0.4007, Val Acc: 0.6435 | Val Precision: 0.3823 | Val Recall: 0.4286 | Val F1: 0.3817\n",
            "Epoch 8/100, Train Loss: 0.3678, Val Acc: 0.6829 | Val Precision: 0.3985 | Val Recall: 0.4348 | Val F1: 0.4031\n",
            "Epoch 9/100, Train Loss: 0.3399, Val Acc: 0.6806 | Val Precision: 0.3845 | Val Recall: 0.4199 | Val F1: 0.3897\n",
            "Epoch 10/100, Train Loss: 0.3171, Val Acc: 0.6921 | Val Precision: 0.4004 | Val Recall: 0.4291 | Val F1: 0.4048\n",
            "Epoch 11/100, Train Loss: 0.2942, Val Acc: 0.7106 | Val Precision: 0.4148 | Val Recall: 0.4411 | Val F1: 0.4198\n",
            "Epoch 12/100, Train Loss: 0.2665, Val Acc: 0.7292 | Val Precision: 0.4134 | Val Recall: 0.4484 | Val F1: 0.4237\n",
            "Epoch 13/100, Train Loss: 0.2413, Val Acc: 0.7431 | Val Precision: 0.4116 | Val Recall: 0.4260 | Val F1: 0.4171\n",
            "Epoch 14/100, Train Loss: 0.2241, Val Acc: 0.7407 | Val Precision: 0.4041 | Val Recall: 0.4158 | Val F1: 0.4089\n",
            "Epoch 15/100, Train Loss: 0.2057, Val Acc: 0.7361 | Val Precision: 0.4114 | Val Recall: 0.4279 | Val F1: 0.4171\n",
            "Epoch 16/100, Train Loss: 0.1831, Val Acc: 0.7407 | Val Precision: 0.4137 | Val Recall: 0.4297 | Val F1: 0.4197\n",
            "Epoch 17/100, Train Loss: 0.1640, Val Acc: 0.7685 | Val Precision: 0.4289 | Val Recall: 0.4313 | Val F1: 0.4300\n",
            "Epoch 18/100, Train Loss: 0.1426, Val Acc: 0.7847 | Val Precision: 0.4147 | Val Recall: 0.4191 | Val F1: 0.4131\n",
            "Epoch 19/100, Train Loss: 0.1277, Val Acc: 0.7616 | Val Precision: 0.4222 | Val Recall: 0.4332 | Val F1: 0.4272\n",
            "Epoch 20/100, Train Loss: 0.1204, Val Acc: 0.8056 | Val Precision: 0.4402 | Val Recall: 0.4180 | Val F1: 0.4229\n",
            "Epoch 21/100, Train Loss: 0.1064, Val Acc: 0.7639 | Val Precision: 0.4159 | Val Recall: 0.4295 | Val F1: 0.4217\n",
            "Epoch 22/100, Train Loss: 0.0904, Val Acc: 0.8056 | Val Precision: 0.4396 | Val Recall: 0.4227 | Val F1: 0.4248\n",
            "Epoch 23/100, Train Loss: 0.0807, Val Acc: 0.7894 | Val Precision: 0.4217 | Val Recall: 0.4256 | Val F1: 0.4184\n",
            "Epoch 24/100, Train Loss: 0.0716, Val Acc: 0.8102 | Val Precision: 0.4373 | Val Recall: 0.4152 | Val F1: 0.4162\n",
            "Epoch 25/100, Train Loss: 0.0624, Val Acc: 0.8102 | Val Precision: 0.4534 | Val Recall: 0.4338 | Val F1: 0.4377\n",
            "Epoch 26/100, Train Loss: 0.0584, Val Acc: 0.8032 | Val Precision: 0.4477 | Val Recall: 0.4357 | Val F1: 0.4383\n",
            "Epoch 27/100, Train Loss: 0.0488, Val Acc: 0.7986 | Val Precision: 0.4309 | Val Recall: 0.4199 | Val F1: 0.4209\n",
            "Epoch 28/100, Train Loss: 0.0441, Val Acc: 0.7963 | Val Precision: 0.4442 | Val Recall: 0.4330 | Val F1: 0.4372\n",
            "Epoch 29/100, Train Loss: 0.0416, Val Acc: 0.8218 | Val Precision: 0.4803 | Val Recall: 0.4337 | Val F1: 0.4472\n",
            "Epoch 30/100, Train Loss: 0.0347, Val Acc: 0.8125 | Val Precision: 0.4546 | Val Recall: 0.4393 | Val F1: 0.4407\n",
            "Epoch 31/100, Train Loss: 0.0323, Val Acc: 0.7986 | Val Precision: 0.4529 | Val Recall: 0.4525 | Val F1: 0.4520\n",
            "Epoch 32/100, Train Loss: 0.0292, Val Acc: 0.8009 | Val Precision: 0.4504 | Val Recall: 0.4348 | Val F1: 0.4403\n",
            "Epoch 33/100, Train Loss: 0.0265, Val Acc: 0.8125 | Val Precision: 0.4497 | Val Recall: 0.4254 | Val F1: 0.4288\n",
            "Epoch 34/100, Train Loss: 0.0246, Val Acc: 0.8287 | Val Precision: 0.4877 | Val Recall: 0.4271 | Val F1: 0.4403\n",
            "Epoch 35/100, Train Loss: 0.0264, Val Acc: 0.8009 | Val Precision: 0.4592 | Val Recall: 0.4348 | Val F1: 0.4445\n",
            "Epoch 36/100, Train Loss: 0.0209, Val Acc: 0.8009 | Val Precision: 0.4431 | Val Recall: 0.4255 | Val F1: 0.4308\n",
            "Epoch 37/100, Train Loss: 0.0176, Val Acc: 0.8287 | Val Precision: 0.4867 | Val Recall: 0.4318 | Val F1: 0.4455\n",
            "Epoch 38/100, Train Loss: 0.0177, Val Acc: 0.8241 | Val Precision: 0.4844 | Val Recall: 0.4346 | Val F1: 0.4486\n",
            "Epoch 39/100, Train Loss: 0.0187, Val Acc: 0.8056 | Val Precision: 0.4485 | Val Recall: 0.4366 | Val F1: 0.4392\n",
            "Epoch 40/100, Train Loss: 0.0137, Val Acc: 0.8148 | Val Precision: 0.4788 | Val Recall: 0.4449 | Val F1: 0.4575\n",
            "Epoch 41/100, Train Loss: 0.0113, Val Acc: 0.8241 | Val Precision: 0.4924 | Val Recall: 0.4485 | Val F1: 0.4635\n",
            "Epoch 42/100, Train Loss: 0.0162, Val Acc: 0.7685 | Val Precision: 0.4229 | Val Recall: 0.4313 | Val F1: 0.4268\n",
            "Epoch 43/100, Train Loss: 0.0130, Val Acc: 0.8218 | Val Precision: 0.4932 | Val Recall: 0.4337 | Val F1: 0.4523\n",
            "Epoch 44/100, Train Loss: 0.0124, Val Acc: 0.7986 | Val Precision: 0.4713 | Val Recall: 0.4339 | Val F1: 0.4484\n",
            "Epoch 45/100, Train Loss: 0.0134, Val Acc: 0.8148 | Val Precision: 0.4925 | Val Recall: 0.4449 | Val F1: 0.4626\n",
            "Epoch 46/100, Train Loss: 0.0119, Val Acc: 0.8056 | Val Precision: 0.4988 | Val Recall: 0.4320 | Val F1: 0.4539\n",
            "Epoch 47/100, Train Loss: 0.0103, Val Acc: 0.8264 | Val Precision: 0.4787 | Val Recall: 0.4216 | Val F1: 0.4329\n",
            "Epoch 48/100, Train Loss: 0.0074, Val Acc: 0.8056 | Val Precision: 0.4504 | Val Recall: 0.4320 | Val F1: 0.4379\n",
            "Epoch 49/100, Train Loss: 0.0070, Val Acc: 0.8287 | Val Precision: 0.4983 | Val Recall: 0.4457 | Val F1: 0.4618\n",
            "Epoch 50/100, Train Loss: 0.0105, Val Acc: 0.7870 | Val Precision: 0.4359 | Val Recall: 0.4293 | Val F1: 0.4320\n",
            "Epoch 51/100, Train Loss: 0.0092, Val Acc: 0.8009 | Val Precision: 0.4522 | Val Recall: 0.4394 | Val F1: 0.4443\n",
            "Epoch 52/100, Train Loss: 0.0100, Val Acc: 0.7917 | Val Precision: 0.4526 | Val Recall: 0.4358 | Val F1: 0.4432\n",
            "Epoch 53/100, Train Loss: 0.0053, Val Acc: 0.8079 | Val Precision: 0.4635 | Val Recall: 0.4329 | Val F1: 0.4439\n",
            "Epoch 54/100, Train Loss: 0.0062, Val Acc: 0.7870 | Val Precision: 0.4370 | Val Recall: 0.4293 | Val F1: 0.4324\n",
            "Epoch 55/100, Train Loss: 0.0057, Val Acc: 0.8032 | Val Precision: 0.4443 | Val Recall: 0.4311 | Val F1: 0.4336\n",
            "Epoch 56/100, Train Loss: 0.0037, Val Acc: 0.7986 | Val Precision: 0.4405 | Val Recall: 0.4385 | Val F1: 0.4368\n",
            "Epoch 57/100, Train Loss: 0.0086, Val Acc: 0.7801 | Val Precision: 0.4305 | Val Recall: 0.4266 | Val F1: 0.4283\n",
            "Epoch 58/100, Train Loss: 0.0056, Val Acc: 0.8102 | Val Precision: 0.4468 | Val Recall: 0.4338 | Val F1: 0.4322\n",
            "Epoch 59/100, Train Loss: 0.0178, Val Acc: 0.8148 | Val Precision: 0.4841 | Val Recall: 0.4356 | Val F1: 0.4527\n",
            "Epoch 60/100, Train Loss: 0.0083, Val Acc: 0.8079 | Val Precision: 0.4810 | Val Recall: 0.4375 | Val F1: 0.4538\n",
            "Epoch 61/100, Train Loss: 0.0044, Val Acc: 0.8218 | Val Precision: 0.5174 | Val Recall: 0.4337 | Val F1: 0.4588\n",
            "Epoch 62/100, Train Loss: 0.0056, Val Acc: 0.8356 | Val Precision: 0.5939 | Val Recall: 0.4392 | Val F1: 0.4757\n",
            "Epoch 63/100, Train Loss: 0.0054, Val Acc: 0.8356 | Val Precision: 0.5227 | Val Recall: 0.4438 | Val F1: 0.4664\n",
            "Epoch 64/100, Train Loss: 0.0111, Val Acc: 0.8194 | Val Precision: 0.4878 | Val Recall: 0.4514 | Val F1: 0.4650\n",
            "Epoch 65/100, Train Loss: 0.0037, Val Acc: 0.8194 | Val Precision: 0.4775 | Val Recall: 0.4467 | Val F1: 0.4564\n",
            "Epoch 66/100, Train Loss: 0.0034, Val Acc: 0.8125 | Val Precision: 0.4598 | Val Recall: 0.4393 | Val F1: 0.4440\n",
            "Epoch 67/100, Train Loss: 0.0026, Val Acc: 0.8194 | Val Precision: 0.4749 | Val Recall: 0.4421 | Val F1: 0.4517\n",
            "Epoch 68/100, Train Loss: 0.0027, Val Acc: 0.8171 | Val Precision: 0.4713 | Val Recall: 0.4412 | Val F1: 0.4502\n",
            "Epoch 69/100, Train Loss: 0.0060, Val Acc: 0.8287 | Val Precision: 0.5049 | Val Recall: 0.4411 | Val F1: 0.4612\n",
            "Epoch 70/100, Train Loss: 0.0052, Val Acc: 0.8310 | Val Precision: 0.5272 | Val Recall: 0.4281 | Val F1: 0.4533\n",
            "Epoch 71/100, Train Loss: 0.0042, Val Acc: 0.8264 | Val Precision: 0.5280 | Val Recall: 0.4402 | Val F1: 0.4668\n",
            "Epoch 72/100, Train Loss: 0.0030, Val Acc: 0.8241 | Val Precision: 0.4779 | Val Recall: 0.4485 | Val F1: 0.4557\n",
            "Epoch 73/100, Train Loss: 0.0023, Val Acc: 0.8171 | Val Precision: 0.4644 | Val Recall: 0.4412 | Val F1: 0.4405\n",
            "Epoch 74/100, Train Loss: 0.0034, Val Acc: 0.8218 | Val Precision: 0.4812 | Val Recall: 0.4476 | Val F1: 0.4580\n",
            "Epoch 75/100, Train Loss: 0.0021, Val Acc: 0.8310 | Val Precision: 0.4961 | Val Recall: 0.4327 | Val F1: 0.4475\n",
            "Epoch 76/100, Train Loss: 0.0018, Val Acc: 0.8102 | Val Precision: 0.4574 | Val Recall: 0.4431 | Val F1: 0.4466\n",
            "Epoch 77/100, Train Loss: 0.0018, Val Acc: 0.8310 | Val Precision: 0.4961 | Val Recall: 0.4327 | Val F1: 0.4475\n",
            "Epoch 78/100, Train Loss: 0.0032, Val Acc: 0.7963 | Val Precision: 0.4508 | Val Recall: 0.4423 | Val F1: 0.4458\n",
            "Epoch 79/100, Train Loss: 0.0087, Val Acc: 0.7847 | Val Precision: 0.4290 | Val Recall: 0.4284 | Val F1: 0.4276\n",
            "Epoch 80/100, Train Loss: 0.0061, Val Acc: 0.7986 | Val Precision: 0.4713 | Val Recall: 0.4339 | Val F1: 0.4484\n",
            "Epoch 81/100, Train Loss: 0.0037, Val Acc: 0.8218 | Val Precision: 0.4964 | Val Recall: 0.4383 | Val F1: 0.4574\n",
            "Epoch 82/100, Train Loss: 0.0032, Val Acc: 0.8241 | Val Precision: 0.7398 | Val Recall: 0.4393 | Val F1: 0.4846\n",
            "Epoch 83/100, Train Loss: 0.0056, Val Acc: 0.8171 | Val Precision: 0.4727 | Val Recall: 0.4319 | Val F1: 0.4444\n",
            "Epoch 84/100, Train Loss: 0.0052, Val Acc: 0.7917 | Val Precision: 0.4537 | Val Recall: 0.4358 | Val F1: 0.4436\n",
            "Epoch 85/100, Train Loss: 0.0044, Val Acc: 0.8102 | Val Precision: 0.4594 | Val Recall: 0.4384 | Val F1: 0.4453\n",
            "Epoch 86/100, Train Loss: 0.0095, Val Acc: 0.8426 | Val Precision: 0.5277 | Val Recall: 0.4419 | Val F1: 0.4539\n",
            "Epoch 87/100, Train Loss: 0.0052, Val Acc: 0.8194 | Val Precision: 0.4687 | Val Recall: 0.4421 | Val F1: 0.4459\n",
            "Epoch 88/100, Train Loss: 0.0028, Val Acc: 0.8079 | Val Precision: 0.4502 | Val Recall: 0.4329 | Val F1: 0.4363\n",
            "Epoch 89/100, Train Loss: 0.0017, Val Acc: 0.8287 | Val Precision: 0.5291 | Val Recall: 0.4364 | Val F1: 0.4630\n",
            "Epoch 90/100, Train Loss: 0.0023, Val Acc: 0.8218 | Val Precision: 0.5238 | Val Recall: 0.4430 | Val F1: 0.4687\n",
            "Epoch 91/100, Train Loss: 0.0115, Val Acc: 0.8241 | Val Precision: 0.4924 | Val Recall: 0.4485 | Val F1: 0.4635\n",
            "Epoch 92/100, Train Loss: 0.0042, Val Acc: 0.8241 | Val Precision: 0.5272 | Val Recall: 0.4439 | Val F1: 0.4702\n",
            "Epoch 93/100, Train Loss: 0.0053, Val Acc: 0.8102 | Val Precision: 0.4837 | Val Recall: 0.4384 | Val F1: 0.4552\n",
            "Epoch 94/100, Train Loss: 0.0046, Val Acc: 0.8148 | Val Precision: 0.5231 | Val Recall: 0.4542 | Val F1: 0.4777\n",
            "Epoch 95/100, Train Loss: 0.0020, Val Acc: 0.8403 | Val Precision: 0.6079 | Val Recall: 0.4503 | Val F1: 0.4892\n",
            "Epoch 96/100, Train Loss: 0.0028, Val Acc: 0.8194 | Val Precision: 0.4878 | Val Recall: 0.4514 | Val F1: 0.4650\n",
            "Epoch 97/100, Train Loss: 0.0022, Val Acc: 0.8056 | Val Precision: 0.4589 | Val Recall: 0.4413 | Val F1: 0.4476\n",
            "Epoch 98/100, Train Loss: 0.0013, Val Acc: 0.8102 | Val Precision: 0.4645 | Val Recall: 0.4431 | Val F1: 0.4505\n",
            "Epoch 99/100, Train Loss: 0.0017, Val Acc: 0.8310 | Val Precision: 0.5047 | Val Recall: 0.4513 | Val F1: 0.4683\n",
            "Epoch 100/100, Train Loss: 0.0016, Val Acc: 0.8426 | Val Precision: 0.5305 | Val Recall: 0.4558 | Val F1: 0.4766\n"
          ]
        }
      ],
      "source": [
        "epochs = 100\n",
        "for epoch in range(epochs):\n",
        "  model.train()\n",
        "  total_loss = 0\n",
        "  for inputs, labels in train_dataloader:\n",
        "    inputs, labels = inputs.to(device), labels.to(device)\n",
        "    optimizer.zero_grad()\n",
        "    outputs = model(inputs)\n",
        "    loss = criterion(outputs, labels)\n",
        "    loss.backward()\n",
        "    optimizer.step()\n",
        "    total_loss += loss.item()\n",
        "\n",
        "  avg_train_loss = total_loss / len(train_dataloader)\n",
        "  val_acc, val_precision, val_recall, val_f1 = evaluate(model, val_dataloader)\n",
        "  print(f'Epoch {epoch + 1}/{epochs}, Train Loss: {avg_train_loss:.4f}, Val Acc: {val_acc:.4f} | Val Precision: {val_precision:.4f} | Val Recall: {val_recall:.4f} | Val F1: {val_f1:.4f}')\n"
      ]
    },
    {
      "cell_type": "code",
      "execution_count": null,
      "metadata": {
        "colab": {
          "base_uri": "https://localhost:8080/"
        },
        "id": "NjQVmSM6jEIr",
        "outputId": "edd75dea-8345-4b16-9cac-e64126611f12"
      },
      "outputs": [
        {
          "name": "stdout",
          "output_type": "stream",
          "text": [
            "Text: کنسول که حرف نداره   واقعا عالیه  اما درباره بازی   باید بگم خوبه اما  قسمت داستانیش خیلی خوب نیست   در کمتر از 7 یا 8 ساعت تموم میشه   \n",
            "True Label: 2\n",
            "Predicted Label: 2\n",
            "----------------------------------------------------\n",
            "Text: به گوشش قطع شد بعده یک سال \n",
            "True Label: 1\n",
            "Predicted Label: 1\n",
            "----------------------------------------------------\n",
            "Text: ما که راضی هستیم  \n",
            "True Label: 2\n",
            "Predicted Label: 2\n",
            "----------------------------------------------------\n",
            "Text: خیلی عالیه از همه نظر من این لپ تاپو حدود یک سال یا بیشتره دارمش ولی یک دفعه بهش یه فلش ویروسی زدم کلا صفحش پرید ولی فرستادم گارانتی درست شد  الان هم بازیای کالاف و بتل فیلد و کانتر رو به راحتی اجرا میکنه ولی یک مقدار سرعت سیستم اومده پایین  شاید برای اینه که خیلی ازش کار کشیدم     \n",
            "True Label: 2\n",
            "Predicted Label: 2\n",
            "----------------------------------------------------\n",
            "Text: من اینو از دیجی خریدم مهمترین چیزی که کاربر باهاش سروکار داره و دایم با اون با سیستم ارتباط برقرار میکنه صفحه نمایشه که در این لپ تاپ ایسوس واقعا در عدم کیفیت سنگ تموم گذاشته  دقت کنید  در عدم کیفیت  دی وی دی رامش مثل یک فن پاور خراب پر سرو صداست موقع نصب ویندوز پدرمو در آورد حتی دی وی دی اورجینال گردو رو به زحمت میخونه دقت کنید دی وی دی من سالم و نو بود عدم داشتن بوت UEFI و کلی مشکل دیگه پیشنهاد میدم جنس ارزون نخریدد و لپتاپ زیر 2500 یا 3 تومن نخرید \n",
            "True Label: 1\n",
            "Predicted Label: 2\n",
            "----------------------------------------------------\n"
          ]
        }
      ],
      "source": [
        "model.eval()\n",
        "for i in range(5):\n",
        "  x, y_true = val_dataset[i]\n",
        "  x = x.unsqueeze(0).to(device)\n",
        "  pred_logits = model(x)\n",
        "  y_pred = torch.argmax(pred_logits, dim = 1)\n",
        "  print(f\"Text: {val_dataset.texts[i]}\")\n",
        "  print(f\"True Label: {val_dataset.labels[i]}\")\n",
        "  print(f\"Predicted Label: {y_pred.item()}\")\n",
        "  print(\"----------------------------------------------------\")\n",
        "\n"
      ]
    },
    {
      "cell_type": "code",
      "execution_count": null,
      "metadata": {
        "id": "3OXJ-OcdW3Vq"
      },
      "outputs": [],
      "source": []
    }
  ],
  "metadata": {
    "accelerator": "GPU",
    "colab": {
      "gpuType": "T4",
      "provenance": []
    },
    "kernelspec": {
      "display_name": "Python 3",
      "name": "python3"
    },
    "language_info": {
      "name": "python"
    }
  },
  "nbformat": 4,
  "nbformat_minor": 0
}
