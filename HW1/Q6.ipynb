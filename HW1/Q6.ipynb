{
  "nbformat": 4,
  "nbformat_minor": 0,
  "metadata": {
    "colab": {
      "provenance": []
    },
    "kernelspec": {
      "name": "python3",
      "display_name": "Python 3"
    },
    "language_info": {
      "name": "python"
    }
  },
  "cells": [
    {
      "cell_type": "markdown",
      "source": [
        "## Importing Required Libraries"
      ],
      "metadata": {
        "id": "Qej_7d3w8YLs"
      }
    },
    {
      "cell_type": "code",
      "source": [
        "# Installing Compatible Gensim and Numpy (Numpy 1.25.2 and gensim 4.3.3 seems right lower than 1.21.0 do not have numpy.strings function)\n",
        "!pip uninstall -y numpy gensim\n",
        "!pip install \"numpy<1.26.0,>=1.21.0\" gensim"
      ],
      "metadata": {
        "colab": {
          "base_uri": "https://localhost:8080/",
          "height": 512
        },
        "id": "78063TBjgx9v",
        "outputId": "7b614c65-ee97-4ad9-f438-b8522eadaa28"
      },
      "execution_count": 1,
      "outputs": [
        {
          "output_type": "stream",
          "name": "stdout",
          "text": [
            "Found existing installation: numpy 1.26.4\n",
            "Uninstalling numpy-1.26.4:\n",
            "  Successfully uninstalled numpy-1.26.4\n",
            "Found existing installation: gensim 4.3.3\n",
            "Uninstalling gensim-4.3.3:\n",
            "  Successfully uninstalled gensim-4.3.3\n",
            "Collecting numpy<1.26.0,>=1.21.0\n",
            "  Downloading numpy-1.25.2-cp311-cp311-manylinux_2_17_x86_64.manylinux2014_x86_64.whl.metadata (5.6 kB)\n",
            "Collecting gensim\n",
            "  Downloading gensim-4.3.3-cp311-cp311-manylinux_2_17_x86_64.manylinux2014_x86_64.whl.metadata (8.1 kB)\n",
            "Requirement already satisfied: scipy<1.14.0,>=1.7.0 in /usr/local/lib/python3.11/dist-packages (from gensim) (1.13.1)\n",
            "Requirement already satisfied: smart-open>=1.8.1 in /usr/local/lib/python3.11/dist-packages (from gensim) (7.1.0)\n",
            "Requirement already satisfied: wrapt in /usr/local/lib/python3.11/dist-packages (from smart-open>=1.8.1->gensim) (1.17.2)\n",
            "Downloading numpy-1.25.2-cp311-cp311-manylinux_2_17_x86_64.manylinux2014_x86_64.whl (18.2 MB)\n",
            "\u001b[2K   \u001b[90m━━━━━━━━━━━━━━━━━━━━━━━━━━━━━━━━━━━━━━━━\u001b[0m \u001b[32m18.2/18.2 MB\u001b[0m \u001b[31m52.7 MB/s\u001b[0m eta \u001b[36m0:00:00\u001b[0m\n",
            "\u001b[?25hDownloading gensim-4.3.3-cp311-cp311-manylinux_2_17_x86_64.manylinux2014_x86_64.whl (26.7 MB)\n",
            "\u001b[2K   \u001b[90m━━━━━━━━━━━━━━━━━━━━━━━━━━━━━━━━━━━━━━━━\u001b[0m \u001b[32m26.7/26.7 MB\u001b[0m \u001b[31m51.7 MB/s\u001b[0m eta \u001b[36m0:00:00\u001b[0m\n",
            "\u001b[?25hInstalling collected packages: numpy, gensim\n",
            "\u001b[31mERROR: pip's dependency resolver does not currently take into account all the packages that are installed. This behaviour is the source of the following dependency conflicts.\n",
            "tensorflow 2.18.0 requires numpy<2.1.0,>=1.26.0, but you have numpy 1.25.2 which is incompatible.\n",
            "langchain 0.3.19 requires numpy<2,>=1.26.4; python_version < \"3.12\", but you have numpy 1.25.2 which is incompatible.\n",
            "blosc2 3.2.0 requires numpy>=1.26, but you have numpy 1.25.2 which is incompatible.\u001b[0m\u001b[31m\n",
            "\u001b[0mSuccessfully installed gensim-4.3.3 numpy-1.25.2\n"
          ]
        },
        {
          "output_type": "display_data",
          "data": {
            "application/vnd.colab-display-data+json": {
              "pip_warning": {
                "packages": [
                  "numpy"
                ]
              },
              "id": "e8fbd527b18847a895127a2d809f7c14"
            }
          },
          "metadata": {}
        }
      ]
    },
    {
      "cell_type": "code",
      "execution_count": 2,
      "metadata": {
        "id": "_RiGPH178Vly"
      },
      "outputs": [],
      "source": [
        "import numpy as np\n",
        "import gensim\n",
        "import gensim.downloader as api\n",
        "from gensim.models import Word2Vec\n",
        "from gensim.models.word2vec import Text8Corpus\n",
        "from IPython.display import display, Markdown\n",
        "from sklearn.decomposition import PCA\n",
        "import matplotlib.pyplot as plt"
      ]
    },
    {
      "cell_type": "markdown",
      "source": [
        "## Load the Text8 Dataset\n",
        "The **Text8 dataset** is a large-scale dataset extracted from Wikipedia, often used for training word embeddings.  \n",
        "It consists of approximately 17 million words in a single text file, formatted as a sequence of words without punctuation.\n",
        "\n",
        "In this step, you will:\n",
        "1. **Download the Text8 dataset** using Gensim's downloader.\n",
        "2. **Convert it to a list named text8_corpus** to use it for training."
      ],
      "metadata": {
        "id": "w_SEJi7Z-q6S"
      }
    },
    {
      "cell_type": "code",
      "source": [
        "# For loading dataset it's enough to use load function and why should I convert it to list. it could be trained just like this in word2vec model :|||\n",
        "\n",
        "text8_corpus = api.load('text8')"
      ],
      "metadata": {
        "id": "tDfqKSux-MaW"
      },
      "execution_count": 20,
      "outputs": []
    },
    {
      "cell_type": "code",
      "source": [
        "len(list(text8_corpus))"
      ],
      "metadata": {
        "colab": {
          "base_uri": "https://localhost:8080/"
        },
        "id": "1loY3IuuXWq8",
        "outputId": "102d54fe-c22e-4bcd-d2cb-2e953b05ffeb"
      },
      "execution_count": 21,
      "outputs": [
        {
          "output_type": "execute_result",
          "data": {
            "text/plain": [
              "1701"
            ]
          },
          "metadata": {},
          "execution_count": 21
        }
      ]
    },
    {
      "cell_type": "markdown",
      "source": [
        "## Train a Word2Vec Model in CBOW Mode\n",
        "\n",
        "In this step, you will initialize a Word2Vec model and train it using a specific architecture.  \n",
        "The model will learn word representations based on a **context-predicting approach**, where surrounding words help predict the target word.  \n",
        "\n",
        "Consider the impact of different parameters such as:\n",
        "- The size of the word representations(e.g., 300 dimensions).\n",
        "- The number of neighboring words considered(e.g., 5 neighbors).\n",
        "- The minimum occurrences required for a word to be included in the vocabulary(e.g., 5 occurrences).\n",
        "- The number of CPU cores used for training(e.g., 4 cores).\n",
        "\n",
        "Run the code below to train the model for **one epoch**.\n"
      ],
      "metadata": {
        "id": "pt176_i3_WyJ"
      }
    },
    {
      "cell_type": "code",
      "source": [
        "# For creating a model we should use this class and then use train for train it.\n",
        "# Sentences means that we give our model our corpus, other parts are defined in upper markdown, sg means the skip-gram and 0 means False and show that we do not use skip-gram model.\n",
        "model = Word2Vec(sentences = text8_corpus, vector_size = 300, window = 5, min_count = 5, workers = 4, sg = 0)\n"
      ],
      "metadata": {
        "id": "S7Z8I_EW_WRx"
      },
      "execution_count": 7,
      "outputs": []
    },
    {
      "cell_type": "code",
      "source": [
        "model.train(text8_corpus, total_examples = model.corpus_count, epochs = 1)"
      ],
      "metadata": {
        "colab": {
          "base_uri": "https://localhost:8080/"
        },
        "id": "RKTE1mROQkYG",
        "outputId": "08c8c5b2-b3ae-4afc-d8dd-ff51a395af09"
      },
      "execution_count": 8,
      "outputs": [
        {
          "output_type": "stream",
          "name": "stderr",
          "text": [
            "WARNING:gensim.models.word2vec:Effective 'alpha' higher than previous training cycles\n"
          ]
        },
        {
          "output_type": "execute_result",
          "data": {
            "text/plain": [
              "(12506674, 17005207)"
            ]
          },
          "metadata": {},
          "execution_count": 8
        }
      ]
    },
    {
      "cell_type": "markdown",
      "source": [
        "## Example Words\n",
        "We select a few words of interest."
      ],
      "metadata": {
        "id": "uQcJaSCoAxB3"
      }
    },
    {
      "cell_type": "code",
      "source": [
        "words = [\"king\", \"queen\", \"man\", \"woman\", \"car\", \"bus\"]"
      ],
      "metadata": {
        "id": "MF7B3TZkApV3"
      },
      "execution_count": 9,
      "outputs": []
    },
    {
      "cell_type": "markdown",
      "source": [
        "## Compare Word Similarities\n",
        "\n",
        "After training the Word2Vec model, we can analyze how well it captures relationships between words.  \n",
        "In this step, we:\n",
        "- Find the **top 5 most similar words** for each based on cosine similarity.\n",
        "- Display the results in a structured format.\n",
        "\n",
        "Words with high similarity scores are expected to have similar meanings or occur in similar contexts.  \n",
        "If a word is **not found in the vocabulary**, it means it didn’t meet the minimum occurrence threshold during training.\n"
      ],
      "metadata": {
        "id": "rNGQ0iWqBLnk"
      }
    },
    {
      "cell_type": "code",
      "source": [
        "for word in words:\n",
        "    if word in model.wv:\n",
        "        similar_words = model.wv.most_similar(word, topn=5) # This here return 5 most similars words in our word vector similar to our vector based on CBOW\n",
        "        display(Markdown(f\"**{word}:**\"))\n",
        "        for w, score in similar_words:\n",
        "            display(Markdown(f\"- {w}: {score:.4f}\"))\n",
        "    else:\n",
        "        display(Markdown(f\"{word} not in vocabulary.\"))"
      ],
      "metadata": {
        "id": "MJY8WIl1BIEr",
        "colab": {
          "base_uri": "https://localhost:8080/",
          "height": 864
        },
        "outputId": "a44b805c-e831-4543-c321-e02a06501034"
      },
      "execution_count": 10,
      "outputs": [
        {
          "output_type": "display_data",
          "data": {
            "text/plain": [
              "<IPython.core.display.Markdown object>"
            ],
            "text/markdown": "**king:**"
          },
          "metadata": {}
        },
        {
          "output_type": "display_data",
          "data": {
            "text/plain": [
              "<IPython.core.display.Markdown object>"
            ],
            "text/markdown": "- kings: 0.6271"
          },
          "metadata": {}
        },
        {
          "output_type": "display_data",
          "data": {
            "text/plain": [
              "<IPython.core.display.Markdown object>"
            ],
            "text/markdown": "- prince: 0.6091"
          },
          "metadata": {}
        },
        {
          "output_type": "display_data",
          "data": {
            "text/plain": [
              "<IPython.core.display.Markdown object>"
            ],
            "text/markdown": "- queen: 0.5911"
          },
          "metadata": {}
        },
        {
          "output_type": "display_data",
          "data": {
            "text/plain": [
              "<IPython.core.display.Markdown object>"
            ],
            "text/markdown": "- vii: 0.5823"
          },
          "metadata": {}
        },
        {
          "output_type": "display_data",
          "data": {
            "text/plain": [
              "<IPython.core.display.Markdown object>"
            ],
            "text/markdown": "- throne: 0.5762"
          },
          "metadata": {}
        },
        {
          "output_type": "display_data",
          "data": {
            "text/plain": [
              "<IPython.core.display.Markdown object>"
            ],
            "text/markdown": "**queen:**"
          },
          "metadata": {}
        },
        {
          "output_type": "display_data",
          "data": {
            "text/plain": [
              "<IPython.core.display.Markdown object>"
            ],
            "text/markdown": "- princess: 0.6838"
          },
          "metadata": {}
        },
        {
          "output_type": "display_data",
          "data": {
            "text/plain": [
              "<IPython.core.display.Markdown object>"
            ],
            "text/markdown": "- elizabeth: 0.6818"
          },
          "metadata": {}
        },
        {
          "output_type": "display_data",
          "data": {
            "text/plain": [
              "<IPython.core.display.Markdown object>"
            ],
            "text/markdown": "- consort: 0.6036"
          },
          "metadata": {}
        },
        {
          "output_type": "display_data",
          "data": {
            "text/plain": [
              "<IPython.core.display.Markdown object>"
            ],
            "text/markdown": "- prince: 0.5991"
          },
          "metadata": {}
        },
        {
          "output_type": "display_data",
          "data": {
            "text/plain": [
              "<IPython.core.display.Markdown object>"
            ],
            "text/markdown": "- king: 0.5911"
          },
          "metadata": {}
        },
        {
          "output_type": "display_data",
          "data": {
            "text/plain": [
              "<IPython.core.display.Markdown object>"
            ],
            "text/markdown": "**man:**"
          },
          "metadata": {}
        },
        {
          "output_type": "display_data",
          "data": {
            "text/plain": [
              "<IPython.core.display.Markdown object>"
            ],
            "text/markdown": "- woman: 0.6039"
          },
          "metadata": {}
        },
        {
          "output_type": "display_data",
          "data": {
            "text/plain": [
              "<IPython.core.display.Markdown object>"
            ],
            "text/markdown": "- girl: 0.5409"
          },
          "metadata": {}
        },
        {
          "output_type": "display_data",
          "data": {
            "text/plain": [
              "<IPython.core.display.Markdown object>"
            ],
            "text/markdown": "- creature: 0.4915"
          },
          "metadata": {}
        },
        {
          "output_type": "display_data",
          "data": {
            "text/plain": [
              "<IPython.core.display.Markdown object>"
            ],
            "text/markdown": "- gentleman: 0.4853"
          },
          "metadata": {}
        },
        {
          "output_type": "display_data",
          "data": {
            "text/plain": [
              "<IPython.core.display.Markdown object>"
            ],
            "text/markdown": "- boy: 0.4842"
          },
          "metadata": {}
        },
        {
          "output_type": "display_data",
          "data": {
            "text/plain": [
              "<IPython.core.display.Markdown object>"
            ],
            "text/markdown": "**woman:**"
          },
          "metadata": {}
        },
        {
          "output_type": "display_data",
          "data": {
            "text/plain": [
              "<IPython.core.display.Markdown object>"
            ],
            "text/markdown": "- girl: 0.6850"
          },
          "metadata": {}
        },
        {
          "output_type": "display_data",
          "data": {
            "text/plain": [
              "<IPython.core.display.Markdown object>"
            ],
            "text/markdown": "- child: 0.6773"
          },
          "metadata": {}
        },
        {
          "output_type": "display_data",
          "data": {
            "text/plain": [
              "<IPython.core.display.Markdown object>"
            ],
            "text/markdown": "- lady: 0.6047"
          },
          "metadata": {}
        },
        {
          "output_type": "display_data",
          "data": {
            "text/plain": [
              "<IPython.core.display.Markdown object>"
            ],
            "text/markdown": "- man: 0.6039"
          },
          "metadata": {}
        },
        {
          "output_type": "display_data",
          "data": {
            "text/plain": [
              "<IPython.core.display.Markdown object>"
            ],
            "text/markdown": "- lover: 0.6029"
          },
          "metadata": {}
        },
        {
          "output_type": "display_data",
          "data": {
            "text/plain": [
              "<IPython.core.display.Markdown object>"
            ],
            "text/markdown": "**car:**"
          },
          "metadata": {}
        },
        {
          "output_type": "display_data",
          "data": {
            "text/plain": [
              "<IPython.core.display.Markdown object>"
            ],
            "text/markdown": "- driver: 0.7428"
          },
          "metadata": {}
        },
        {
          "output_type": "display_data",
          "data": {
            "text/plain": [
              "<IPython.core.display.Markdown object>"
            ],
            "text/markdown": "- cars: 0.6929"
          },
          "metadata": {}
        },
        {
          "output_type": "display_data",
          "data": {
            "text/plain": [
              "<IPython.core.display.Markdown object>"
            ],
            "text/markdown": "- motorcycle: 0.6874"
          },
          "metadata": {}
        },
        {
          "output_type": "display_data",
          "data": {
            "text/plain": [
              "<IPython.core.display.Markdown object>"
            ],
            "text/markdown": "- taxi: 0.6416"
          },
          "metadata": {}
        },
        {
          "output_type": "display_data",
          "data": {
            "text/plain": [
              "<IPython.core.display.Markdown object>"
            ],
            "text/markdown": "- truck: 0.6283"
          },
          "metadata": {}
        },
        {
          "output_type": "display_data",
          "data": {
            "text/plain": [
              "<IPython.core.display.Markdown object>"
            ],
            "text/markdown": "**bus:**"
          },
          "metadata": {}
        },
        {
          "output_type": "display_data",
          "data": {
            "text/plain": [
              "<IPython.core.display.Markdown object>"
            ],
            "text/markdown": "- tram: 0.7711"
          },
          "metadata": {}
        },
        {
          "output_type": "display_data",
          "data": {
            "text/plain": [
              "<IPython.core.display.Markdown object>"
            ],
            "text/markdown": "- buses: 0.7596"
          },
          "metadata": {}
        },
        {
          "output_type": "display_data",
          "data": {
            "text/plain": [
              "<IPython.core.display.Markdown object>"
            ],
            "text/markdown": "- commuter: 0.7508"
          },
          "metadata": {}
        },
        {
          "output_type": "display_data",
          "data": {
            "text/plain": [
              "<IPython.core.display.Markdown object>"
            ],
            "text/markdown": "- trains: 0.7302"
          },
          "metadata": {}
        },
        {
          "output_type": "display_data",
          "data": {
            "text/plain": [
              "<IPython.core.display.Markdown object>"
            ],
            "text/markdown": "- intercity: 0.7283"
          },
          "metadata": {}
        }
      ]
    },
    {
      "cell_type": "markdown",
      "source": [
        "## Visualizing Word Embeddings\n",
        "\n",
        "Word embeddings are high-dimensional vectors, making them difficult to interpret directly.  \n",
        "To visualize them, we use **Principal Component Analysis (PCA)** to reduce their dimensionality from 300 to 2.\n",
        "\n",
        "### Steps:\n",
        "1. Extract word vectors for selected words.\n",
        "2. Apply **PCA** to reduce dimensionality from 300 to 2.\n",
        "3. Plot the words in a 2D space.\n",
        "\n",
        "Words that appear in similar contexts should be **closer together** in the plot.\n"
      ],
      "metadata": {
        "id": "7UKf4_dFDQmh"
      }
    },
    {
      "cell_type": "code",
      "source": [
        "# Here we define our word vectors and use pca to reduce the dimensions to 2 principle components to visualize vectors better\n",
        "vectors = np.array([model.wv[word] for word in words if word in model.wv])\n",
        "pca = PCA(n_components=2)\n",
        "result = pca.fit_transform(vectors)\n",
        "plt.figure(figsize=(8,6))\n",
        "plt.scatter(result[:, 0], result[:, 1], color='blue')\n",
        "for i, word in enumerate(words):\n",
        "    if word in model.wv:\n",
        "        plt.annotate(word, (result[i, 0], result[i, 1]), fontsize=12)\n",
        "plt.title(\"Fine-Tuned Word Embeddings Visualization using CBOW\")\n",
        "plt.show()"
      ],
      "metadata": {
        "id": "5JxfpH5jA3-4",
        "colab": {
          "base_uri": "https://localhost:8080/",
          "height": 545
        },
        "outputId": "7ba9ec58-587b-46f2-d7a7-0e0de90527b9"
      },
      "execution_count": 11,
      "outputs": [
        {
          "output_type": "display_data",
          "data": {
            "text/plain": [
              "<Figure size 800x600 with 1 Axes>"
            ],
            "image/png": "[encoded data removed]"
          },
          "metadata": {}
        }
      ]
    },
    {
      "cell_type": "markdown",
      "source": [
        "## Training Word2Vec with Skip-gram\n",
        "\n",
        "Now, we will train another Word2Vec model using a different architecture called **Skip-gram**.  \n",
        "Unlike the previous CBOW approach, Skip-gram learns to predict **context words** given a target word, making it more effective for learning representations of rare words.\n",
        "\n",
        "Repeat the previous steps:\n",
        "1. Initialize a new Word2Vec model with a different training mode.\n",
        "2. Train it using the **Text8 dataset** for one epoch.\n"
      ],
      "metadata": {
        "id": "4r2wugcyEWwM"
      }
    },
    {
      "cell_type": "code",
      "source": [
        "# Just like the CBOW just the sg would be 1 because of using skip-gram model\n",
        "model_skip_gram = Word2Vec(sentences = text8_corpus, vector_size = 300, window = 5, min_count =5, workers = 4, sg = 1)\n",
        "\n",
        "model_skip_gram.train(text8_corpus, total_examples = model_skip_gram.corpus_count, epochs = 1)"
      ],
      "metadata": {
        "id": "gc_1RwDtEZp2",
        "colab": {
          "base_uri": "https://localhost:8080/"
        },
        "outputId": "15abeefa-91f9-4428-9357-a895f8346d2a"
      },
      "execution_count": 12,
      "outputs": [
        {
          "output_type": "stream",
          "name": "stderr",
          "text": [
            "WARNING:gensim.models.word2vec:Effective 'alpha' higher than previous training cycles\n"
          ]
        },
        {
          "output_type": "execute_result",
          "data": {
            "text/plain": [
              "(12506568, 17005207)"
            ]
          },
          "metadata": {},
          "execution_count": 12
        }
      ]
    },
    {
      "cell_type": "markdown",
      "source": [
        "## Compare Word Similarities (Skip-gram)\n",
        "Now, we repeat the similarity comparison, but this time using the **Skip-gram** model.\n",
        "\n",
        "- Skip-gram focuses on predicting surrounding words given a target word.\n",
        "- It is better suited for smaller datasets and learns high-quality embeddings, especially for infrequent words.\n",
        "- Here, we retrieve and display the most similar words for a given set of words.\n"
      ],
      "metadata": {
        "id": "0lSQp9c_EcLE"
      }
    },
    {
      "cell_type": "code",
      "source": [
        "for word in words:\n",
        "    if word in model_skip_gram.wv:\n",
        "        similar_words = model_skip_gram.wv.most_similar(word, topn = 5) # Just like CBOW return top 5 similar words using skip-gram this time\n",
        "        display(Markdown(f\"**{word}:**\"))\n",
        "        for w, score in similar_words:\n",
        "            display(Markdown(f\"- {w}: {score:.4f}\"))\n",
        "    else:\n",
        "        display(Markdown(f\"{word} not in vocabulary.\"))"
      ],
      "metadata": {
        "id": "NyAwow1-FG16",
        "colab": {
          "base_uri": "https://localhost:8080/",
          "height": 864
        },
        "outputId": "4b728880-7c2c-4b45-85f5-ebe8f6f73fff"
      },
      "execution_count": 22,
      "outputs": [
        {
          "output_type": "display_data",
          "data": {
            "text/plain": [
              "<IPython.core.display.Markdown object>"
            ],
            "text/markdown": "**king:**"
          },
          "metadata": {}
        },
        {
          "output_type": "display_data",
          "data": {
            "text/plain": [
              "<IPython.core.display.Markdown object>"
            ],
            "text/markdown": "- canute: 0.5920"
          },
          "metadata": {}
        },
        {
          "output_type": "display_data",
          "data": {
            "text/plain": [
              "<IPython.core.display.Markdown object>"
            ],
            "text/markdown": "- queen: 0.5745"
          },
          "metadata": {}
        },
        {
          "output_type": "display_data",
          "data": {
            "text/plain": [
              "<IPython.core.display.Markdown object>"
            ],
            "text/markdown": "- lulach: 0.5680"
          },
          "metadata": {}
        },
        {
          "output_type": "display_data",
          "data": {
            "text/plain": [
              "<IPython.core.display.Markdown object>"
            ],
            "text/markdown": "- sweyn: 0.5671"
          },
          "metadata": {}
        },
        {
          "output_type": "display_data",
          "data": {
            "text/plain": [
              "<IPython.core.display.Markdown object>"
            ],
            "text/markdown": "- haakon: 0.5636"
          },
          "metadata": {}
        },
        {
          "output_type": "display_data",
          "data": {
            "text/plain": [
              "<IPython.core.display.Markdown object>"
            ],
            "text/markdown": "**queen:**"
          },
          "metadata": {}
        },
        {
          "output_type": "display_data",
          "data": {
            "text/plain": [
              "<IPython.core.display.Markdown object>"
            ],
            "text/markdown": "- elizabeth: 0.6499"
          },
          "metadata": {}
        },
        {
          "output_type": "display_data",
          "data": {
            "text/plain": [
              "<IPython.core.display.Markdown object>"
            ],
            "text/markdown": "- consort: 0.5836"
          },
          "metadata": {}
        },
        {
          "output_type": "display_data",
          "data": {
            "text/plain": [
              "<IPython.core.display.Markdown object>"
            ],
            "text/markdown": "- margrethe: 0.5797"
          },
          "metadata": {}
        },
        {
          "output_type": "display_data",
          "data": {
            "text/plain": [
              "<IPython.core.display.Markdown object>"
            ],
            "text/markdown": "- king: 0.5745"
          },
          "metadata": {}
        },
        {
          "output_type": "display_data",
          "data": {
            "text/plain": [
              "<IPython.core.display.Markdown object>"
            ],
            "text/markdown": "- monarch: 0.5705"
          },
          "metadata": {}
        },
        {
          "output_type": "display_data",
          "data": {
            "text/plain": [
              "<IPython.core.display.Markdown object>"
            ],
            "text/markdown": "**man:**"
          },
          "metadata": {}
        },
        {
          "output_type": "display_data",
          "data": {
            "text/plain": [
              "<IPython.core.display.Markdown object>"
            ],
            "text/markdown": "- woman: 0.5123"
          },
          "metadata": {}
        },
        {
          "output_type": "display_data",
          "data": {
            "text/plain": [
              "<IPython.core.display.Markdown object>"
            ],
            "text/markdown": "- shaves: 0.5074"
          },
          "metadata": {}
        },
        {
          "output_type": "display_data",
          "data": {
            "text/plain": [
              "<IPython.core.display.Markdown object>"
            ],
            "text/markdown": "- girl: 0.4939"
          },
          "metadata": {}
        },
        {
          "output_type": "display_data",
          "data": {
            "text/plain": [
              "<IPython.core.display.Markdown object>"
            ],
            "text/markdown": "- awakens: 0.4888"
          },
          "metadata": {}
        },
        {
          "output_type": "display_data",
          "data": {
            "text/plain": [
              "<IPython.core.display.Markdown object>"
            ],
            "text/markdown": "- loner: 0.4854"
          },
          "metadata": {}
        },
        {
          "output_type": "display_data",
          "data": {
            "text/plain": [
              "<IPython.core.display.Markdown object>"
            ],
            "text/markdown": "**woman:**"
          },
          "metadata": {}
        },
        {
          "output_type": "display_data",
          "data": {
            "text/plain": [
              "<IPython.core.display.Markdown object>"
            ],
            "text/markdown": "- girl: 0.5744"
          },
          "metadata": {}
        },
        {
          "output_type": "display_data",
          "data": {
            "text/plain": [
              "<IPython.core.display.Markdown object>"
            ],
            "text/markdown": "- prostitute: 0.5395"
          },
          "metadata": {}
        },
        {
          "output_type": "display_data",
          "data": {
            "text/plain": [
              "<IPython.core.display.Markdown object>"
            ],
            "text/markdown": "- spinster: 0.5172"
          },
          "metadata": {}
        },
        {
          "output_type": "display_data",
          "data": {
            "text/plain": [
              "<IPython.core.display.Markdown object>"
            ],
            "text/markdown": "- sired: 0.5136"
          },
          "metadata": {}
        },
        {
          "output_type": "display_data",
          "data": {
            "text/plain": [
              "<IPython.core.display.Markdown object>"
            ],
            "text/markdown": "- man: 0.5123"
          },
          "metadata": {}
        },
        {
          "output_type": "display_data",
          "data": {
            "text/plain": [
              "<IPython.core.display.Markdown object>"
            ],
            "text/markdown": "**car:**"
          },
          "metadata": {}
        },
        {
          "output_type": "display_data",
          "data": {
            "text/plain": [
              "<IPython.core.display.Markdown object>"
            ],
            "text/markdown": "- cars: 0.6587"
          },
          "metadata": {}
        },
        {
          "output_type": "display_data",
          "data": {
            "text/plain": [
              "<IPython.core.display.Markdown object>"
            ],
            "text/markdown": "- driver: 0.6223"
          },
          "metadata": {}
        },
        {
          "output_type": "display_data",
          "data": {
            "text/plain": [
              "<IPython.core.display.Markdown object>"
            ],
            "text/markdown": "- truck: 0.5681"
          },
          "metadata": {}
        },
        {
          "output_type": "display_data",
          "data": {
            "text/plain": [
              "<IPython.core.display.Markdown object>"
            ],
            "text/markdown": "- automobile: 0.5555"
          },
          "metadata": {}
        },
        {
          "output_type": "display_data",
          "data": {
            "text/plain": [
              "<IPython.core.display.Markdown object>"
            ],
            "text/markdown": "- racer: 0.5519"
          },
          "metadata": {}
        },
        {
          "output_type": "display_data",
          "data": {
            "text/plain": [
              "<IPython.core.display.Markdown object>"
            ],
            "text/markdown": "**bus:**"
          },
          "metadata": {}
        },
        {
          "output_type": "display_data",
          "data": {
            "text/plain": [
              "<IPython.core.display.Markdown object>"
            ],
            "text/markdown": "- buses: 0.7258"
          },
          "metadata": {}
        },
        {
          "output_type": "display_data",
          "data": {
            "text/plain": [
              "<IPython.core.display.Markdown object>"
            ],
            "text/markdown": "- tram: 0.6434"
          },
          "metadata": {}
        },
        {
          "output_type": "display_data",
          "data": {
            "text/plain": [
              "<IPython.core.display.Markdown object>"
            ],
            "text/markdown": "- trolleybus: 0.6268"
          },
          "metadata": {}
        },
        {
          "output_type": "display_data",
          "data": {
            "text/plain": [
              "<IPython.core.display.Markdown object>"
            ],
            "text/markdown": "- intercity: 0.6263"
          },
          "metadata": {}
        },
        {
          "output_type": "display_data",
          "data": {
            "text/plain": [
              "<IPython.core.display.Markdown object>"
            ],
            "text/markdown": "- minibus: 0.6231"
          },
          "metadata": {}
        }
      ]
    },
    {
      "cell_type": "markdown",
      "source": [
        "## Visualizing Word Embeddings (Skip-gram)\n",
        "Now, we visualize the word embeddings obtained from the **Skip-gram** model."
      ],
      "metadata": {
        "id": "1_2AyIIeFR0W"
      }
    },
    {
      "cell_type": "code",
      "source": [
        "# Using PCA to reduce dimensions and visualize data better\n",
        "vectors = np.array([model_skip_gram.wv[word] for word in words if word in model_skip_gram.wv])\n",
        "pca = PCA(n_components=2)\n",
        "result = pca.fit_transform(vectors)\n",
        "plt.figure(figsize=(8,6))\n",
        "plt.scatter(result[:, 0], result[:, 1], color='blue')\n",
        "for i, word in enumerate(words):\n",
        "    if word in model.wv:\n",
        "        plt.annotate(word, (result[i, 0], result[i, 1]), fontsize=12)\n",
        "plt.title(\"Fine-Tuned Word Embeddings Visualization using Skip-Gram\")\n",
        "plt.show()"
      ],
      "metadata": {
        "id": "kz27vqbsFj8-",
        "colab": {
          "base_uri": "https://localhost:8080/",
          "height": 545
        },
        "outputId": "c209589e-575a-48f2-d657-0530b9b02d62"
      },
      "execution_count": 16,
      "outputs": [
        {
          "output_type": "display_data",
          "data": {
            "text/plain": [
              "<Figure size 800x600 with 1 Axes>"
            ],
            "image/png": "[encoded data removed]"
          },
          "metadata": {}
        }
      ]
    },
    {
      "cell_type": "markdown",
      "source": [
        "# Doc\n",
        "## CBOW Model\n",
        "https://www.geeksforgeeks.org/continuous-bag-of-words-cbow-in-nlp/\n",
        "<br> As we can see king and queen are near together in our visualzation and also in the similar words we can see them both representing in each other similar words. Also prince is in both of them and all of these show that these two words are similar.\n",
        "<br> Man and woman are very close to each other and their similar words are close to each other too.\n",
        "<br> In the end the bus and car are close to each other too that means their similar words should be close to each other too and we can saw that even when there is no same similar words but words are too close to each other.\n",
        "<br><br>\n",
        "## Skip-Gram Model\n",
        "https://spotintelligence.com/2023/07/11/skip-gram-models-explained-how-to-create-embeddings-in-word2vec/#:~:text=Skip%2Dgram%20is%20a%20popular,the%20context%20of%20word2vec%20models.\n",
        "<br>\n",
        "In skip-gram some places are changed and also we can see that queen and king are closer but car and bus got further from each other and their similar words are a little further from CBOW. Also man and woman are a little further than CBOW but their similar words still are close to each other."
      ],
      "metadata": {
        "id": "syT0jZLSY2x5"
      }
    },
    {
      "cell_type": "code",
      "source": [],
      "metadata": {
        "id": "xP1BUIL_WbYM"
      },
      "execution_count": null,
      "outputs": []
    }
  ]
}