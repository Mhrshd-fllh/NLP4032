{
  "cells": [
    {
      "cell_type": "markdown",
      "metadata": {
        "id": "tQqHYsWVTV6D"
      },
      "source": [
        "Fine-tuning a pretrained transformer BERT model for customized sentiment analysis using transformer PyTorch Trainer from Hugging Face"
      ]
    },
    {
      "cell_type": "markdown",
      "metadata": {
        "id": "TGIaWRymUQFN"
      },
      "source": [
        "# Intro"
      ]
    },
    {
      "cell_type": "markdown",
      "metadata": {
        "id": "X_Pyb011wjC6"
      },
      "source": [
        "Hugging Face provides three ways to fine-tune a pretrained text classification model: Tensorflow Keras, PyTorch, and transformer trainer. Transformer trainer is an API for feature-complete training in PyTorch without writing all the loops. This assignment will use the transformer trainer to fine-tune a text classification model. We will talk about the following:\n",
        "* How does transfer learning work?\n",
        "* How to convert a pandas dataframe into a Hugging Face Dataset?\n",
        "* How to tokenize text, load a pretrained model, set training arguments, and train a transfer learning model?\n",
        "* How to make predictions and evaluate the model performance of a fine-tuned transfer learning model for text classification?\n",
        "* How to save the model and re-load the model?\n",
        "\n",
        "Let's get started!"
      ]
    },
    {
      "cell_type": "markdown",
      "metadata": {
        "id": "8O1mw8kqWC0H"
      },
      "source": [
        "# Step 0: Transfer Learning Algorithms"
      ]
    },
    {
      "cell_type": "markdown",
      "metadata": {
        "id": "9vtKX1QdQbP2"
      },
      "source": [
        "In step 0, we will talk about how transfer learning works.\n",
        "\n",
        "Transfer learning is a machine learning technique that reuses a pretrained large deep learning model on a new task. It usually includes the following steps:\n",
        "1. Select a pretrained model that is suitable for the new task. For example, if the new task includes text from different languages, a multi-language pretrained model needs to be selected.\n",
        "2. Keep all the weights and biases from the pretrained model except for the output layer. This is because the output layer for the pretrained model is for the pretrained tasks and it needs to be replaced with the new task.\n",
        "3. Feed randomly initialize weights and biases into the new head of the new task. For a sentiment analysis transfer learning (aka fine-tuning) model on a pretrained BERT model, we will remove the head that classifies mask words, and replace it with the two sentiment analysis labels, positive and negative.\n",
        "4. Retrain the model for the new task with the new data, utilizing the pretrained weights and biases. Because the weights and biases store the knowledge learned from the pretrained model, the fine-tuned transfer learning model can build on that knowledge and does not need to learn from scratch."
      ]
    },
    {
      "cell_type": "markdown",
      "metadata": {
        "id": "RKQQXSGszh8z"
      },
      "source": [
        "# Step 1: Install And Import Python Libraries"
      ]
    },
    {
      "cell_type": "markdown",
      "metadata": {
        "id": "H2NeMSfdXOAD"
      },
      "source": [
        "In step 1, we will install and import python libraries.\n",
        "\n",
        "Firstly, let's install `transformers`, `datasets`, and `evaluate`."
      ]
    },
    {
      "cell_type": "code",
      "execution_count": 1,
      "metadata": {
        "colab": {
          "base_uri": "https://localhost:8080/"
        },
        "id": "zhlCxlYWFCHw",
        "outputId": "f4749ca1-cc49-4b6d-b705-98b20ba468db"
      },
      "outputs": [
        {
          "name": "stdout",
          "output_type": "stream",
          "text": [
            "Requirement already satisfied: transformers in /usr/local/lib/python3.11/dist-packages (4.51.3)\n",
            "Collecting datasets\n",
            "  Downloading datasets-3.5.1-py3-none-any.whl.metadata (19 kB)\n",
            "Collecting evaluate\n",
            "  Downloading evaluate-0.4.3-py3-none-any.whl.metadata (9.2 kB)\n",
            "Requirement already satisfied: filelock in /usr/local/lib/python3.11/dist-packages (from transformers) (3.18.0)\n",
            "Requirement already satisfied: huggingface-hub<1.0,>=0.30.0 in /usr/local/lib/python3.11/dist-packages (from transformers) (0.30.2)\n",
            "Requirement already satisfied: numpy>=1.17 in /usr/local/lib/python3.11/dist-packages (from transformers) (2.0.2)\n",
            "Requirement already satisfied: packaging>=20.0 in /usr/local/lib/python3.11/dist-packages (from transformers) (24.2)\n",
            "Requirement already satisfied: pyyaml>=5.1 in /usr/local/lib/python3.11/dist-packages (from transformers) (6.0.2)\n",
            "Requirement already satisfied: regex!=2019.12.17 in /usr/local/lib/python3.11/dist-packages (from transformers) (2024.11.6)\n",
            "Requirement already satisfied: requests in /usr/local/lib/python3.11/dist-packages (from transformers) (2.32.3)\n",
            "Requirement already satisfied: tokenizers<0.22,>=0.21 in /usr/local/lib/python3.11/dist-packages (from transformers) (0.21.1)\n",
            "Requirement already satisfied: safetensors>=0.4.3 in /usr/local/lib/python3.11/dist-packages (from transformers) (0.5.3)\n",
            "Requirement already satisfied: tqdm>=4.27 in /usr/local/lib/python3.11/dist-packages (from transformers) (4.67.1)\n",
            "Requirement already satisfied: pyarrow>=15.0.0 in /usr/local/lib/python3.11/dist-packages (from datasets) (18.1.0)\n",
            "Collecting dill<0.3.9,>=0.3.0 (from datasets)\n",
            "  Downloading dill-0.3.8-py3-none-any.whl.metadata (10 kB)\n",
            "Requirement already satisfied: pandas in /usr/local/lib/python3.11/dist-packages (from datasets) (2.2.2)\n",
            "Collecting xxhash (from datasets)\n",
            "  Downloading xxhash-3.5.0-cp311-cp311-manylinux_2_17_x86_64.manylinux2014_x86_64.whl.metadata (12 kB)\n",
            "Collecting multiprocess<0.70.17 (from datasets)\n",
            "  Downloading multiprocess-0.70.16-py311-none-any.whl.metadata (7.2 kB)\n",
            "Collecting fsspec<=2025.3.0,>=2023.1.0 (from fsspec[http]<=2025.3.0,>=2023.1.0->datasets)\n",
            "  Downloading fsspec-2025.3.0-py3-none-any.whl.metadata (11 kB)\n",
            "Requirement already satisfied: aiohttp in /usr/local/lib/python3.11/dist-packages (from datasets) (3.11.15)\n",
            "Requirement already satisfied: aiohappyeyeballs>=2.3.0 in /usr/local/lib/python3.11/dist-packages (from aiohttp->datasets) (2.6.1)\n",
            "Requirement already satisfied: aiosignal>=1.1.2 in /usr/local/lib/python3.11/dist-packages (from aiohttp->datasets) (1.3.2)\n",
            "Requirement already satisfied: attrs>=17.3.0 in /usr/local/lib/python3.11/dist-packages (from aiohttp->datasets) (25.3.0)\n",
            "Requirement already satisfied: frozenlist>=1.1.1 in /usr/local/lib/python3.11/dist-packages (from aiohttp->datasets) (1.6.0)\n",
            "Requirement already satisfied: multidict<7.0,>=4.5 in /usr/local/lib/python3.11/dist-packages (from aiohttp->datasets) (6.4.3)\n",
            "Requirement already satisfied: propcache>=0.2.0 in /usr/local/lib/python3.11/dist-packages (from aiohttp->datasets) (0.3.1)\n",
            "Requirement already satisfied: yarl<2.0,>=1.17.0 in /usr/local/lib/python3.11/dist-packages (from aiohttp->datasets) (1.20.0)\n",
            "Requirement already satisfied: typing-extensions>=3.7.4.3 in /usr/local/lib/python3.11/dist-packages (from huggingface-hub<1.0,>=0.30.0->transformers) (4.13.2)\n",
            "Requirement already satisfied: charset-normalizer<4,>=2 in /usr/local/lib/python3.11/dist-packages (from requests->transformers) (3.4.1)\n",
            "Requirement already satisfied: idna<4,>=2.5 in /usr/local/lib/python3.11/dist-packages (from requests->transformers) (3.10)\n",
            "Requirement already satisfied: urllib3<3,>=1.21.1 in /usr/local/lib/python3.11/dist-packages (from requests->transformers) (2.4.0)\n",
            "Requirement already satisfied: certifi>=2017.4.17 in /usr/local/lib/python3.11/dist-packages (from requests->transformers) (2025.4.26)\n",
            "Requirement already satisfied: python-dateutil>=2.8.2 in /usr/local/lib/python3.11/dist-packages (from pandas->datasets) (2.9.0.post0)\n",
            "Requirement already satisfied: pytz>=2020.1 in /usr/local/lib/python3.11/dist-packages (from pandas->datasets) (2025.2)\n",
            "Requirement already satisfied: tzdata>=2022.7 in /usr/local/lib/python3.11/dist-packages (from pandas->datasets) (2025.2)\n",
            "Requirement already satisfied: six>=1.5 in /usr/local/lib/python3.11/dist-packages (from python-dateutil>=2.8.2->pandas->datasets) (1.17.0)\n",
            "Downloading datasets-3.5.1-py3-none-any.whl (491 kB)\n",
            "\u001b[2K   \u001b[90m━━━━━━━━━━━━━━━━━━━━━━━━━━━━━━━━━━━━━━━━\u001b[0m \u001b[32m491.4/491.4 kB\u001b[0m \u001b[31m7.8 MB/s\u001b[0m eta \u001b[36m0:00:00\u001b[0m\n",
            "\u001b[?25hDownloading evaluate-0.4.3-py3-none-any.whl (84 kB)\n",
            "\u001b[2K   \u001b[90m━━━━━━━━━━━━━━━━━━━━━━━━━━━━━━━━━━━━━━━━\u001b[0m \u001b[32m84.0/84.0 kB\u001b[0m \u001b[31m4.6 MB/s\u001b[0m eta \u001b[36m0:00:00\u001b[0m\n",
            "\u001b[?25hDownloading dill-0.3.8-py3-none-any.whl (116 kB)\n",
            "\u001b[2K   \u001b[90m━━━━━━━━━━━━━━━━━━━━━━━━━━━━━━━━━━━━━━━━\u001b[0m \u001b[32m116.3/116.3 kB\u001b[0m \u001b[31m6.1 MB/s\u001b[0m eta \u001b[36m0:00:00\u001b[0m\n",
            "\u001b[?25hDownloading fsspec-2025.3.0-py3-none-any.whl (193 kB)\n",
            "\u001b[2K   \u001b[90m━━━━━━━━━━━━━━━━━━━━━━━━━━━━━━━━━━━━━━━━\u001b[0m \u001b[32m193.6/193.6 kB\u001b[0m \u001b[31m6.7 MB/s\u001b[0m eta \u001b[36m0:00:00\u001b[0m\n",
            "\u001b[?25hDownloading multiprocess-0.70.16-py311-none-any.whl (143 kB)\n",
            "\u001b[2K   \u001b[90m━━━━━━━━━━━━━━━━━━━━━━━━━━━━━━━━━━━━━━━━\u001b[0m \u001b[32m143.5/143.5 kB\u001b[0m \u001b[31m7.2 MB/s\u001b[0m eta \u001b[36m0:00:00\u001b[0m\n",
            "\u001b[?25hDownloading xxhash-3.5.0-cp311-cp311-manylinux_2_17_x86_64.manylinux2014_x86_64.whl (194 kB)\n",
            "\u001b[2K   \u001b[90m━━━━━━━━━━━━━━━━━━━━━━━━━━━━━━━━━━━━━━━━\u001b[0m \u001b[32m194.8/194.8 kB\u001b[0m \u001b[31m7.8 MB/s\u001b[0m eta \u001b[36m0:00:00\u001b[0m\n",
            "\u001b[?25hInstalling collected packages: xxhash, fsspec, dill, multiprocess, datasets, evaluate\n",
            "  Attempting uninstall: fsspec\n",
            "    Found existing installation: fsspec 2025.3.2\n",
            "    Uninstalling fsspec-2025.3.2:\n",
            "      Successfully uninstalled fsspec-2025.3.2\n",
            "\u001b[31mERROR: pip's dependency resolver does not currently take into account all the packages that are installed. This behaviour is the source of the following dependency conflicts.\n",
            "gcsfs 2025.3.2 requires fsspec==2025.3.2, but you have fsspec 2025.3.0 which is incompatible.\n",
            "torch 2.6.0+cu124 requires nvidia-cublas-cu12==12.4.5.8; platform_system == \"Linux\" and platform_machine == \"x86_64\", but you have nvidia-cublas-cu12 12.5.3.2 which is incompatible.\n",
            "torch 2.6.0+cu124 requires nvidia-cuda-cupti-cu12==12.4.127; platform_system == \"Linux\" and platform_machine == \"x86_64\", but you have nvidia-cuda-cupti-cu12 12.5.82 which is incompatible.\n",
            "torch 2.6.0+cu124 requires nvidia-cuda-nvrtc-cu12==12.4.127; platform_system == \"Linux\" and platform_machine == \"x86_64\", but you have nvidia-cuda-nvrtc-cu12 12.5.82 which is incompatible.\n",
            "torch 2.6.0+cu124 requires nvidia-cuda-runtime-cu12==12.4.127; platform_system == \"Linux\" and platform_machine == \"x86_64\", but you have nvidia-cuda-runtime-cu12 12.5.82 which is incompatible.\n",
            "torch 2.6.0+cu124 requires nvidia-cudnn-cu12==9.1.0.70; platform_system == \"Linux\" and platform_machine == \"x86_64\", but you have nvidia-cudnn-cu12 9.3.0.75 which is incompatible.\n",
            "torch 2.6.0+cu124 requires nvidia-cufft-cu12==11.2.1.3; platform_system == \"Linux\" and platform_machine == \"x86_64\", but you have nvidia-cufft-cu12 11.2.3.61 which is incompatible.\n",
            "torch 2.6.0+cu124 requires nvidia-curand-cu12==10.3.5.147; platform_system == \"Linux\" and platform_machine == \"x86_64\", but you have nvidia-curand-cu12 10.3.6.82 which is incompatible.\n",
            "torch 2.6.0+cu124 requires nvidia-cusolver-cu12==11.6.1.9; platform_system == \"Linux\" and platform_machine == \"x86_64\", but you have nvidia-cusolver-cu12 11.6.3.83 which is incompatible.\n",
            "torch 2.6.0+cu124 requires nvidia-cusparse-cu12==12.3.1.170; platform_system == \"Linux\" and platform_machine == \"x86_64\", but you have nvidia-cusparse-cu12 12.5.1.3 which is incompatible.\n",
            "torch 2.6.0+cu124 requires nvidia-nvjitlink-cu12==12.4.127; platform_system == \"Linux\" and platform_machine == \"x86_64\", but you have nvidia-nvjitlink-cu12 12.5.82 which is incompatible.\u001b[0m\u001b[31m\n",
            "\u001b[0mSuccessfully installed datasets-3.5.1 dill-0.3.8 evaluate-0.4.3 fsspec-2025.3.0 multiprocess-0.70.16 xxhash-3.5.0\n"
          ]
        }
      ],
      "source": [
        "# Install libraries\n",
        "!pip install transformers datasets evaluate"
      ]
    },
    {
      "cell_type": "markdown",
      "metadata": {
        "id": "DNcfm6_xfvK4"
      },
      "source": [
        "After installing the python packages, we will import the python libraries.\n",
        "* `pandas` and `numpy` are imported for data processing.\n",
        "* `tensorflow` and `transformers` are imported for modeling.\n",
        "* `Dataset` is imported for the Hugging Face dataset format.\n",
        "* `evaluate` is imported for model performance evaluation."
      ]
    },
    {
      "cell_type": "code",
      "execution_count": 2,
      "metadata": {
        "id": "4diGKC0ZgETX"
      },
      "outputs": [],
      "source": [
        "# Data processing\n",
        "import pandas as pd\n",
        "import numpy as np\n",
        "\n",
        "# Modeling\n",
        "import tensorflow as tf\n",
        "from transformers import AutoTokenizer, AutoModelForSequenceClassification, TrainingArguments, Trainer, EarlyStoppingCallback, TextClassificationPipeline\n",
        "\n",
        "# Hugging Face Dataset\n",
        "from datasets import Dataset\n",
        "\n",
        "# Model performance evaluation\n",
        "import evaluate"
      ]
    },
    {
      "cell_type": "markdown",
      "metadata": {
        "id": "9zsSYMz72Pj3"
      },
      "source": [
        "# Step 2: Download And Read Data"
      ]
    },
    {
      "cell_type": "markdown",
      "metadata": {
        "id": "lf9nPi8-2UyC"
      },
      "source": [
        "The second step is to download and read the dataset.\n",
        "\n",
        "The UCI Machine Learning Repository has the review data from three websites: imdb.com, amazon.com, and yelp.com. We will use the review data from amazon.com for this exercise. Please follow these steps to download the data.\n",
        "1. Go to: https://archive.ics.uci.edu/ml/datasets/Sentiment+Labelled+Sentences\n",
        "2. Click \"Data Folder\"\n",
        "3. Download \"sentiment labeled sentences.zip\"\n",
        "4. Unzip \"sentiment labeled sentences.zip\"\n",
        "5. Copy the file \"amazon_cells_labelled.txt\" to your project folder"
      ]
    },
    {
      "cell_type": "markdown",
      "metadata": {
        "id": "GN_LPDCa2YTn"
      },
      "source": [
        "Those who are using Google Colab for this analysis need to mount Google Drive to read the dataset. You can ignore the code below if you are not using Google Colab.\n",
        "* `drive.mount` is used to mount to the Google drive so the colab notebook can access the data on the Google drive.\n",
        "* `os.chdir` is used to change the default directory on Google drive. I set the default directory to the folder where the review dataset is saved.\n",
        "* `!pwd` is used to print the current working directory.\n",
        "\n",
        "Please check out [Google Colab Tutorial for Beginners](https://medium.com/towards-artificial-intelligence/google-colab-tutorial-for-beginners-834595494d44) for details about using Google Colab for data science projects."
      ]
    },
    {
      "cell_type": "code",
      "execution_count": 11,
      "metadata": {
        "colab": {
          "base_uri": "https://localhost:8080/"
        },
        "collapsed": true,
        "id": "vD9lxrv52eKU",
        "outputId": "050d0322-6a01-436e-91ef-836efbe8cbda"
      },
      "outputs": [
        {
          "name": "stdout",
          "output_type": "stream",
          "text": [
            "Drive already mounted at /content/drive; to attempt to forcibly remount, call drive.mount(\"/content/drive\", force_remount=True).\n",
            "/content/drive/MyDrive\n"
          ]
        }
      ],
      "source": [
        "# Mount Google Drive\n",
        "from google.colab import drive\n",
        "drive.mount('/content/drive')\n",
        "\n",
        "# Change directory\n",
        "import os\n",
        "os.chdir(\"/content/drive/MyDrive\")\n",
        "\n",
        "# Print out the current directory\n",
        "!pwd"
      ]
    },
    {
      "cell_type": "markdown",
      "metadata": {
        "id": "KKQzJp0V3I2Y"
      },
      "source": [
        "Now let's read the data into a `pandas` dataframe and see what the dataset looks like.\n",
        "\n",
        "The dataset has two columns. One column contains the reviews and the other column contains the sentiment label for the review."
      ]
    },
    {
      "cell_type": "code",
      "execution_count": 35,
      "metadata": {
        "colab": {
          "base_uri": "https://localhost:8080/",
          "height": 206
        },
        "id": "iHeaTdXC3KF0",
        "outputId": "104368c9-7cbd-45d5-f2e5-d228263a0654"
      },
      "outputs": [
        {
          "data": {
            "application/vnd.google.colaboratory.intrinsic+json": {
              "summary": "{\n  \"name\": \"amz_review\",\n  \"rows\": 1000,\n  \"fields\": [\n    {\n      \"column\": \"review\",\n      \"properties\": {\n        \"dtype\": \"string\",\n        \"num_unique_values\": 990,\n        \"samples\": [\n          \"The range is very decent, I've been able to roam around my house with the phone in the living room with no reception/sound quality issues.\",\n          \"The reception is excellent!\",\n          \"I would have given no star if I was able.\"\n        ],\n        \"semantic_type\": \"\",\n        \"description\": \"\"\n      }\n    },\n    {\n      \"column\": \"label\",\n      \"properties\": {\n        \"dtype\": \"number\",\n        \"std\": 0,\n        \"min\": 0,\n        \"max\": 1,\n        \"num_unique_values\": 2,\n        \"samples\": [\n          1,\n          0\n        ],\n        \"semantic_type\": \"\",\n        \"description\": \"\"\n      }\n    }\n  ]\n}",
              "type": "dataframe",
              "variable_name": "amz_review"
            },
            "text/html": [
              "\n",
              "  <div id=\"df-bb377a2b-f8c3-46ba-b454-070fa06db313\" class=\"colab-df-container\">\n",
              "    <div>\n",
              "<style scoped>\n",
              "    .dataframe tbody tr th:only-of-type {\n",
              "        vertical-align: middle;\n",
              "    }\n",
              "\n",
              "    .dataframe tbody tr th {\n",
              "        vertical-align: top;\n",
              "    }\n",
              "\n",
              "    .dataframe thead th {\n",
              "        text-align: right;\n",
              "    }\n",
              "</style>\n",
              "<table border=\"1\" class=\"dataframe\">\n",
              "  <thead>\n",
              "    <tr style=\"text-align: right;\">\n",
              "      <th></th>\n",
              "      <th>review</th>\n",
              "      <th>label</th>\n",
              "    </tr>\n",
              "  </thead>\n",
              "  <tbody>\n",
              "    <tr>\n",
              "      <th>0</th>\n",
              "      <td>So there is no way for me to plug it in here i...</td>\n",
              "      <td>0</td>\n",
              "    </tr>\n",
              "    <tr>\n",
              "      <th>1</th>\n",
              "      <td>Good case, Excellent value.</td>\n",
              "      <td>1</td>\n",
              "    </tr>\n",
              "    <tr>\n",
              "      <th>2</th>\n",
              "      <td>Great for the jawbone.</td>\n",
              "      <td>1</td>\n",
              "    </tr>\n",
              "    <tr>\n",
              "      <th>3</th>\n",
              "      <td>Tied to charger for conversations lasting more...</td>\n",
              "      <td>0</td>\n",
              "    </tr>\n",
              "    <tr>\n",
              "      <th>4</th>\n",
              "      <td>The mic is great.</td>\n",
              "      <td>1</td>\n",
              "    </tr>\n",
              "  </tbody>\n",
              "</table>\n",
              "</div>\n",
              "    <div class=\"colab-df-buttons\">\n",
              "\n",
              "  <div class=\"colab-df-container\">\n",
              "    <button class=\"colab-df-convert\" onclick=\"convertToInteractive('df-bb377a2b-f8c3-46ba-b454-070fa06db313')\"\n",
              "            title=\"Convert this dataframe to an interactive table.\"\n",
              "            style=\"display:none;\">\n",
              "\n",
              "  <svg xmlns=\"http://www.w3.org/2000/svg\" height=\"24px\" viewBox=\"0 -960 960 960\">\n",
              "    <path d=\"M120-120v-720h720v720H120Zm60-500h600v-160H180v160Zm220 220h160v-160H400v160Zm0 220h160v-160H400v160ZM180-400h160v-160H180v160Zm440 0h160v-160H620v160ZM180-180h160v-160H180v160Zm440 0h160v-160H620v160Z\"/>\n",
              "  </svg>\n",
              "    </button>\n",
              "\n",
              "  <style>\n",
              "    .colab-df-container {\n",
              "      display:flex;\n",
              "      gap: 12px;\n",
              "    }\n",
              "\n",
              "    .colab-df-convert {\n",
              "      background-color: #E8F0FE;\n",
              "      border: none;\n",
              "      border-radius: 50%;\n",
              "      cursor: pointer;\n",
              "      display: none;\n",
              "      fill: #1967D2;\n",
              "      height: 32px;\n",
              "      padding: 0 0 0 0;\n",
              "      width: 32px;\n",
              "    }\n",
              "\n",
              "    .colab-df-convert:hover {\n",
              "      background-color: #E2EBFA;\n",
              "      box-shadow: 0px 1px 2px rgba(60, 64, 67, 0.3), 0px 1px 3px 1px rgba(60, 64, 67, 0.15);\n",
              "      fill: #174EA6;\n",
              "    }\n",
              "\n",
              "    .colab-df-buttons div {\n",
              "      margin-bottom: 4px;\n",
              "    }\n",
              "\n",
              "    [theme=dark] .colab-df-convert {\n",
              "      background-color: #3B4455;\n",
              "      fill: #D2E3FC;\n",
              "    }\n",
              "\n",
              "    [theme=dark] .colab-df-convert:hover {\n",
              "      background-color: #434B5C;\n",
              "      box-shadow: 0px 1px 3px 1px rgba(0, 0, 0, 0.15);\n",
              "      filter: drop-shadow(0px 1px 2px rgba(0, 0, 0, 0.3));\n",
              "      fill: #FFFFFF;\n",
              "    }\n",
              "  </style>\n",
              "\n",
              "    <script>\n",
              "      const buttonEl =\n",
              "        document.querySelector('#df-bb377a2b-f8c3-46ba-b454-070fa06db313 button.colab-df-convert');\n",
              "      buttonEl.style.display =\n",
              "        google.colab.kernel.accessAllowed ? 'block' : 'none';\n",
              "\n",
              "      async function convertToInteractive(key) {\n",
              "        const element = document.querySelector('#df-bb377a2b-f8c3-46ba-b454-070fa06db313');\n",
              "        const dataTable =\n",
              "          await google.colab.kernel.invokeFunction('convertToInteractive',\n",
              "                                                    [key], {});\n",
              "        if (!dataTable) return;\n",
              "\n",
              "        const docLinkHtml = 'Like what you see? Visit the ' +\n",
              "          '<a target=\"_blank\" href=https://colab.research.google.com/notebooks/data_table.ipynb>data table notebook</a>'\n",
              "          + ' to learn more about interactive tables.';\n",
              "        element.innerHTML = '';\n",
              "        dataTable['output_type'] = 'display_data';\n",
              "        await google.colab.output.renderOutput(dataTable, element);\n",
              "        const docLink = document.createElement('div');\n",
              "        docLink.innerHTML = docLinkHtml;\n",
              "        element.appendChild(docLink);\n",
              "      }\n",
              "    </script>\n",
              "  </div>\n",
              "\n",
              "\n",
              "    <div id=\"df-40129e82-d6e2-4e43-a3d7-cad2f842b43f\">\n",
              "      <button class=\"colab-df-quickchart\" onclick=\"quickchart('df-40129e82-d6e2-4e43-a3d7-cad2f842b43f')\"\n",
              "                title=\"Suggest charts\"\n",
              "                style=\"display:none;\">\n",
              "\n",
              "<svg xmlns=\"http://www.w3.org/2000/svg\" height=\"24px\"viewBox=\"0 0 24 24\"\n",
              "     width=\"24px\">\n",
              "    <g>\n",
              "        <path d=\"M19 3H5c-1.1 0-2 .9-2 2v14c0 1.1.9 2 2 2h14c1.1 0 2-.9 2-2V5c0-1.1-.9-2-2-2zM9 17H7v-7h2v7zm4 0h-2V7h2v10zm4 0h-2v-4h2v4z\"/>\n",
              "    </g>\n",
              "</svg>\n",
              "      </button>\n",
              "\n",
              "<style>\n",
              "  .colab-df-quickchart {\n",
              "      --bg-color: #E8F0FE;\n",
              "      --fill-color: #1967D2;\n",
              "      --hover-bg-color: #E2EBFA;\n",
              "      --hover-fill-color: #174EA6;\n",
              "      --disabled-fill-color: #AAA;\n",
              "      --disabled-bg-color: #DDD;\n",
              "  }\n",
              "\n",
              "  [theme=dark] .colab-df-quickchart {\n",
              "      --bg-color: #3B4455;\n",
              "      --fill-color: #D2E3FC;\n",
              "      --hover-bg-color: #434B5C;\n",
              "      --hover-fill-color: #FFFFFF;\n",
              "      --disabled-bg-color: #3B4455;\n",
              "      --disabled-fill-color: #666;\n",
              "  }\n",
              "\n",
              "  .colab-df-quickchart {\n",
              "    background-color: var(--bg-color);\n",
              "    border: none;\n",
              "    border-radius: 50%;\n",
              "    cursor: pointer;\n",
              "    display: none;\n",
              "    fill: var(--fill-color);\n",
              "    height: 32px;\n",
              "    padding: 0;\n",
              "    width: 32px;\n",
              "  }\n",
              "\n",
              "  .colab-df-quickchart:hover {\n",
              "    background-color: var(--hover-bg-color);\n",
              "    box-shadow: 0 1px 2px rgba(60, 64, 67, 0.3), 0 1px 3px 1px rgba(60, 64, 67, 0.15);\n",
              "    fill: var(--button-hover-fill-color);\n",
              "  }\n",
              "\n",
              "  .colab-df-quickchart-complete:disabled,\n",
              "  .colab-df-quickchart-complete:disabled:hover {\n",
              "    background-color: var(--disabled-bg-color);\n",
              "    fill: var(--disabled-fill-color);\n",
              "    box-shadow: none;\n",
              "  }\n",
              "\n",
              "  .colab-df-spinner {\n",
              "    border: 2px solid var(--fill-color);\n",
              "    border-color: transparent;\n",
              "    border-bottom-color: var(--fill-color);\n",
              "    animation:\n",
              "      spin 1s steps(1) infinite;\n",
              "  }\n",
              "\n",
              "  @keyframes spin {\n",
              "    0% {\n",
              "      border-color: transparent;\n",
              "      border-bottom-color: var(--fill-color);\n",
              "      border-left-color: var(--fill-color);\n",
              "    }\n",
              "    20% {\n",
              "      border-color: transparent;\n",
              "      border-left-color: var(--fill-color);\n",
              "      border-top-color: var(--fill-color);\n",
              "    }\n",
              "    30% {\n",
              "      border-color: transparent;\n",
              "      border-left-color: var(--fill-color);\n",
              "      border-top-color: var(--fill-color);\n",
              "      border-right-color: var(--fill-color);\n",
              "    }\n",
              "    40% {\n",
              "      border-color: transparent;\n",
              "      border-right-color: var(--fill-color);\n",
              "      border-top-color: var(--fill-color);\n",
              "    }\n",
              "    60% {\n",
              "      border-color: transparent;\n",
              "      border-right-color: var(--fill-color);\n",
              "    }\n",
              "    80% {\n",
              "      border-color: transparent;\n",
              "      border-right-color: var(--fill-color);\n",
              "      border-bottom-color: var(--fill-color);\n",
              "    }\n",
              "    90% {\n",
              "      border-color: transparent;\n",
              "      border-bottom-color: var(--fill-color);\n",
              "    }\n",
              "  }\n",
              "</style>\n",
              "\n",
              "      <script>\n",
              "        async function quickchart(key) {\n",
              "          const quickchartButtonEl =\n",
              "            document.querySelector('#' + key + ' button');\n",
              "          quickchartButtonEl.disabled = true;  // To prevent multiple clicks.\n",
              "          quickchartButtonEl.classList.add('colab-df-spinner');\n",
              "          try {\n",
              "            const charts = await google.colab.kernel.invokeFunction(\n",
              "                'suggestCharts', [key], {});\n",
              "          } catch (error) {\n",
              "            console.error('Error during call to suggestCharts:', error);\n",
              "          }\n",
              "          quickchartButtonEl.classList.remove('colab-df-spinner');\n",
              "          quickchartButtonEl.classList.add('colab-df-quickchart-complete');\n",
              "        }\n",
              "        (() => {\n",
              "          let quickchartButtonEl =\n",
              "            document.querySelector('#df-40129e82-d6e2-4e43-a3d7-cad2f842b43f button');\n",
              "          quickchartButtonEl.style.display =\n",
              "            google.colab.kernel.accessAllowed ? 'block' : 'none';\n",
              "        })();\n",
              "      </script>\n",
              "    </div>\n",
              "\n",
              "    </div>\n",
              "  </div>\n"
            ],
            "text/plain": [
              "                                              review  label\n",
              "0  So there is no way for me to plug it in here i...      0\n",
              "1                        Good case, Excellent value.      1\n",
              "2                             Great for the jawbone.      1\n",
              "3  Tied to charger for conversations lasting more...      0\n",
              "4                                  The mic is great.      1"
            ]
          },
          "execution_count": 35,
          "metadata": {},
          "output_type": "execute_result"
        }
      ],
      "source": [
        "# Read in data\n",
        "amz_review = pd.read_csv('amazon_cells_labelled.txt', sep='\\t', names=['review', 'label'])\n",
        "\n",
        "# Take a look at the data\n",
        "amz_review.head()"
      ]
    },
    {
      "cell_type": "markdown",
      "metadata": {
        "id": "yMI16IQ7Nnj6"
      },
      "source": [
        "`.info` helps us to get information about the dataset.\n",
        "\n",
        "From the output, we can see that this data set has 1000 records and no missing data. The `review` column is the `object` type and the `label` column is the `int64` type."
      ]
    },
    {
      "cell_type": "code",
      "execution_count": 36,
      "metadata": {
        "colab": {
          "base_uri": "https://localhost:8080/"
        },
        "id": "FhFS5XPxNoRw",
        "outputId": "59e42054-d50a-4db0-dd46-1a656814c750"
      },
      "outputs": [
        {
          "name": "stdout",
          "output_type": "stream",
          "text": [
            "<class 'pandas.core.frame.DataFrame'>\n",
            "RangeIndex: 1000 entries, 0 to 999\n",
            "Data columns (total 2 columns):\n",
            " #   Column  Non-Null Count  Dtype \n",
            "---  ------  --------------  ----- \n",
            " 0   review  1000 non-null   object\n",
            " 1   label   1000 non-null   int64 \n",
            "dtypes: int64(1), object(1)\n",
            "memory usage: 15.8+ KB\n"
          ]
        }
      ],
      "source": [
        "# Get the dataset information\n",
        "amz_review.info()"
      ]
    },
    {
      "cell_type": "markdown",
      "metadata": {
        "id": "6VMuoMFwnMbV"
      },
      "source": [
        "The label value of 0 represents negative reviews and the label value of 1 represents positive reviews. The dataset has 500 positive reviews and 500 negative reviews. It is well-balanced, so we can use  accuracy as the metric to evaluate the model performance."
      ]
    },
    {
      "cell_type": "code",
      "execution_count": 37,
      "metadata": {
        "colab": {
          "base_uri": "https://localhost:8080/",
          "height": 178
        },
        "id": "16rB8tdEaYX1",
        "outputId": "3a2b4dc7-7ed3-425d-fee1-df7c62e775b9"
      },
      "outputs": [
        {
          "data": {
            "text/html": [
              "<div>\n",
              "<style scoped>\n",
              "    .dataframe tbody tr th:only-of-type {\n",
              "        vertical-align: middle;\n",
              "    }\n",
              "\n",
              "    .dataframe tbody tr th {\n",
              "        vertical-align: top;\n",
              "    }\n",
              "\n",
              "    .dataframe thead th {\n",
              "        text-align: right;\n",
              "    }\n",
              "</style>\n",
              "<table border=\"1\" class=\"dataframe\">\n",
              "  <thead>\n",
              "    <tr style=\"text-align: right;\">\n",
              "      <th></th>\n",
              "      <th>count</th>\n",
              "    </tr>\n",
              "    <tr>\n",
              "      <th>label</th>\n",
              "      <th></th>\n",
              "    </tr>\n",
              "  </thead>\n",
              "  <tbody>\n",
              "    <tr>\n",
              "      <th>0</th>\n",
              "      <td>500</td>\n",
              "    </tr>\n",
              "    <tr>\n",
              "      <th>1</th>\n",
              "      <td>500</td>\n",
              "    </tr>\n",
              "  </tbody>\n",
              "</table>\n",
              "</div><br><label><b>dtype:</b> int64</label>"
            ],
            "text/plain": [
              "label\n",
              "0    500\n",
              "1    500\n",
              "Name: count, dtype: int64"
            ]
          },
          "execution_count": 37,
          "metadata": {},
          "output_type": "execute_result"
        }
      ],
      "source": [
        "# Check the label distribution\n",
        "amz_review['label'].value_counts()"
      ]
    },
    {
      "cell_type": "markdown",
      "metadata": {
        "id": "J2rfMma3Smh7"
      },
      "source": [
        "# Step 3: Train Test Split"
      ]
    },
    {
      "cell_type": "markdown",
      "metadata": {
        "id": "BM7ZEjUCVyv3"
      },
      "source": [
        "In step 3, we will split the dataset and have 80% as the training dataset and 20% as the testing dataset.\n",
        "\n",
        "Using the `sample` method, we set `frac=0.8`, which randomly samples 80% of the data. `random_state=42` ensures that the sampling result is reproducible.\n",
        "\n",
        "Dropping the `train_data` from the review dataset gives us the rest 20% of the data, which is our testing dataset."
      ]
    },
    {
      "cell_type": "code",
      "execution_count": 38,
      "metadata": {
        "colab": {
          "base_uri": "https://localhost:8080/"
        },
        "id": "PaFydZD5BHqO",
        "outputId": "a5d2b211-c14e-4ee7-d22b-5d3ae429ec62"
      },
      "outputs": [
        {
          "name": "stdout",
          "output_type": "stream",
          "text": [
            "The training dataset has 800 records.\n",
            "The testing dataset has 200 records.\n"
          ]
        }
      ],
      "source": [
        "# Training dataset\n",
        "train_data = amz_review.sample(frac=0.8, random_state=42)\n",
        "\n",
        "# Testing dataset\n",
        "test_data = amz_review.drop(train_data.index)\n",
        "\n",
        "# Check the number of records in training and testing dataset.\n",
        "print(f'The training dataset has {len(train_data)} records.')\n",
        "print(f'The testing dataset has {len(test_data)} records.')"
      ]
    },
    {
      "cell_type": "markdown",
      "metadata": {
        "id": "aP1XBRjRWtfX"
      },
      "source": [
        "After the train test split, there are 800 reviews in the training dataset and 200 reviews in the testing dataset."
      ]
    },
    {
      "cell_type": "markdown",
      "metadata": {
        "id": "s7_KrZL1E5pH"
      },
      "source": [
        "# Step 4: Convert Pandas Dataframe to Hugging Face Dataset"
      ]
    },
    {
      "cell_type": "markdown",
      "metadata": {
        "id": "5wL7euXiEwEw"
      },
      "source": [
        "In step 4, the training and the testing datasets will be converted from pandas dataframe to Hugging Face Dataset format.\n",
        "\n",
        "Hugging Face Dataset objects are memory-mapped on drive, so they are not limited by RAM memory, which is very helpful for processing large datasets.\n",
        "\n",
        "We use `Dataset.from_pandas` to convert a pandas dataframe to a Hugging Face Dataset."
      ]
    },
    {
      "cell_type": "code",
      "execution_count": 39,
      "metadata": {
        "id": "JM0CjSK7DFWi"
      },
      "outputs": [],
      "source": [
        "# Convert pyhton dataframe to Hugging Face arrow dataset\n",
        "hg_train_data = Dataset.from_pandas(train_data)\n",
        "hg_test_data = Dataset.from_pandas(test_data)"
      ]
    },
    {
      "cell_type": "markdown",
      "metadata": {
        "id": "ljaWzXG-PEpM"
      },
      "source": [
        "The length of the Hugging Face Dataset is the same as the number of records in the pandas dataframe. For example, there are 800 records in the pandas dataframe for the training dataset, and the length of the converted Hugging Face Dataset for the training dataset is 800 too.\n",
        "\n",
        "`hg_train_data[0]` gives us the first record in the Hugging Face Dataset. It is a dictionary with three keys, `review`, `label`, and `__index_level_0__`.\n",
        "* `review` is the variable name for the review text. The name is inherited from the column name of the pandas dataframe.\n",
        "* `label` is the variable name for the sentiment of the review text. The name is inherited from the column name of the pandas dataframe too.\n",
        "* `__index_level_0__` is an automatically generated field from the pandas dataframe. It stores the index of the corresponding record."
      ]
    },
    {
      "cell_type": "code",
      "execution_count": 40,
      "metadata": {
        "colab": {
          "base_uri": "https://localhost:8080/"
        },
        "id": "tdWpRd5KKqIB",
        "outputId": "072d72b4-aa5e-4baa-90dd-52eafb043b9f"
      },
      "outputs": [
        {
          "name": "stdout",
          "output_type": "stream",
          "text": [
            "The length of hg_train_data is 800.\n",
            "\n"
          ]
        },
        {
          "data": {
            "text/plain": [
              "{'review': 'Thanks again to Amazon for having the things I need for a good price!',\n",
              " 'label': 1,\n",
              " '__index_level_0__': 521}"
            ]
          },
          "execution_count": 40,
          "metadata": {},
          "output_type": "execute_result"
        }
      ],
      "source": [
        "# Length of the Dataset\n",
        "print(f'The length of hg_train_data is {len(hg_train_data)}.\\n')\n",
        "\n",
        "# Check one review\n",
        "hg_train_data[0]"
      ]
    },
    {
      "cell_type": "markdown",
      "metadata": {
        "id": "pIGEczo3SpYd"
      },
      "source": [
        "In this example, we can see that the review is `Thanks again to Amazon for having the things I need for a good price!`, the sentiment for the review is positive/1, and the index of this record is 521 in the pandas dataframe.\n",
        "\n",
        "Checking the index 521 in the pandas dataframe confirms the same information with Hugging Face Dataset."
      ]
    },
    {
      "cell_type": "code",
      "execution_count": 41,
      "metadata": {
        "colab": {
          "base_uri": "https://localhost:8080/",
          "height": 81
        },
        "id": "uiQBYYZtOJHa",
        "outputId": "45f40431-71df-4cd6-a07a-289a24562473"
      },
      "outputs": [
        {
          "data": {
            "application/vnd.google.colaboratory.intrinsic+json": {
              "summary": "{\n  \"name\": \"amz_review\",\n  \"rows\": 1,\n  \"fields\": [\n    {\n      \"column\": \"review\",\n      \"properties\": {\n        \"dtype\": \"string\",\n        \"num_unique_values\": 1,\n        \"samples\": [\n          \"Thanks again to Amazon for having the things I need for a good price!\"\n        ],\n        \"semantic_type\": \"\",\n        \"description\": \"\"\n      }\n    },\n    {\n      \"column\": \"label\",\n      \"properties\": {\n        \"dtype\": \"number\",\n        \"std\": null,\n        \"min\": 1,\n        \"max\": 1,\n        \"num_unique_values\": 1,\n        \"samples\": [\n          1\n        ],\n        \"semantic_type\": \"\",\n        \"description\": \"\"\n      }\n    }\n  ]\n}",
              "type": "dataframe"
            },
            "text/html": [
              "\n",
              "  <div id=\"df-c48f8432-31c6-4d30-b3c4-939ad6f82875\" class=\"colab-df-container\">\n",
              "    <div>\n",
              "<style scoped>\n",
              "    .dataframe tbody tr th:only-of-type {\n",
              "        vertical-align: middle;\n",
              "    }\n",
              "\n",
              "    .dataframe tbody tr th {\n",
              "        vertical-align: top;\n",
              "    }\n",
              "\n",
              "    .dataframe thead th {\n",
              "        text-align: right;\n",
              "    }\n",
              "</style>\n",
              "<table border=\"1\" class=\"dataframe\">\n",
              "  <thead>\n",
              "    <tr style=\"text-align: right;\">\n",
              "      <th></th>\n",
              "      <th>review</th>\n",
              "      <th>label</th>\n",
              "    </tr>\n",
              "  </thead>\n",
              "  <tbody>\n",
              "    <tr>\n",
              "      <th>521</th>\n",
              "      <td>Thanks again to Amazon for having the things I...</td>\n",
              "      <td>1</td>\n",
              "    </tr>\n",
              "  </tbody>\n",
              "</table>\n",
              "</div>\n",
              "    <div class=\"colab-df-buttons\">\n",
              "\n",
              "  <div class=\"colab-df-container\">\n",
              "    <button class=\"colab-df-convert\" onclick=\"convertToInteractive('df-c48f8432-31c6-4d30-b3c4-939ad6f82875')\"\n",
              "            title=\"Convert this dataframe to an interactive table.\"\n",
              "            style=\"display:none;\">\n",
              "\n",
              "  <svg xmlns=\"http://www.w3.org/2000/svg\" height=\"24px\" viewBox=\"0 -960 960 960\">\n",
              "    <path d=\"M120-120v-720h720v720H120Zm60-500h600v-160H180v160Zm220 220h160v-160H400v160Zm0 220h160v-160H400v160ZM180-400h160v-160H180v160Zm440 0h160v-160H620v160ZM180-180h160v-160H180v160Zm440 0h160v-160H620v160Z\"/>\n",
              "  </svg>\n",
              "    </button>\n",
              "\n",
              "  <style>\n",
              "    .colab-df-container {\n",
              "      display:flex;\n",
              "      gap: 12px;\n",
              "    }\n",
              "\n",
              "    .colab-df-convert {\n",
              "      background-color: #E8F0FE;\n",
              "      border: none;\n",
              "      border-radius: 50%;\n",
              "      cursor: pointer;\n",
              "      display: none;\n",
              "      fill: #1967D2;\n",
              "      height: 32px;\n",
              "      padding: 0 0 0 0;\n",
              "      width: 32px;\n",
              "    }\n",
              "\n",
              "    .colab-df-convert:hover {\n",
              "      background-color: #E2EBFA;\n",
              "      box-shadow: 0px 1px 2px rgba(60, 64, 67, 0.3), 0px 1px 3px 1px rgba(60, 64, 67, 0.15);\n",
              "      fill: #174EA6;\n",
              "    }\n",
              "\n",
              "    .colab-df-buttons div {\n",
              "      margin-bottom: 4px;\n",
              "    }\n",
              "\n",
              "    [theme=dark] .colab-df-convert {\n",
              "      background-color: #3B4455;\n",
              "      fill: #D2E3FC;\n",
              "    }\n",
              "\n",
              "    [theme=dark] .colab-df-convert:hover {\n",
              "      background-color: #434B5C;\n",
              "      box-shadow: 0px 1px 3px 1px rgba(0, 0, 0, 0.15);\n",
              "      filter: drop-shadow(0px 1px 2px rgba(0, 0, 0, 0.3));\n",
              "      fill: #FFFFFF;\n",
              "    }\n",
              "  </style>\n",
              "\n",
              "    <script>\n",
              "      const buttonEl =\n",
              "        document.querySelector('#df-c48f8432-31c6-4d30-b3c4-939ad6f82875 button.colab-df-convert');\n",
              "      buttonEl.style.display =\n",
              "        google.colab.kernel.accessAllowed ? 'block' : 'none';\n",
              "\n",
              "      async function convertToInteractive(key) {\n",
              "        const element = document.querySelector('#df-c48f8432-31c6-4d30-b3c4-939ad6f82875');\n",
              "        const dataTable =\n",
              "          await google.colab.kernel.invokeFunction('convertToInteractive',\n",
              "                                                    [key], {});\n",
              "        if (!dataTable) return;\n",
              "\n",
              "        const docLinkHtml = 'Like what you see? Visit the ' +\n",
              "          '<a target=\"_blank\" href=https://colab.research.google.com/notebooks/data_table.ipynb>data table notebook</a>'\n",
              "          + ' to learn more about interactive tables.';\n",
              "        element.innerHTML = '';\n",
              "        dataTable['output_type'] = 'display_data';\n",
              "        await google.colab.output.renderOutput(dataTable, element);\n",
              "        const docLink = document.createElement('div');\n",
              "        docLink.innerHTML = docLinkHtml;\n",
              "        element.appendChild(docLink);\n",
              "      }\n",
              "    </script>\n",
              "  </div>\n",
              "\n",
              "\n",
              "    </div>\n",
              "  </div>\n"
            ],
            "text/plain": [
              "                                                review  label\n",
              "521  Thanks again to Amazon for having the things I...      1"
            ]
          },
          "execution_count": 41,
          "metadata": {},
          "output_type": "execute_result"
        }
      ],
      "source": [
        "# Validate the record in pandas dataframe\n",
        "amz_review.iloc[[521]]"
      ]
    },
    {
      "cell_type": "markdown",
      "metadata": {
        "id": "e596ZDPLB2a5"
      },
      "source": [
        "# Step 5: Tokenize Text"
      ]
    },
    {
      "cell_type": "markdown",
      "metadata": {
        "id": "ccd3KQcZwpFN"
      },
      "source": [
        "In step 5, we will tokenize the review text using a tokenizer.\n",
        "\n",
        "A tokenizer converts text into numbers to use as the input of the NLP (Natural Language Processing) models. Each number represents a token, which can be a word, part of a word, punctuation, or special tokens. How the text is tokenized is determined by the pretrained model. `AutoTokenizer.from_pretrained(\"bert-base-cased\")` is used to download vocabulary from the pretrained `bert-base-cased` model, meaning that the text will be tokenized like a BERT model."
      ]
    },
    {
      "cell_type": "code",
      "execution_count": 42,
      "metadata": {
        "colab": {
          "base_uri": "https://localhost:8080/"
        },
        "id": "uYVxGawWwsIS",
        "outputId": "82749ec9-4846-4d17-bda3-22d051618d33"
      },
      "outputs": [
        {
          "data": {
            "text/plain": [
              "BertTokenizerFast(name_or_path='bert-base-cased', vocab_size=28996, model_max_length=512, is_fast=True, padding_side='right', truncation_side='right', special_tokens={'unk_token': '[UNK]', 'sep_token': '[SEP]', 'pad_token': '[PAD]', 'cls_token': '[CLS]', 'mask_token': '[MASK]'}, clean_up_tokenization_spaces=False, added_tokens_decoder={\n",
              "\t0: AddedToken(\"[PAD]\", rstrip=False, lstrip=False, single_word=False, normalized=False, special=True),\n",
              "\t100: AddedToken(\"[UNK]\", rstrip=False, lstrip=False, single_word=False, normalized=False, special=True),\n",
              "\t101: AddedToken(\"[CLS]\", rstrip=False, lstrip=False, single_word=False, normalized=False, special=True),\n",
              "\t102: AddedToken(\"[SEP]\", rstrip=False, lstrip=False, single_word=False, normalized=False, special=True),\n",
              "\t103: AddedToken(\"[MASK]\", rstrip=False, lstrip=False, single_word=False, normalized=False, special=True),\n",
              "}\n",
              ")"
            ]
          },
          "execution_count": 42,
          "metadata": {},
          "output_type": "execute_result"
        }
      ],
      "source": [
        "# Tokenizer from a pretrained model\n",
        "tokenizer = AutoTokenizer.from_pretrained(\"bert-base-cased\")\n",
        "\n",
        "# Take a look at the tokenizer\n",
        "tokenizer"
      ]
    },
    {
      "cell_type": "markdown",
      "metadata": {
        "id": "OFGCx-PWw7yN"
      },
      "source": [
        "We can see that the tokenizer contains information such as model name, vocabulary size, max length, padding position, truncation position, and special tokens.\n",
        "\n",
        "There are five special tokens for the BERT model. Other models may have different special tokens.\n",
        " * The tokens that are not part of the BERT model training dataset are unknown tokens. The unknown token is [UNK] and the ID for the unknown token is 100.\n",
        " * The separator token is [SEP] and the ID for the separator token is 102.\n",
        " * The pad token is [PAD] and the ID for the pad token is 0.\n",
        " * The sentence level classification token is [CLS] and the ID for the classification token is 101.\n",
        " * The mask token is [MASK] and the ID for the mask token is 103."
      ]
    },
    {
      "cell_type": "code",
      "execution_count": 43,
      "metadata": {
        "colab": {
          "base_uri": "https://localhost:8080/"
        },
        "id": "y47m2Z6_wtyU",
        "outputId": "f7be0f32-62be-414e-ae64-f1e83f6828bc"
      },
      "outputs": [
        {
          "name": "stdout",
          "output_type": "stream",
          "text": [
            "The unknown token is [UNK] and the ID for the unkown token is 100.\n",
            "The seperator token is [SEP] and the ID for the seperator token is 102.\n",
            "The pad token is [PAD] and the ID for the pad token is 0.\n",
            "The sentence level classification token is [CLS] and the ID for the classification token is 101.\n",
            "The mask token is [MASK] and the ID for the mask token is 103.\n"
          ]
        }
      ],
      "source": [
        "# Mapping between special tokens and their IDs.\n",
        "print(f'The unknown token is {tokenizer.unk_token} and the ID for the unkown token is {tokenizer.unk_token_id}.')\n",
        "print(f'The seperator token is {tokenizer.sep_token} and the ID for the seperator token is {tokenizer.sep_token_id}.')\n",
        "print(f'The pad token is {tokenizer.pad_token} and the ID for the pad token is {tokenizer.pad_token_id}.')\n",
        "print(f'The sentence level classification token is {tokenizer.cls_token} and the ID for the classification token is {tokenizer.cls_token_id}.')\n",
        "print(f'The mask token is {tokenizer.mask_token} and the ID for the mask token is {tokenizer.mask_token_id}.')"
      ]
    },
    {
      "cell_type": "markdown",
      "metadata": {
        "id": "jgF67x23W6y2"
      },
      "source": [
        "After downloading the model vocabulary, the method `tokenizer` is used to tokenize the review corpus.\n",
        "* `max_length` indicates the maximum number of tokens kept for each document.\n",
        " * If the document has more tokens than the `max_length`, it will be truncated.\n",
        " * If the document has less tokens than the `max_length`, it will be padded with zeros.\n",
        " * If `max_length` is unset or set to `None`, the maximum length from the pretrained model will be used. If the pretrained model does not have a maximum length parameter, `max_length` will be deactivated. set it to 32 plz!\n",
        "* `truncation` controls how the token truncation is implemented. `truncation=True` indicates that the truncation length is the length specified by `max_length`. If `max_length` is not specified, the max_length of the pretrained model is used.\n",
        "* `padding` means adding zeros to shorter reviews in the dataset. The `padding` argument controls how `padding` is conducted.  \n",
        " * `padding=True` is the same as `padding='longest'`. It checks the longest sequence in the batch and pads zeros to that length. There is no padding if only one text document is provided.\n",
        " * `padding='max_length'` pads to `max_length` if it is specified, otherwise, it pads to the maximum acceptable input length for the model.\n",
        " * `padding=False` is the same as `padding='do_not_pad'`. It is the default, indicating that no padding is applied, so it can output a batch with sequences of different lengths."
      ]
    },
    {
      "cell_type": "code",
      "execution_count": null,
      "metadata": {
        "colab": {
          "base_uri": "https://localhost:8080/",
          "height": 81,
          "referenced_widgets": [
            "451d21529192409387a14068b31e8630",
            "a945a3374b574320ae3485a423c13eec",
            "fa9f37dc78904312a4817c05b4dca777",
            "737efafedf93495ebf59611752958ee1",
            "991d316b8303448a9dbbaa4c357eeefb",
            "c217d4dd6f724775a519ba94bf2f50bf",
            "e253b5bed61647b3a7f82305f53a2893",
            "d793f09c082140e58b4497d67f3593c7",
            "8ec6d7e0c7ff48bdba32b609c12a5ec5",
            "9d1eb37f5ac34cc8b3ff76ffec58275e",
            "79b8b8309d174443aad63d134aeca05f",
            "7fb18bac5ee640309a3e075683731626",
            "23b3e801d0994647871e0539193115ce",
            "596c617c0e9b45a2b9bd9d56476d76e0",
            "c32c1bc517894155ac8db0c0f510435a",
            "584113573df24923839a52283f237866",
            "9af389f3e63c4b7eadc1655f27516787",
            "4d336151394b414f965aeaf9104e7930",
            "6acbfbfed6d0473f8d73a002bf401d79",
            "a1fde85e4d8d44ed94b21b964b2b0b9d",
            "e7c6c49659844a73a2d1c31049d985b6",
            "192cd90430fd46139f7b0e450b1e7ff7"
          ]
        },
        "id": "0Pxclwx2qfk9",
        "outputId": "448e3493-3dc2-43a2-a34e-17f960d15feb"
      },
      "outputs": [
        {
          "data": {
            "application/vnd.jupyter.widget-view+json": {
              "model_id": "451d21529192409387a14068b31e8630",
              "version_major": 2,
              "version_minor": 0
            },
            "text/plain": [
              "Map:   0%|          | 0/800 [00:00<?, ? examples/s]"
            ]
          },
          "metadata": {},
          "output_type": "display_data"
        },
        {
          "data": {
            "application/vnd.jupyter.widget-view+json": {
              "model_id": "7fb18bac5ee640309a3e075683731626",
              "version_major": 2,
              "version_minor": 0
            },
            "text/plain": [
              "Map:   0%|          | 0/200 [00:00<?, ? examples/s]"
            ]
          },
          "metadata": {},
          "output_type": "display_data"
        }
      ],
      "source": [
        "# Funtion to tokenize data\n",
        "def tokenize_dataset(data): \n",
        "    return tokenizer(data['review'], padding='max_length', truncation=True, max_length=32)\n",
        "\n",
        "# Tokenize the dataset\n",
        "dataset_train = hg_train_data.map(tokenize_dataset)\n",
        "dataset_test = hg_test_data.map(tokenize_dataset)"
      ]
    },
    {
      "cell_type": "markdown",
      "metadata": {
        "id": "I7HKyIjbb0Sh"
      },
      "source": [
        "After tokenization, we can see that both the training and the testing Dataset have 6 features, `'review'`, `'label'`, `'__index_level_0__'`, `'input_ids'`, `'token_type_ids'`, and `'attention_mask'`. The number of rows is stored with `num_rows`."
      ]
    },
    {
      "cell_type": "code",
      "execution_count": 45,
      "metadata": {
        "colab": {
          "base_uri": "https://localhost:8080/"
        },
        "id": "f8b7EQgtoJzH",
        "outputId": "c899f61b-7d00-4117-db26-91d3dadf8930"
      },
      "outputs": [
        {
          "name": "stdout",
          "output_type": "stream",
          "text": [
            "Dataset({\n",
            "    features: ['review', 'label', '__index_level_0__', 'input_ids', 'token_type_ids', 'attention_mask'],\n",
            "    num_rows: 800\n",
            "})\n",
            "Dataset({\n",
            "    features: ['review', 'label', '__index_level_0__', 'input_ids', 'token_type_ids', 'attention_mask'],\n",
            "    num_rows: 200\n",
            "})\n"
          ]
        }
      ],
      "source": [
        "# Take a look at the data\n",
        "print(dataset_train)\n",
        "print(dataset_test)"
      ]
    },
    {
      "cell_type": "markdown",
      "metadata": {
        "id": "oan104mCphW7"
      },
      "source": [
        "`dataset_train[0]` gives us the content for the first record in the training dataset in a dictionary format.\n",
        "* `'review'` has the review text. The first review of the training dataset is `'Thanks again to Amazon for having the things I need for a good price!'`.\n",
        "* `'label'` is the label of the classification. The first record is a positive review, so the label is 1.\n",
        "* `'__index_level_0__'` is the index of the record. 521 means that the first record in the training dataset has the index 521 in the original pandas dataframe.\n",
        "* `'input_ids'` are the IDs for the tokens. There are 32 token IDs because the `max_length` is 32 for the tokenization.\n",
        "* `'token_type_ids'` is also called segment IDs.\n",
        " * BERT was trained on two tasks, Masked Language Modeling and Next Sentence Prediction. `'token_type_ids'` is for the Next Sentence Prediction, where two sentences are used to predict whether the second sentence is the next sentence for the first one.\n",
        " * The first sentence has all the tokens represented by zeros, and the second sentence has all the tokens represented by ones.\n",
        " * Because our classification task does not have a second sentence, all the values for `'token_type_ids'` are zeros.\n",
        "* `'attention_mask'` indicates which token ID should get attention from the model, so the padding tokens are all zeros and other tokens are 1s.\n",
        "\n"
      ]
    },
    {
      "cell_type": "code",
      "execution_count": 46,
      "metadata": {
        "colab": {
          "base_uri": "https://localhost:8080/"
        },
        "id": "gCodao7MoQt-",
        "outputId": "294c01c7-62cc-481a-aaa5-3f6703d800f8"
      },
      "outputs": [
        {
          "data": {
            "text/plain": [
              "{'review': 'Thanks again to Amazon for having the things I need for a good price!',\n",
              " 'label': 1,\n",
              " '__index_level_0__': 521,\n",
              " 'input_ids': [101,\n",
              "  5749,\n",
              "  1254,\n",
              "  1106,\n",
              "  9786,\n",
              "  1111,\n",
              "  1515,\n",
              "  1103,\n",
              "  1614,\n",
              "  146,\n",
              "  1444,\n",
              "  1111,\n",
              "  170,\n",
              "  1363,\n",
              "  3945,\n",
              "  106,\n",
              "  102,\n",
              "  0,\n",
              "  0,\n",
              "  0,\n",
              "  0,\n",
              "  0,\n",
              "  0,\n",
              "  0,\n",
              "  0,\n",
              "  0,\n",
              "  0,\n",
              "  0,\n",
              "  0,\n",
              "  0,\n",
              "  0,\n",
              "  0],\n",
              " 'token_type_ids': [0,\n",
              "  0,\n",
              "  0,\n",
              "  0,\n",
              "  0,\n",
              "  0,\n",
              "  0,\n",
              "  0,\n",
              "  0,\n",
              "  0,\n",
              "  0,\n",
              "  0,\n",
              "  0,\n",
              "  0,\n",
              "  0,\n",
              "  0,\n",
              "  0,\n",
              "  0,\n",
              "  0,\n",
              "  0,\n",
              "  0,\n",
              "  0,\n",
              "  0,\n",
              "  0,\n",
              "  0,\n",
              "  0,\n",
              "  0,\n",
              "  0,\n",
              "  0,\n",
              "  0,\n",
              "  0,\n",
              "  0],\n",
              " 'attention_mask': [1,\n",
              "  1,\n",
              "  1,\n",
              "  1,\n",
              "  1,\n",
              "  1,\n",
              "  1,\n",
              "  1,\n",
              "  1,\n",
              "  1,\n",
              "  1,\n",
              "  1,\n",
              "  1,\n",
              "  1,\n",
              "  1,\n",
              "  1,\n",
              "  1,\n",
              "  0,\n",
              "  0,\n",
              "  0,\n",
              "  0,\n",
              "  0,\n",
              "  0,\n",
              "  0,\n",
              "  0,\n",
              "  0,\n",
              "  0,\n",
              "  0,\n",
              "  0,\n",
              "  0,\n",
              "  0,\n",
              "  0]}"
            ]
          },
          "execution_count": 46,
          "metadata": {},
          "output_type": "execute_result"
        }
      ],
      "source": [
        "# Check the first record\n",
        "dataset_train[0]"
      ]
    },
    {
      "cell_type": "markdown",
      "metadata": {
        "id": "pInnpLnyZ0xF"
      },
      "source": [
        "# Step 6: Load Pretrained Model"
      ]
    },
    {
      "cell_type": "markdown",
      "metadata": {
        "id": "mKw8n6QsnstR"
      },
      "source": [
        "In step 6, we will load the pretrained model for sentiment analysis.\n",
        "\n",
        "* `AutoModelForSequenceClassification` loads the BERT model without the sequence classification head.\n",
        "* The method `from_pretrained()` loads the weights from the pretrained model into the new model, so the weights in the new model are not randomly initialized. Note that the new weights for the new sequence classification head are going to be randomly initialized.\n",
        "* `bert-base-cased` is the name of the pretrained model. We can change it to a different model based on the nature of the project.\n",
        "* `num_labels` indicates the number of classes. Our dataset has two classes, positive and negative, so `num_labels=2`."
      ]
    },
    {
      "cell_type": "code",
      "execution_count": 47,
      "metadata": {
        "colab": {
          "base_uri": "https://localhost:8080/"
        },
        "id": "alXwU9ylqGSR",
        "outputId": "4ffe992b-aa52-458c-89d4-b9d24dbf0f42"
      },
      "outputs": [
        {
          "name": "stderr",
          "output_type": "stream",
          "text": [
            "Some weights of BertForSequenceClassification were not initialized from the model checkpoint at bert-base-cased and are newly initialized: ['classifier.bias', 'classifier.weight']\n",
            "You should probably TRAIN this model on a down-stream task to be able to use it for predictions and inference.\n"
          ]
        }
      ],
      "source": [
        "# Load model\n",
        "model = AutoModelForSequenceClassification.from_pretrained(\"bert-base-cased\", num_labels=2)"
      ]
    },
    {
      "cell_type": "markdown",
      "metadata": {
        "id": "c5SRFC8b0QIm"
      },
      "source": [
        "# Step 7: Set Training Argument"
      ]
    },
    {
      "cell_type": "markdown",
      "metadata": {
        "id": "xrTVGiENPznD"
      },
      "source": [
        "In step 7, we will set the training arguments for the model.\n",
        "\n",
        "Hugging Face has 96 parameters for `TrainingArguments`, which provides a lot of flexibility in fine-tuning the transfer learning model.\n",
        "* `output_dir` is the directory to write the model checkpoints and model predictions.\n",
        "* `logging_dir` is the directory for saving logs.\n",
        "* `logging_strategy` is the strategy for logging the training information.\n",
        " * `'no'` means no logging for the training.\n",
        " * `'epoch'` means logging at the end of each epoch.\n",
        " * `'steps'` means logging at the end of each `logging_steps`.\n",
        "* `logging_steps` is the number of steps between two logs. The default is 500.\n",
        "* `num_train_epochs` is the total number of training epochs. The default value is 3.\n",
        "* `per_device_train_batch_size` is the batch size per GPU/TPU core/CPU for training. The default value is 8. you can set it to 4\n",
        "* `per_device_eval_batch_size` is the batch size per GPU/TPU core/CPU for evaluation. The default value is 8. you can set it to 4\n",
        "* `learning_rate` is the initial learning rate for AdamW optimizer. The default value is 5e-5.\n",
        "* `seed` is for reproducibility.\n",
        "* `save_strategy` is the strategy for saving the checkpoint during training.\n",
        " * `'no'` means do not save during training.\n",
        " * `'epoch'` means saving at the end of each epoch.\n",
        " * `'steps'` means saving at the end of each `save_steps`. `'steps'` is the default value.\n",
        "* `save_steps` is the number of steps before two checkpoint saves. The default value is 500.\n",
        "* `evaluation_strategy` is the strategy for evaluation during training. It's helpful for us to monitor the model performance during model fine-tuning.\n",
        " * `'no'` means no evaluation during training.\n",
        " * `'epoch'` means evaluating at the end of each epoch and the evaluation results will be printed out at the end of each epoch.\n",
        " * `'steps'` means evaluating and reporting at the end of each `eval_steps`. `'no'` is the default value.\n",
        "* `eval_steps` is the number of steps between two evaluations if `evaluation_strategy='steps'`. It defaults to the same value as `logging_steps` if not set.\n",
        "* `load_best_model_at_end=True` indicates that the best model will be loaded at the end of the training. The default is `False`. When it is set to `True`, the `save_strategy` and `evaluation_strategy` must be the same. When both arguments are `'steps'`, the value of `save_steps` needs to be a round multiple of the value of `eval_steps`."
      ]
    },
    {
      "cell_type": "code",
      "execution_count": 48,
      "metadata": {
        "id": "aoM8kA7xv61O"
      },
      "outputs": [],
      "source": [
        "# Set up training arguments\n",
        "training_args = TrainingArguments(\n",
        "    output_dir=\"./sentiment_transfer_learning_transformer/\",\n",
        "    logging_dir='./sentiment_transfer_learning_transformer/logs',\n",
        "    logging_strategy='epoch',\n",
        "    logging_steps=100,\n",
        "    num_train_epochs=3,\n",
        "    per_device_train_batch_size=4,\n",
        "    per_device_eval_batch_size=4,\n",
        "    learning_rate=5e-5,\n",
        "    seed=42,\n",
        "    save_strategy='epoch',\n",
        "    save_steps=100,\n",
        "    eval_strategy='epoch',\n",
        "    eval_steps=100,\n",
        "    load_best_model_at_end=True,\n",
        "    report_to=\"none\",  # Disables W&B logging\n",
        ")"
      ]
    },
    {
      "cell_type": "markdown",
      "metadata": {
        "id": "lLAPSRzVNHYH"
      },
      "source": [
        "# Step 8: Set Evaluation Metrics"
      ]
    },
    {
      "cell_type": "markdown",
      "metadata": {
        "id": "uz6C-lCncrJb"
      },
      "source": [
        "In step 8, we will set the evaluation metric because Hugging Face Trainer does not evaluate the model performance automatically during the training process.\n",
        "\n",
        "Hugging Face has an `evaluate` library with over 100 evaluation modules. We can see the list of all the modules using `evaluate.list_evaluation_modules()`."
      ]
    },
    {
      "cell_type": "code",
      "execution_count": 49,
      "metadata": {
        "colab": {
          "base_uri": "https://localhost:8080/"
        },
        "id": "X0cir3_DYCkr",
        "outputId": "7b6f5deb-b364-4d12-d7c7-92d6746d566f"
      },
      "outputs": [
        {
          "name": "stdout",
          "output_type": "stream",
          "text": [
            "There are 207 evaluation models in Hugging Face.\n",
            "\n"
          ]
        },
        {
          "data": {
            "text/plain": [
              "['codeparrot/apps_metric',\n",
              " 'lvwerra/test',\n",
              " 'angelina-wang/directional_bias_amplification',\n",
              " 'cpllab/syntaxgym',\n",
              " 'lvwerra/bary_score',\n",
              " 'hack/test_metric',\n",
              " 'yzha/ctc_eval',\n",
              " 'mfumanelli/geometric_mean',\n",
              " 'daiyizheng/valid',\n",
              " 'erntkn/dice_coefficient',\n",
              " 'mgfrantz/roc_auc_macro',\n",
              " 'Vlasta/pr_auc',\n",
              " 'gorkaartola/metric_for_tp_fp_samples',\n",
              " 'idsedykh/metric',\n",
              " 'idsedykh/codebleu2',\n",
              " 'idsedykh/codebleu',\n",
              " 'idsedykh/megaglue',\n",
              " 'Vertaix/vendiscore',\n",
              " 'GMFTBY/dailydialogevaluate',\n",
              " 'GMFTBY/dailydialog_evaluate',\n",
              " 'jzm-mailchimp/joshs_second_test_metric',\n",
              " 'ola13/precision_at_k',\n",
              " 'yulong-me/yl_metric',\n",
              " 'abidlabs/mean_iou',\n",
              " 'abidlabs/mean_iou2',\n",
              " 'KevinSpaghetti/accuracyk',\n",
              " 'NimaBoscarino/weat',\n",
              " 'ronaldahmed/nwentfaithfulness',\n",
              " 'Viona/infolm',\n",
              " 'kyokote/my_metric2',\n",
              " 'kashif/mape',\n",
              " 'Ochiroo/rouge_mn',\n",
              " 'leslyarun/fbeta_score',\n",
              " 'anz2/iliauniiccocrevaluation',\n",
              " 'zbeloki/m2',\n",
              " 'xu1998hz/sescore',\n",
              " 'dvitel/codebleu',\n",
              " 'NCSOFT/harim_plus',\n",
              " 'JP-SystemsX/nDCG',\n",
              " 'sportlosos/sescore',\n",
              " 'Drunper/metrica_tesi',\n",
              " 'jpxkqx/peak_signal_to_noise_ratio',\n",
              " 'jpxkqx/signal_to_reconstruction_error',\n",
              " 'hpi-dhc/FairEval',\n",
              " 'lvwerra/accuracy_score',\n",
              " 'ybelkada/cocoevaluate',\n",
              " 'harshhpareek/bertscore',\n",
              " 'posicube/mean_reciprocal_rank',\n",
              " 'bstrai/classification_report',\n",
              " 'omidf/squad_precision_recall',\n",
              " 'Josh98/nl2bash_m',\n",
              " 'BucketHeadP65/confusion_matrix',\n",
              " 'BucketHeadP65/roc_curve',\n",
              " 'yonting/average_precision_score',\n",
              " 'transZ/test_parascore',\n",
              " 'transZ/sbert_cosine',\n",
              " 'hynky/sklearn_proxy',\n",
              " 'xu1998hz/sescore_english_mt',\n",
              " 'xu1998hz/sescore_german_mt',\n",
              " 'xu1998hz/sescore_english_coco',\n",
              " 'xu1998hz/sescore_english_webnlg',\n",
              " 'unnati/kendall_tau_distance',\n",
              " 'Viona/fuzzy_reordering',\n",
              " 'Viona/kendall_tau',\n",
              " 'lhy/hamming_loss',\n",
              " 'lhy/ranking_loss',\n",
              " 'Muennighoff/code_eval_octopack',\n",
              " 'yuyijiong/quad_match_score',\n",
              " 'AlhitawiMohammed22/CER_Hu-Evaluation-Metrics',\n",
              " 'Yeshwant123/mcc',\n",
              " 'phonemetransformers/segmentation_scores',\n",
              " 'sma2023/wil',\n",
              " 'chanelcolgate/average_precision',\n",
              " 'ckb/unigram',\n",
              " 'Felipehonorato/eer',\n",
              " 'manueldeprada/beer',\n",
              " 'shunzh/apps_metric',\n",
              " 'He-Xingwei/sari_metric',\n",
              " 'langdonholmes/cohen_weighted_kappa',\n",
              " 'fschlatt/ner_eval',\n",
              " 'hyperml/balanced_accuracy',\n",
              " 'brian920128/doc_retrieve_metrics',\n",
              " 'guydav/restrictedpython_code_eval',\n",
              " 'k4black/codebleu',\n",
              " 'Natooz/ece',\n",
              " 'ingyu/klue_mrc',\n",
              " 'Vipitis/shadermatch',\n",
              " 'gabeorlanski/bc_eval',\n",
              " 'jjkim0807/code_eval',\n",
              " 'repllabs/mean_reciprocal_rank',\n",
              " 'repllabs/mean_average_precision',\n",
              " 'mtc/fragments',\n",
              " 'DarrenChensformer/eval_keyphrase',\n",
              " 'kedudzic/charmatch',\n",
              " 'Vallp/ter',\n",
              " 'DarrenChensformer/relation_extraction',\n",
              " 'Ikala-allen/relation_extraction',\n",
              " 'danieldux/hierarchical_softmax_loss',\n",
              " 'nlpln/tst',\n",
              " 'bdsaglam/jer',\n",
              " 'davebulaval/meaningbert',\n",
              " 'fnvls/bleu1234',\n",
              " 'fnvls/bleu_1234',\n",
              " 'nevikw39/specificity',\n",
              " 'yqsong/execution_accuracy',\n",
              " 'shalakasatheesh/squad_v2',\n",
              " 'arthurvqin/pr_auc',\n",
              " 'd-matrix/dmx_perplexity',\n",
              " 'akki2825/accents_unplugged_eval',\n",
              " 'juliakaczor/accents_unplugged_eval',\n",
              " 'Vickyage/accents_unplugged_eval',\n",
              " 'Qui-nn/accents_unplugged_eval',\n",
              " 'TelEl/accents_unplugged_eval',\n",
              " 'livvie/accents_unplugged_eval',\n",
              " 'DaliaCaRo/accents_unplugged_eval',\n",
              " 'alvinasvk/accents_unplugged_eval',\n",
              " 'LottieW/accents_unplugged_eval',\n",
              " 'LuckiestOne/valid_efficiency_score',\n",
              " 'Fritz02/execution_accuracy',\n",
              " 'huanghuayu/multiclass_brier_score',\n",
              " 'jialinsong/apps_metric',\n",
              " 'DoctorSlimm/bangalore_score',\n",
              " 'agkphysics/ccc',\n",
              " 'DoctorSlimm/kaushiks_criteria',\n",
              " 'CZLC/rouge_raw',\n",
              " 'bascobasculino/mot-metrics',\n",
              " 'SEA-AI/mot-metrics',\n",
              " 'SEA-AI/det-metrics',\n",
              " 'saicharan2804/my_metric',\n",
              " 'red1bluelost/evaluate_genericify_cpp',\n",
              " 'maksymdolgikh/seqeval_with_fbeta',\n",
              " 'Bekhouche/NED',\n",
              " 'danieldux/isco_hierarchical_accuracy',\n",
              " 'ginic/phone_errors',\n",
              " 'berkatil/map',\n",
              " 'DarrenChensformer/action_generation',\n",
              " 'buelfhood/fbeta_score',\n",
              " 'danasone/ru_errant',\n",
              " 'helena-balabin/youden_index',\n",
              " 'SEA-AI/panoptic-quality',\n",
              " 'SEA-AI/box-metrics',\n",
              " 'MathewShen/bleu',\n",
              " 'berkatil/mrr',\n",
              " 'BridgeAI-Lab/SemF1',\n",
              " 'SEA-AI/horizon-metrics',\n",
              " 'maysonma/lingo_judge_metric',\n",
              " 'dannashao/span_metric',\n",
              " 'Aye10032/loss_metric',\n",
              " 'ag2435/my_metric',\n",
              " 'kilian-group/arxiv_score',\n",
              " 'bomjin/code_eval_octopack',\n",
              " 'svenwey/logmetric',\n",
              " 'bowdbeg/matching_series',\n",
              " 'BridgeAI-Lab/Sem-nCG',\n",
              " 'bowdbeg/patch_series',\n",
              " 'venkatasg/gleu',\n",
              " 'kbmlcoding/apps_metric',\n",
              " 'jijihuny/ecqa',\n",
              " 'prajwall/mse',\n",
              " 'd-matrix/dmxMetric',\n",
              " 'dotkaio/competition_math',\n",
              " 'bowdbeg/docred',\n",
              " 'Remeris/rouge_ru',\n",
              " 'jarod0411/aucpr',\n",
              " 'Ruchin/jaccard_similarity',\n",
              " 'phucdev/blanc_score',\n",
              " 'NathanMad/bertscore-with-torch_dtype',\n",
              " 'cointegrated/blaser_2_0_qe',\n",
              " 'ahnyeonchan/Alignment-and-Uniformity',\n",
              " 'Baleegh/Fluency_Score',\n",
              " 'mdocekal/multi_label_precision_recall_accuracy_fscore',\n",
              " 'phucdev/vihsd',\n",
              " 'argmaxinc/detailed-wer',\n",
              " 'SEA-AI/user-friendly-metrics',\n",
              " 'hage2000/code_eval_stdio',\n",
              " 'hage2000/my_metric',\n",
              " 'Natooz/levenshtein',\n",
              " 'Khaliq88/execution_accuracy',\n",
              " 'pico-lm/perplexity',\n",
              " 'mtzig/cross_entropy_loss',\n",
              " 'kiracurrie22/precision',\n",
              " 'openpecha/bleurt',\n",
              " 'SEA-AI/ref-metrics',\n",
              " 'Natooz/mse',\n",
              " 'buelfhood/fbeta_score_2',\n",
              " 'murinj/hter',\n",
              " 'pico-lm/blimp',\n",
              " 'nobody4/waf_metric',\n",
              " 'mdocekal/precision_recall_fscore_accuracy',\n",
              " 'Glazkov/mars',\n",
              " 'Aye10032/top5_error_rate',\n",
              " 'nhop/L3Score',\n",
              " 'maryxm/code_eval',\n",
              " 'ncoop57/levenshtein_distance',\n",
              " 'kaleidophon/almost_stochastic_order',\n",
              " 'NeuraFusionAI/Arabic-Evaluation',\n",
              " 'lvwerra/element_count',\n",
              " 'prb977/cooccurrence_count',\n",
              " 'NimaBoscarino/pseudo_perplexity',\n",
              " 'ybelkada/toxicity',\n",
              " 'ronaldahmed/ccl_win',\n",
              " 'christopher/tokens_per_byte',\n",
              " 'lsy641/distinct',\n",
              " 'grepLeigh/perplexity',\n",
              " 'Charles95/element_count',\n",
              " 'Charles95/accuracy',\n",
              " 'Lucky28/honest']"
            ]
          },
          "execution_count": 49,
          "metadata": {},
          "output_type": "execute_result"
        }
      ],
      "source": [
        "# Number of evaluation modules\n",
        "print(f'There are {len(evaluate.list_evaluation_modules())} evaluation models in Hugging Face.\\n')\n",
        "\n",
        "# List all evaluation metrics\n",
        "evaluate.list_evaluation_modules()"
      ]
    },
    {
      "cell_type": "markdown",
      "metadata": {
        "id": "56L2AZe4eroE"
      },
      "source": [
        "Since our dataset is highly balanced, we will use accuracy as the evaluation metric. It can be loaded using `evaluate.load(\"accuracy\")`. After getting predictions from the model, the metric is computed using `metric.compute`."
      ]
    },
    {
      "cell_type": "code",
      "execution_count": 50,
      "metadata": {
        "id": "Pljt8VLCNJFR"
      },
      "outputs": [],
      "source": [
        "# Function to compute the metric\n",
        "def compute_metrics(eval_pred):\n",
        "    metric = evaluate.load(\"accuracy\")\n",
        "    logits, labels = eval_pred\n",
        "    probabilities = tf.nn.softmax(logits)\n",
        "    predictions = np.argmax(probabilities, axis=-1)\n",
        "    return metric.compute(predictions=predictions, references=labels)"
      ]
    },
    {
      "cell_type": "markdown",
      "metadata": {
        "id": "m2Oxt0KtOqPY"
      },
      "source": [
        "# Step 9: Train Model Using Transformer Trainer"
      ]
    },
    {
      "cell_type": "markdown",
      "metadata": {
        "id": "3SXRUZ6I1Sq6"
      },
      "source": [
        "In step 9, we will train the model using the transformer `Trainer`.\n",
        "* model is the model for training, evaluation, or prediction by the `Trainer`.\n",
        "* `args` takes the arguments for tweaking the `Trainer`. It defaults to the instance of `TrainingArguments`.\n",
        "* `train_dataset` is the training dataset name. If the dataset is in `Dataset` format, the unused columns will be automatically ignored. In our training dataset, `__index_level_0__` and `review` are not used by the model, so they are ignored.\n",
        "* `eval_dataset` is the evaluation dataset name. Similar to the `train_dataset`, the unused columns will be automatically ignored for the `Dataset` format.\n",
        "* `compute_metrics` takes the function for calculating evaluation metrics.\n",
        "* `callbacks` takes a list of callbacks to customize the training loop. `EarlyStoppingCallback` stops the training by `early_stopping_patience` for the evaluation calls. There is no practical need to use early stopping because there are only two epochs for the model. It is included as an example code reference."
      ]
    },
    {
      "cell_type": "code",
      "execution_count": 51,
      "metadata": {
        "colab": {
          "base_uri": "https://localhost:8080/",
          "height": 253,
          "referenced_widgets": [
            "6fed12dae79a495b8fc3b969dd261c96",
            "28a7972bb6b447fabb28e2d9db3209e9",
            "c4679660c2784cd08ef83e6ecda16cc0",
            "9dd2797fe7a54e558317a0d7ff82dcf7",
            "0e3259dd0b8b45afaf091acb992be7e2",
            "6a0fd7f5c5af416eb5b8939d9f86bb0c",
            "953a2a2747ef4ecfb474bc6343d0bf2f",
            "453eb5cec1924f4a834a551535ff2175",
            "23fa83c7aefa40f794c19b05488d3453",
            "336eae20c6eb425888800be5d96c00c0",
            "472fd7791ba041f682c163b061350655"
          ]
        },
        "id": "3LHAlFU_6-IF",
        "outputId": "82199005-10be-4603-b286-83ee642f54fd"
      },
      "outputs": [
        {
          "data": {
            "text/html": [
              "\n",
              "    <div>\n",
              "      \n",
              "      <progress value='600' max='600' style='width:300px; height:20px; vertical-align: middle;'></progress>\n",
              "      [600/600 29:01, Epoch 3/3]\n",
              "    </div>\n",
              "    <table border=\"1\" class=\"dataframe\">\n",
              "  <thead>\n",
              " <tr style=\"text-align: left;\">\n",
              "      <th>Epoch</th>\n",
              "      <th>Training Loss</th>\n",
              "      <th>Validation Loss</th>\n",
              "      <th>Accuracy</th>\n",
              "    </tr>\n",
              "  </thead>\n",
              "  <tbody>\n",
              "    <tr>\n",
              "      <td>1</td>\n",
              "      <td>0.454700</td>\n",
              "      <td>0.337150</td>\n",
              "      <td>0.925000</td>\n",
              "    </tr>\n",
              "    <tr>\n",
              "      <td>2</td>\n",
              "      <td>0.251700</td>\n",
              "      <td>0.290177</td>\n",
              "      <td>0.935000</td>\n",
              "    </tr>\n",
              "    <tr>\n",
              "      <td>3</td>\n",
              "      <td>0.062200</td>\n",
              "      <td>0.338560</td>\n",
              "      <td>0.940000</td>\n",
              "    </tr>\n",
              "  </tbody>\n",
              "</table><p>"
            ],
            "text/plain": [
              "<IPython.core.display.HTML object>"
            ]
          },
          "metadata": {},
          "output_type": "display_data"
        },
        {
          "data": {
            "application/vnd.jupyter.widget-view+json": {
              "model_id": "6fed12dae79a495b8fc3b969dd261c96",
              "version_major": 2,
              "version_minor": 0
            },
            "text/plain": [
              "Downloading builder script:   0%|          | 0.00/4.20k [00:00<?, ?B/s]"
            ]
          },
          "metadata": {},
          "output_type": "display_data"
        },
        {
          "data": {
            "text/plain": [
              "TrainOutput(global_step=600, training_loss=0.2561659129460653, metrics={'train_runtime': 1747.678, 'train_samples_per_second': 1.373, 'train_steps_per_second': 0.343, 'total_flos': 39466658304000.0, 'train_loss': 0.2561659129460653, 'epoch': 3.0})"
            ]
          },
          "execution_count": 51,
          "metadata": {},
          "output_type": "execute_result"
        }
      ],
      "source": [
        "# Train the model\n",
        "trainer = Trainer(\n",
        "    model=model,\n",
        "    args=training_args,\n",
        "    train_dataset=dataset_train,\n",
        "    eval_dataset=dataset_test,\n",
        "    compute_metrics=compute_metrics,\n",
        "    callbacks=[EarlyStoppingCallback(early_stopping_patience=1)]\n",
        ")\n",
        "\n",
        "trainer.train()"
      ]
    },
    {
      "cell_type": "markdown",
      "metadata": {
        "id": "wz5H-O5Y80zK"
      },
      "source": [
        "the accuracy must be above 90 percent in just 2 or 3 epochs."
      ]
    },
    {
      "cell_type": "markdown",
      "metadata": {
        "id": "QqiOoAD-yGKM"
      },
      "source": [
        "# Step 10: Make Predictions for Text Classification"
      ]
    },
    {
      "cell_type": "markdown",
      "metadata": {
        "id": "vtXo_gGFgm3F"
      },
      "source": [
        "In step 10, we will talk about how to make predictions using the Hugging Face transformer Trainer model.\n",
        "\n",
        "Passing the tokenized `Dataset` to the `.predict` method, we get the predictions for the customized transfer learning sentiment model. We can see that the prediction results contain multiple pieces of information.\n",
        "* `Num examples = 200` indicates that there are 200 reviews in the testing dataset.\n",
        "* `Batch size = 4` means that 4 reviews are processed each time.\n",
        "* Under `PredictionOutput`, `predictions` has the logits for each class. logit is the last layer of the neural network before softmax is applied. `label_ids` has the actual labels. Please note that it is not predicted labels although it is under the `PredictionOutput`. We need to calculate the predicted labels based on the logit values.\n",
        "* Under `metrics` there is information about the testing predictions.\n",
        " * `test_loss` is the loss for the testing dataset.  \n",
        " * `test_accuracy` is the percentage of correct predictions.\n",
        " * `test_runtime` is the runtime for testing.\n",
        " * `test_samples_per_second` is the number of samples the model can process in one second.\n",
        " * `test_steps_per_second` is the number of steps the model can process in one second.\n"
      ]
    },
    {
      "cell_type": "code",
      "execution_count": 52,
      "metadata": {
        "colab": {
          "base_uri": "https://localhost:8080/",
          "height": 1000
        },
        "id": "p1jk8PSQgbhS",
        "outputId": "2ffb83fd-e039-43cf-b685-a4aeb738d2be"
      },
      "outputs": [
        {
          "data": {
            "text/html": [],
            "text/plain": [
              "<IPython.core.display.HTML object>"
            ]
          },
          "metadata": {},
          "output_type": "display_data"
        },
        {
          "data": {
            "text/plain": [
              "PredictionOutput(predictions=array([[-3.1552272,  3.3982775],\n",
              "       [-3.1758227,  3.453471 ],\n",
              "       [-3.1581945,  3.4245658],\n",
              "       [ 2.6912844, -3.3424942],\n",
              "       [ 2.5538332, -3.0255322],\n",
              "       [-3.093482 ,  3.3069143],\n",
              "       [ 2.5340996, -2.950962 ],\n",
              "       [ 2.810251 , -3.5376081],\n",
              "       [-2.128235 ,  2.260191 ],\n",
              "       [ 2.5069432, -2.9311037],\n",
              "       [-3.098489 ,  3.2614908],\n",
              "       [ 2.5239162, -2.93224  ],\n",
              "       [-1.7135195,  1.8431202],\n",
              "       [-3.039145 ,  3.1793313],\n",
              "       [-2.9891682,  3.1931186],\n",
              "       [-1.5165629,  1.6935284],\n",
              "       [ 2.5613823, -2.9684978],\n",
              "       [-3.0226479,  3.2120838],\n",
              "       [-3.0947762,  3.3113708],\n",
              "       [ 2.6057823, -3.1832428],\n",
              "       [-3.018115 ,  3.1594486],\n",
              "       [-1.6244681,  1.7418888],\n",
              "       [-2.962152 ,  3.1358848],\n",
              "       [ 2.7462797, -3.3153381],\n",
              "       [-1.8331141,  1.9788997],\n",
              "       [-2.9729638,  3.1106496],\n",
              "       [ 2.4820557, -2.883857 ],\n",
              "       [ 2.7775726, -3.4158895],\n",
              "       [-2.819304 ,  2.9768672],\n",
              "       [-1.981077 ,  2.1341434],\n",
              "       [ 2.2050169, -2.4976954],\n",
              "       [ 2.5890195, -3.1221309],\n",
              "       [-2.899284 ,  3.0816422],\n",
              "       [ 1.8100219, -1.726242 ],\n",
              "       [ 2.5084953, -2.7408006],\n",
              "       [-3.0941153,  3.285062 ],\n",
              "       [ 2.781034 , -3.5043733],\n",
              "       [ 2.5148919, -2.902097 ],\n",
              "       [-3.1167736,  3.369688 ],\n",
              "       [ 2.6019335, -3.2106316],\n",
              "       [-2.725961 ,  2.871194 ],\n",
              "       [-2.55591  ,  2.673739 ],\n",
              "       [-2.6933777,  2.8529434],\n",
              "       [-3.0406375,  3.2140012],\n",
              "       [-2.7439196,  2.898996 ],\n",
              "       [-2.2750442,  2.3774953],\n",
              "       [-3.1305878,  3.3982553],\n",
              "       [ 2.6687784, -3.3234212],\n",
              "       [ 2.9335852, -3.6316047],\n",
              "       [ 2.8139467, -3.5248716],\n",
              "       [ 2.7966104, -3.4980192],\n",
              "       [ 2.9513364, -3.6654825],\n",
              "       [ 2.6121674, -3.1750665],\n",
              "       [-2.7692828,  2.9223847],\n",
              "       [-3.0729918,  3.2719846],\n",
              "       [-3.104371 ,  3.3767636],\n",
              "       [ 2.8771296, -3.629148 ],\n",
              "       [-1.6003343,  1.7487288],\n",
              "       [ 2.9100122, -3.5703745],\n",
              "       [ 2.6129026, -3.1938827],\n",
              "       [-2.95889  ,  3.142136 ],\n",
              "       [-2.2644954,  2.3908486],\n",
              "       [-1.6126429,  1.7420244],\n",
              "       [ 2.5953288, -3.135291 ],\n",
              "       [-2.842599 ,  2.9928129],\n",
              "       [ 2.796074 , -3.4800184],\n",
              "       [ 2.679335 , -3.3172035],\n",
              "       [-3.053697 ,  3.2608688],\n",
              "       [-1.431226 ,  1.993757 ],\n",
              "       [ 3.0146518, -3.7030632],\n",
              "       [-3.169847 ,  3.3823552],\n",
              "       [-1.6222308,  1.757961 ],\n",
              "       [ 2.7400374, -3.343794 ],\n",
              "       [ 2.8855844, -3.5924373],\n",
              "       [-3.010147 ,  3.155187 ],\n",
              "       [-3.052657 ,  3.2347589],\n",
              "       [ 2.342221 , -2.5116224],\n",
              "       [-3.0998662,  3.379642 ],\n",
              "       [-3.0715218,  3.2534323],\n",
              "       [-2.9196124,  3.0657382],\n",
              "       [ 2.6673844, -3.2468143],\n",
              "       [-1.0799334,  1.3222628],\n",
              "       [ 2.658585 , -3.2850983],\n",
              "       [ 2.5563643, -3.0518947],\n",
              "       [ 2.740892 , -3.4200788],\n",
              "       [ 2.6779704, -3.2837968],\n",
              "       [ 2.7615166, -3.3811889],\n",
              "       [-3.0809815,  3.3087046],\n",
              "       [ 2.8501747, -3.5456953],\n",
              "       [ 2.8325338, -3.529309 ],\n",
              "       [-2.9696574,  3.0794902],\n",
              "       [ 2.4356215, -2.9553928],\n",
              "       [ 2.7024848, -3.3457813],\n",
              "       [-1.934707 ,  2.0600305],\n",
              "       [-3.0877132,  3.2917125],\n",
              "       [ 2.7322607, -3.408494 ],\n",
              "       [-3.0888476,  3.3657165],\n",
              "       [ 2.8172398, -3.53468  ],\n",
              "       [-2.7760434,  2.887398 ],\n",
              "       [-2.7822948,  2.9330626],\n",
              "       [ 2.9333854, -3.6584227],\n",
              "       [ 2.8519807, -3.5848942],\n",
              "       [-3.0271287,  3.2481012],\n",
              "       [-2.9995403,  3.185588 ],\n",
              "       [-3.046342 ,  3.258246 ],\n",
              "       [ 2.5364995, -3.0096626],\n",
              "       [-3.1561778,  3.3985603],\n",
              "       [-2.8236542,  3.0230498],\n",
              "       [ 2.792995 , -3.5024636],\n",
              "       [-2.9322278,  3.0445762],\n",
              "       [ 2.4986162, -2.6168365],\n",
              "       [-3.0220098,  3.2309558],\n",
              "       [ 2.709476 , -3.3919141],\n",
              "       [ 2.9665082, -3.6788824],\n",
              "       [-3.066694 ,  3.245031 ],\n",
              "       [ 2.0505168, -2.3858376],\n",
              "       [ 2.6005545, -3.222217 ],\n",
              "       [ 2.944427 , -3.6083882],\n",
              "       [ 2.5515437, -3.0791073],\n",
              "       [-3.2105122,  3.4908583],\n",
              "       [-2.4389033,  2.563147 ],\n",
              "       [ 2.9181762, -3.6205304],\n",
              "       [-3.0543995,  3.3107698],\n",
              "       [-2.2154045,  2.3198624],\n",
              "       [-2.6899848,  2.8606133],\n",
              "       [ 2.7763567, -3.4478269],\n",
              "       [ 2.6606045, -3.2710333],\n",
              "       [-3.0583868,  3.2560732],\n",
              "       [-3.1709886,  3.4452946],\n",
              "       [ 2.8124719, -3.5579622],\n",
              "       [-2.9030333,  3.0536363],\n",
              "       [-3.1234915,  3.3248992],\n",
              "       [ 1.8745029, -2.390026 ],\n",
              "       [-1.4876959,  1.6340868],\n",
              "       [-3.0513022,  3.2542229],\n",
              "       [ 2.4198904, -2.943915 ],\n",
              "       [ 2.7917666, -3.5022707],\n",
              "       [ 2.089138 , -2.2351592],\n",
              "       [-2.379422 ,  2.4802876],\n",
              "       [ 2.625692 , -3.1729805],\n",
              "       [ 2.4882603, -2.8559527],\n",
              "       [ 2.374936 , -2.501738 ],\n",
              "       [ 2.504776 , -2.8278937],\n",
              "       [ 1.9815528, -2.1680362],\n",
              "       [-2.8385382,  2.9882267],\n",
              "       [-1.8284819,  1.9641975],\n",
              "       [-2.669202 ,  2.8077126],\n",
              "       [ 2.9597495, -3.694393 ],\n",
              "       [-1.9448744,  2.0682309],\n",
              "       [-3.0827832,  3.284712 ],\n",
              "       [ 2.6936502, -3.3210206],\n",
              "       [-2.2173474,  2.3511672],\n",
              "       [ 2.9643958, -3.630754 ],\n",
              "       [ 2.8401828, -3.5564797],\n",
              "       [ 2.5690937, -3.1021023],\n",
              "       [-3.159466 ,  3.4096696],\n",
              "       [-2.770589 ,  2.8470461],\n",
              "       [ 2.648479 , -3.2813635],\n",
              "       [ 2.7088804, -3.3523395],\n",
              "       [-3.0036135,  3.2103174],\n",
              "       [-3.153966 ,  3.3913922],\n",
              "       [ 2.6848772, -3.3145857],\n",
              "       [ 2.5793955, -3.0894551],\n",
              "       [-1.7602761,  1.8881253],\n",
              "       [-2.6603837,  2.803226 ],\n",
              "       [-3.027523 ,  3.241478 ],\n",
              "       [-3.068595 ,  3.2926083],\n",
              "       [ 2.9895513, -3.6578152],\n",
              "       [-2.3916183,  2.4968104],\n",
              "       [ 2.6992831, -3.3222625],\n",
              "       [ 2.9948945, -3.6823559],\n",
              "       [-2.9937196,  3.1567316],\n",
              "       [ 2.9695904, -3.6725574],\n",
              "       [ 2.676087 , -3.2612283],\n",
              "       [ 2.7326298, -3.3759341],\n",
              "       [ 2.759691 , -3.4246526],\n",
              "       [ 2.8078632, -3.5077465],\n",
              "       [ 2.921537 , -3.6187162],\n",
              "       [ 2.81403  , -3.49146  ],\n",
              "       [-2.4644601,  2.55128  ],\n",
              "       [ 2.6188135, -3.208953 ],\n",
              "       [-2.9059331,  3.0122414],\n",
              "       [-3.1078103,  3.2717497],\n",
              "       [ 2.8668654, -3.5450616],\n",
              "       [ 2.8602555, -3.5371542],\n",
              "       [ 2.8036385, -3.5387595],\n",
              "       [ 2.782806 , -3.4591985],\n",
              "       [ 2.5920353, -3.1963696],\n",
              "       [ 2.9475281, -3.6531525],\n",
              "       [ 2.483365 , -2.8058333],\n",
              "       [-3.0082922,  3.172368 ],\n",
              "       [ 2.691302 , -3.333104 ],\n",
              "       [ 2.8370907, -3.4911952],\n",
              "       [-3.0928426,  3.3465018],\n",
              "       [ 2.5047417, -2.8688214],\n",
              "       [ 2.4671812, -2.6102703],\n",
              "       [ 2.7873707, -3.5346549],\n",
              "       [ 2.8401122, -3.5464015],\n",
              "       [ 2.5933316, -3.242208 ],\n",
              "       [ 2.8577201, -3.5871496]], dtype=float32), label_ids=array([1, 1, 1, 0, 0, 1, 0, 0, 1, 0, 1, 0, 1, 1, 1, 0, 0, 1, 1, 0, 1, 1,\n",
              "       1, 0, 1, 1, 0, 0, 1, 1, 0, 0, 1, 1, 0, 1, 0, 1, 1, 0, 1, 1, 1, 1,\n",
              "       1, 1, 1, 0, 0, 0, 0, 0, 0, 1, 1, 1, 0, 1, 0, 0, 1, 0, 1, 0, 1, 0,\n",
              "       0, 1, 1, 0, 1, 1, 0, 0, 1, 1, 0, 1, 1, 1, 0, 0, 0, 0, 0, 0, 0, 1,\n",
              "       0, 0, 1, 0, 0, 1, 1, 0, 1, 0, 1, 1, 0, 0, 1, 1, 1, 0, 1, 1, 0, 1,\n",
              "       0, 1, 0, 0, 1, 0, 0, 0, 0, 1, 1, 0, 1, 1, 1, 0, 0, 1, 1, 0, 1, 1,\n",
              "       0, 0, 1, 0, 0, 1, 1, 0, 1, 1, 0, 1, 1, 1, 1, 0, 1, 1, 0, 1, 0, 0,\n",
              "       0, 1, 1, 0, 0, 1, 1, 0, 0, 1, 0, 1, 1, 0, 1, 0, 0, 1, 0, 0, 0, 0,\n",
              "       0, 0, 0, 1, 0, 1, 1, 0, 0, 0, 0, 0, 0, 0, 1, 0, 0, 1, 1, 1, 0, 0,\n",
              "       0, 0]), metrics={'test_loss': 0.2901768386363983, 'test_accuracy': 0.935, 'test_runtime': 29.5012, 'test_samples_per_second': 6.779, 'test_steps_per_second': 1.695})"
            ]
          },
          "execution_count": 52,
          "metadata": {},
          "output_type": "execute_result"
        }
      ],
      "source": [
        "# Predictions\n",
        "y_test_predict = trainer.predict(dataset_test)\n",
        "\n",
        "# Take a look at the predictions\n",
        "y_test_predict"
      ]
    },
    {
      "cell_type": "markdown",
      "metadata": {
        "id": "d9y3EfeO-8yN"
      },
      "source": [
        "The predicted logits for the transfer learning text classification model can be extracted using `.predictions`."
      ]
    },
    {
      "cell_type": "markdown",
      "metadata": {
        "id": "VmcAlpnl_hJF"
      },
      "source": [
        "We can see that the prediction has two columns. The first column is the predicted logit for label 0 and the second column is the predicted logit for label 1. logit values do not sum up to 1."
      ]
    },
    {
      "cell_type": "code",
      "execution_count": 53,
      "metadata": {
        "colab": {
          "base_uri": "https://localhost:8080/"
        },
        "id": "N_HSPkZAminc",
        "outputId": "e6496969-5cf2-4908-caed-c6df0f38a98c"
      },
      "outputs": [
        {
          "data": {
            "text/plain": [
              "array([[-3.1552272,  3.3982775],\n",
              "       [-3.1758227,  3.453471 ],\n",
              "       [-3.1581945,  3.4245658],\n",
              "       [ 2.6912844, -3.3424942],\n",
              "       [ 2.5538332, -3.0255322]], dtype=float32)"
            ]
          },
          "execution_count": 53,
          "metadata": {},
          "output_type": "execute_result"
        }
      ],
      "source": [
        "# Predicted logits\n",
        "y_test_logits = y_test_predict.predictions\n",
        "\n",
        "# First 5 predicted probabilities\n",
        "y_test_logits[:5]"
      ]
    },
    {
      "cell_type": "markdown",
      "metadata": {
        "id": "Ge6rXFhY_kGc"
      },
      "source": [
        "To get the predicted probabilities, we need to apply softmax on the predicted logit values."
      ]
    },
    {
      "cell_type": "markdown",
      "metadata": {
        "id": "BU5JrMyZ_0GY"
      },
      "source": [
        "After applying softmax, we can see that the predicted probability for each review sums up to 1."
      ]
    },
    {
      "cell_type": "code",
      "execution_count": 54,
      "metadata": {
        "colab": {
          "base_uri": "https://localhost:8080/"
        },
        "id": "ow4uX4Jv_srX",
        "outputId": "8337e0e2-5a40-466c-b8a8-e5d216673e4e"
      },
      "outputs": [
        {
          "data": {
            "text/plain": [
              "<tf.Tensor: shape=(5, 2), dtype=float32, numpy=\n",
              "array([[0.00142308, 0.9985769 ],\n",
              "       [0.00131935, 0.9986807 ],\n",
              "       [0.00138211, 0.9986178 ],\n",
              "       [0.9976092 , 0.00239069],\n",
              "       [0.9962392 , 0.00376076]], dtype=float32)>"
            ]
          },
          "execution_count": 54,
          "metadata": {},
          "output_type": "execute_result"
        }
      ],
      "source": [
        "# Predicted probabilities\n",
        "y_test_probabilities = tf.nn.softmax(y_test_logits)\n",
        "\n",
        "# First 5 predicted logits\n",
        "y_test_probabilities[:5]"
      ]
    },
    {
      "cell_type": "markdown",
      "metadata": {
        "id": "FyFbba9R_7ko"
      },
      "source": [
        "To get the predicted labels, `argmax` is used to return the index of the maximum probability for each review, which corresponds to the labels of zeros and ones."
      ]
    },
    {
      "cell_type": "code",
      "execution_count": 55,
      "metadata": {
        "colab": {
          "base_uri": "https://localhost:8080/"
        },
        "id": "1I0mQBmO4drn",
        "outputId": "3ba6e4e4-6e4e-47c8-8c75-2796b7fea377"
      },
      "outputs": [
        {
          "data": {
            "text/plain": [
              "array([1, 1, 1, 0, 0])"
            ]
          },
          "execution_count": 55,
          "metadata": {},
          "output_type": "execute_result"
        }
      ],
      "source": [
        "# Predicted labels\n",
        "y_test_pred_labels = np.argmax(y_test_probabilities, axis=-1)\n",
        "\n",
        "# First 5 predicted probabilities\n",
        "y_test_pred_labels[:5]"
      ]
    },
    {
      "cell_type": "markdown",
      "metadata": {
        "id": "oBkMRVTx_-pT"
      },
      "source": [
        "The actual labels can be extracted using `y_test_predict.label_ids`."
      ]
    },
    {
      "cell_type": "code",
      "execution_count": 56,
      "metadata": {
        "colab": {
          "base_uri": "https://localhost:8080/"
        },
        "id": "bOdI273Xmt9_",
        "outputId": "e884272b-44b1-4289-dd5a-388631c2ee03"
      },
      "outputs": [
        {
          "data": {
            "text/plain": [
              "array([1, 1, 1, 0, 0])"
            ]
          },
          "execution_count": 56,
          "metadata": {},
          "output_type": "execute_result"
        }
      ],
      "source": [
        "# Actual labels\n",
        "y_test_actual_labels = y_test_predict.label_ids\n",
        "\n",
        "# First 5 predicted probabilities\n",
        "y_test_actual_labels[:5]"
      ]
    },
    {
      "cell_type": "markdown",
      "metadata": {
        "id": "lBhVxzzNqn13"
      },
      "source": [
        "# Step 11: Model Performance Evaluation"
      ]
    },
    {
      "cell_type": "markdown",
      "metadata": {
        "id": "L4jmMaJbAK7K"
      },
      "source": [
        "In step 11, we will make the transfer learning text classification model performance evaluation.\n",
        "\n",
        "`trainer.evaluate` is a quick way to get the loss and the accuracy of the testing dataset."
      ]
    },
    {
      "cell_type": "code",
      "execution_count": 57,
      "metadata": {
        "colab": {
          "base_uri": "https://localhost:8080/",
          "height": 141
        },
        "id": "0S8AKdc2Bm0Q",
        "outputId": "7a811a3d-60f3-4bd9-e7e2-26f530545c1b"
      },
      "outputs": [
        {
          "data": {
            "text/html": [
              "\n",
              "    <div>\n",
              "      \n",
              "      <progress value='50' max='50' style='width:300px; height:20px; vertical-align: middle;'></progress>\n",
              "      [50/50 00:29]\n",
              "    </div>\n",
              "    "
            ],
            "text/plain": [
              "<IPython.core.display.HTML object>"
            ]
          },
          "metadata": {},
          "output_type": "display_data"
        },
        {
          "data": {
            "text/plain": [
              "{'eval_loss': 0.2901768386363983,\n",
              " 'eval_accuracy': 0.935,\n",
              " 'eval_runtime': 30.1012,\n",
              " 'eval_samples_per_second': 6.644,\n",
              " 'eval_steps_per_second': 1.661,\n",
              " 'epoch': 3.0}"
            ]
          },
          "execution_count": 57,
          "metadata": {},
          "output_type": "execute_result"
        }
      ],
      "source": [
        "# Trainer evaluate\n",
        "trainer.evaluate(dataset_test)"
      ]
    },
    {
      "cell_type": "markdown",
      "metadata": {
        "id": "__cIM_jjCT3x"
      },
      "source": [
        "To calculate more model performance metrics, we can use `evaluate.load` to load the metrics of interest."
      ]
    },
    {
      "cell_type": "code",
      "execution_count": 58,
      "metadata": {
        "colab": {
          "base_uri": "https://localhost:8080/",
          "height": 66,
          "referenced_widgets": [
            "263e147b67b94865a6218ce3c5c5dc4f",
            "264f53d7c1984a29a8e628aeaf69d252",
            "f9b76c5a1aed44279ceb275795915d11",
            "129d55402fe24d5ea7101a42bb4684af",
            "cd2f047af1f8489e91ef0f5febc68bf2",
            "1ac1d63cf8ba4b3b809fa8a72f6cbfdf",
            "f313efffc0d34534b8c2da1eb5ebca38",
            "9a09959367a94b6aac74e9411f805fc4",
            "7b575ba4603b450091aa54ac5f016375",
            "95f4e85877c6477c91ec8b964c72b7a8",
            "368e551c626b49ddb6907d8d95a7bd91"
          ]
        },
        "id": "VaeNxx0l4rpk",
        "outputId": "73407c46-ea37-435d-c818-61562215013a"
      },
      "outputs": [
        {
          "data": {
            "application/vnd.jupyter.widget-view+json": {
              "model_id": "263e147b67b94865a6218ce3c5c5dc4f",
              "version_major": 2,
              "version_minor": 0
            },
            "text/plain": [
              "Downloading builder script:   0%|          | 0.00/6.79k [00:00<?, ?B/s]"
            ]
          },
          "metadata": {},
          "output_type": "display_data"
        },
        {
          "data": {
            "text/plain": [
              "{'f1': 0.9326424870466321}"
            ]
          },
          "execution_count": 58,
          "metadata": {},
          "output_type": "execute_result"
        }
      ],
      "source": [
        "# Load f1 metric\n",
        "metric_f1 = evaluate.load('f1')\n",
        "\n",
        "# Compute f1 metric\n",
        "metric_f1.compute(predictions=y_test_pred_labels, references=y_test_actual_labels)"
      ]
    },
    {
      "cell_type": "code",
      "execution_count": 59,
      "metadata": {
        "colab": {
          "base_uri": "https://localhost:8080/",
          "height": 66,
          "referenced_widgets": [
            "52a1dde3ff974a2aa95d6781ce13abc5",
            "d247b78f488f453ab2a40fac51afa4ed",
            "57d050c7331e4fa2a4546c6dcbc06e8d",
            "089015ddd47b4693ae1c61cb0ea33b9c",
            "c5de383659fc4cf8a22cbb9a47a0593d",
            "ba8d91eaadce4f918188ec22180e4b8d",
            "7afbb74bbcca4fe880dd2570fa3ee038",
            "ac24b0d6915d457090fe6a48dffbfc93",
            "f715f13ac18e4128a9bae1e646ee16b1",
            "24a1d95050ba41369e4ba1bfdc3c1e91",
            "6669c11a885b485bb996cb928bc564d5"
          ]
        },
        "id": "x_jMEh-wrn00",
        "outputId": "afca2652-74fb-4598-87ea-1065316cc023"
      },
      "outputs": [
        {
          "data": {
            "application/vnd.jupyter.widget-view+json": {
              "model_id": "52a1dde3ff974a2aa95d6781ce13abc5",
              "version_major": 2,
              "version_minor": 0
            },
            "text/plain": [
              "Downloading builder script:   0%|          | 0.00/7.38k [00:00<?, ?B/s]"
            ]
          },
          "metadata": {},
          "output_type": "display_data"
        },
        {
          "data": {
            "text/plain": [
              "{'recall': 0.9183673469387755}"
            ]
          },
          "execution_count": 59,
          "metadata": {},
          "output_type": "execute_result"
        }
      ],
      "source": [
        "# Load recall metric\n",
        "metric_recall = evaluate.load('recall')\n",
        "\n",
        "# Compute recall metric\n",
        "metric_recall.compute(predictions=y_test_pred_labels, references=y_test_actual_labels)"
      ]
    },
    {
      "cell_type": "markdown",
      "metadata": {
        "id": "33BZbt5FwTL0"
      },
      "source": [
        "# Step 12: Save and Load Model"
      ]
    },
    {
      "cell_type": "markdown",
      "metadata": {
        "id": "xI54T7SWSEKv"
      },
      "source": [
        "In step 12, we will talk about how to save the model and reload it for prediction.\n",
        "\n",
        "`tokenizer.save_pretrained` saves the tokenizer information to the drive and `model.save_model` saves the model to the drive."
      ]
    },
    {
      "cell_type": "code",
      "execution_count": 60,
      "metadata": {
        "id": "phvsc3K47X-c"
      },
      "outputs": [],
      "source": [
        "# Save tokenizer\n",
        "tokenizer.save_pretrained('./sentiment_transfer_learning_transformer/')\n",
        "\n",
        "# Save model\n",
        "trainer.save_model('./sentiment_transfer_learning_transformer/')"
      ]
    },
    {
      "cell_type": "markdown",
      "metadata": {
        "id": "qH2KqgCXSxcc"
      },
      "source": [
        "We can load the saved tokenizer later using `AutoTokenizer.from_pretrained()` and load the saved model using `AutoModelForSequenceClassification.from_pretrained()`."
      ]
    },
    {
      "cell_type": "code",
      "execution_count": 61,
      "metadata": {
        "id": "rTSztSdeYwnP"
      },
      "outputs": [],
      "source": [
        "# Load tokenizer\n",
        "tokenizer = AutoTokenizer.from_pretrained(\"./sentiment_transfer_learning_transformer/\")\n",
        "\n",
        "# Load model\n",
        "loaded_model = AutoModelForSequenceClassification.from_pretrained('./sentiment_transfer_learning_transformer/')"
      ]
    },
    {
      "cell_type": "markdown",
      "metadata": {
        "id": "Tlaxpewffvtc"
      },
      "source": [
        "# References"
      ]
    },
    {
      "cell_type": "markdown",
      "metadata": {
        "id": "9_hOgTMtfyl0"
      },
      "source": [
        "* [Hugging Face documentation on fine-tuning a pretrained model](https://huggingface.co/docs/transformers/training)\n",
        "* [Hugging Face notebook on fine-tuning a pretrained model](https://github.com/huggingface/notebooks/blob/main/transformers_doc/en/training.ipynb)\n",
        "* [Hugging Face documentation on tokenizer](https://huggingface.co/transformers/v3.5.1/main_classes/tokenizer.html)\n",
        "* [Deeplearning.AI transfer learning video from Andrew Ng](https://www.youtube.com/watch?v=yofjFQddwHE)\n",
        "* [Hugging Face TensorFlow predictions and metrics video](https://youtu.be/nx10eh4CoOs)\n",
        "* [Hugging Face documentation on prepare_tf_dataset()](https://github.com/huggingface/notebooks/blob/main/transformers_doc/en/training.ipynb)\n",
        "* [Hugging Face documentation on transformers.Trainer](https://huggingface.co/docs/transformers/main/en/main_classes/trainer#transformers.Trainer)\n",
        "* [Hugging Face documentation on Datasets](https://huggingface.co/docs/datasets/v1.7.0/index.html#:~:text=Datasets%20and%20evaluation%20metrics%20for,Natural%20Language%20Processing%20(NLP).)"
      ]
    }
  ],
  "metadata": {
    "colab": {
      "provenance": []
    },
    "kernelspec": {
      "display_name": "Python 3",
      "name": "python3"
    },
    "language_info": {
      "name": "python"
    },
    "widgets": {
      "application/vnd.jupyter.widget-state+json": {
        "089015ddd47b4693ae1c61cb0ea33b9c": {
          "model_module": "@jupyter-widgets/controls",
          "model_module_version": "1.5.0",
          "model_name": "HTMLModel",
          "state": {
            "_dom_classes": [],
            "_model_module": "@jupyter-widgets/controls",
            "_model_module_version": "1.5.0",
            "_model_name": "HTMLModel",
            "_view_count": null,
            "_view_module": "@jupyter-widgets/controls",
            "_view_module_version": "1.5.0",
            "_view_name": "HTMLView",
            "description": "",
            "description_tooltip": null,
            "layout": "IPY_MODEL_24a1d95050ba41369e4ba1bfdc3c1e91",
            "placeholder": "​",
            "style": "IPY_MODEL_6669c11a885b485bb996cb928bc564d5",
            "value": " 7.38k/7.38k [00:00&lt;00:00, 470kB/s]"
          }
        },
        "0e3259dd0b8b45afaf091acb992be7e2": {
          "model_module": "@jupyter-widgets/base",
          "model_module_version": "1.2.0",
          "model_name": "LayoutModel",
          "state": {
            "_model_module": "@jupyter-widgets/base",
            "_model_module_version": "1.2.0",
            "_model_name": "LayoutModel",
            "_view_count": null,
            "_view_module": "@jupyter-widgets/base",
            "_view_module_version": "1.2.0",
            "_view_name": "LayoutView",
            "align_content": null,
            "align_items": null,
            "align_self": null,
            "border": null,
            "bottom": null,
            "display": null,
            "flex": null,
            "flex_flow": null,
            "grid_area": null,
            "grid_auto_columns": null,
            "grid_auto_flow": null,
            "grid_auto_rows": null,
            "grid_column": null,
            "grid_gap": null,
            "grid_row": null,
            "grid_template_areas": null,
            "grid_template_columns": null,
            "grid_template_rows": null,
            "height": null,
            "justify_content": null,
            "justify_items": null,
            "left": null,
            "margin": null,
            "max_height": null,
            "max_width": null,
            "min_height": null,
            "min_width": null,
            "object_fit": null,
            "object_position": null,
            "order": null,
            "overflow": null,
            "overflow_x": null,
            "overflow_y": null,
            "padding": null,
            "right": null,
            "top": null,
            "visibility": null,
            "width": null
          }
        },
        "129d55402fe24d5ea7101a42bb4684af": {
          "model_module": "@jupyter-widgets/controls",
          "model_module_version": "1.5.0",
          "model_name": "HTMLModel",
          "state": {
            "_dom_classes": [],
            "_model_module": "@jupyter-widgets/controls",
            "_model_module_version": "1.5.0",
            "_model_name": "HTMLModel",
            "_view_count": null,
            "_view_module": "@jupyter-widgets/controls",
            "_view_module_version": "1.5.0",
            "_view_name": "HTMLView",
            "description": "",
            "description_tooltip": null,
            "layout": "IPY_MODEL_95f4e85877c6477c91ec8b964c72b7a8",
            "placeholder": "​",
            "style": "IPY_MODEL_368e551c626b49ddb6907d8d95a7bd91",
            "value": " 6.79k/6.79k [00:00&lt;00:00, 524kB/s]"
          }
        },
        "192cd90430fd46139f7b0e450b1e7ff7": {
          "model_module": "@jupyter-widgets/controls",
          "model_module_version": "1.5.0",
          "model_name": "DescriptionStyleModel",
          "state": {
            "_model_module": "@jupyter-widgets/controls",
            "_model_module_version": "1.5.0",
            "_model_name": "DescriptionStyleModel",
            "_view_count": null,
            "_view_module": "@jupyter-widgets/base",
            "_view_module_version": "1.2.0",
            "_view_name": "StyleView",
            "description_width": ""
          }
        },
        "1ac1d63cf8ba4b3b809fa8a72f6cbfdf": {
          "model_module": "@jupyter-widgets/base",
          "model_module_version": "1.2.0",
          "model_name": "LayoutModel",
          "state": {
            "_model_module": "@jupyter-widgets/base",
            "_model_module_version": "1.2.0",
            "_model_name": "LayoutModel",
            "_view_count": null,
            "_view_module": "@jupyter-widgets/base",
            "_view_module_version": "1.2.0",
            "_view_name": "LayoutView",
            "align_content": null,
            "align_items": null,
            "align_self": null,
            "border": null,
            "bottom": null,
            "display": null,
            "flex": null,
            "flex_flow": null,
            "grid_area": null,
            "grid_auto_columns": null,
            "grid_auto_flow": null,
            "grid_auto_rows": null,
            "grid_column": null,
            "grid_gap": null,
            "grid_row": null,
            "grid_template_areas": null,
            "grid_template_columns": null,
            "grid_template_rows": null,
            "height": null,
            "justify_content": null,
            "justify_items": null,
            "left": null,
            "margin": null,
            "max_height": null,
            "max_width": null,
            "min_height": null,
            "min_width": null,
            "object_fit": null,
            "object_position": null,
            "order": null,
            "overflow": null,
            "overflow_x": null,
            "overflow_y": null,
            "padding": null,
            "right": null,
            "top": null,
            "visibility": null,
            "width": null
          }
        },
        "23b3e801d0994647871e0539193115ce": {
          "model_module": "@jupyter-widgets/controls",
          "model_module_version": "1.5.0",
          "model_name": "HTMLModel",
          "state": {
            "_dom_classes": [],
            "_model_module": "@jupyter-widgets/controls",
            "_model_module_version": "1.5.0",
            "_model_name": "HTMLModel",
            "_view_count": null,
            "_view_module": "@jupyter-widgets/controls",
            "_view_module_version": "1.5.0",
            "_view_name": "HTMLView",
            "description": "",
            "description_tooltip": null,
            "layout": "IPY_MODEL_9af389f3e63c4b7eadc1655f27516787",
            "placeholder": "​",
            "style": "IPY_MODEL_4d336151394b414f965aeaf9104e7930",
            "value": "Map: 100%"
          }
        },
        "23fa83c7aefa40f794c19b05488d3453": {
          "model_module": "@jupyter-widgets/controls",
          "model_module_version": "1.5.0",
          "model_name": "ProgressStyleModel",
          "state": {
            "_model_module": "@jupyter-widgets/controls",
            "_model_module_version": "1.5.0",
            "_model_name": "ProgressStyleModel",
            "_view_count": null,
            "_view_module": "@jupyter-widgets/base",
            "_view_module_version": "1.2.0",
            "_view_name": "StyleView",
            "bar_color": null,
            "description_width": ""
          }
        },
        "24a1d95050ba41369e4ba1bfdc3c1e91": {
          "model_module": "@jupyter-widgets/base",
          "model_module_version": "1.2.0",
          "model_name": "LayoutModel",
          "state": {
            "_model_module": "@jupyter-widgets/base",
            "_model_module_version": "1.2.0",
            "_model_name": "LayoutModel",
            "_view_count": null,
            "_view_module": "@jupyter-widgets/base",
            "_view_module_version": "1.2.0",
            "_view_name": "LayoutView",
            "align_content": null,
            "align_items": null,
            "align_self": null,
            "border": null,
            "bottom": null,
            "display": null,
            "flex": null,
            "flex_flow": null,
            "grid_area": null,
            "grid_auto_columns": null,
            "grid_auto_flow": null,
            "grid_auto_rows": null,
            "grid_column": null,
            "grid_gap": null,
            "grid_row": null,
            "grid_template_areas": null,
            "grid_template_columns": null,
            "grid_template_rows": null,
            "height": null,
            "justify_content": null,
            "justify_items": null,
            "left": null,
            "margin": null,
            "max_height": null,
            "max_width": null,
            "min_height": null,
            "min_width": null,
            "object_fit": null,
            "object_position": null,
            "order": null,
            "overflow": null,
            "overflow_x": null,
            "overflow_y": null,
            "padding": null,
            "right": null,
            "top": null,
            "visibility": null,
            "width": null
          }
        },
        "263e147b67b94865a6218ce3c5c5dc4f": {
          "model_module": "@jupyter-widgets/controls",
          "model_module_version": "1.5.0",
          "model_name": "HBoxModel",
          "state": {
            "_dom_classes": [],
            "_model_module": "@jupyter-widgets/controls",
            "_model_module_version": "1.5.0",
            "_model_name": "HBoxModel",
            "_view_count": null,
            "_view_module": "@jupyter-widgets/controls",
            "_view_module_version": "1.5.0",
            "_view_name": "HBoxView",
            "box_style": "",
            "children": [
              "IPY_MODEL_264f53d7c1984a29a8e628aeaf69d252",
              "IPY_MODEL_f9b76c5a1aed44279ceb275795915d11",
              "IPY_MODEL_129d55402fe24d5ea7101a42bb4684af"
            ],
            "layout": "IPY_MODEL_cd2f047af1f8489e91ef0f5febc68bf2"
          }
        },
        "264f53d7c1984a29a8e628aeaf69d252": {
          "model_module": "@jupyter-widgets/controls",
          "model_module_version": "1.5.0",
          "model_name": "HTMLModel",
          "state": {
            "_dom_classes": [],
            "_model_module": "@jupyter-widgets/controls",
            "_model_module_version": "1.5.0",
            "_model_name": "HTMLModel",
            "_view_count": null,
            "_view_module": "@jupyter-widgets/controls",
            "_view_module_version": "1.5.0",
            "_view_name": "HTMLView",
            "description": "",
            "description_tooltip": null,
            "layout": "IPY_MODEL_1ac1d63cf8ba4b3b809fa8a72f6cbfdf",
            "placeholder": "​",
            "style": "IPY_MODEL_f313efffc0d34534b8c2da1eb5ebca38",
            "value": "Downloading builder script: 100%"
          }
        },
        "28a7972bb6b447fabb28e2d9db3209e9": {
          "model_module": "@jupyter-widgets/controls",
          "model_module_version": "1.5.0",
          "model_name": "HTMLModel",
          "state": {
            "_dom_classes": [],
            "_model_module": "@jupyter-widgets/controls",
            "_model_module_version": "1.5.0",
            "_model_name": "HTMLModel",
            "_view_count": null,
            "_view_module": "@jupyter-widgets/controls",
            "_view_module_version": "1.5.0",
            "_view_name": "HTMLView",
            "description": "",
            "description_tooltip": null,
            "layout": "IPY_MODEL_6a0fd7f5c5af416eb5b8939d9f86bb0c",
            "placeholder": "​",
            "style": "IPY_MODEL_953a2a2747ef4ecfb474bc6343d0bf2f",
            "value": "Downloading builder script: 100%"
          }
        },
        "336eae20c6eb425888800be5d96c00c0": {
          "model_module": "@jupyter-widgets/base",
          "model_module_version": "1.2.0",
          "model_name": "LayoutModel",
          "state": {
            "_model_module": "@jupyter-widgets/base",
            "_model_module_version": "1.2.0",
            "_model_name": "LayoutModel",
            "_view_count": null,
            "_view_module": "@jupyter-widgets/base",
            "_view_module_version": "1.2.0",
            "_view_name": "LayoutView",
            "align_content": null,
            "align_items": null,
            "align_self": null,
            "border": null,
            "bottom": null,
            "display": null,
            "flex": null,
            "flex_flow": null,
            "grid_area": null,
            "grid_auto_columns": null,
            "grid_auto_flow": null,
            "grid_auto_rows": null,
            "grid_column": null,
            "grid_gap": null,
            "grid_row": null,
            "grid_template_areas": null,
            "grid_template_columns": null,
            "grid_template_rows": null,
            "height": null,
            "justify_content": null,
            "justify_items": null,
            "left": null,
            "margin": null,
            "max_height": null,
            "max_width": null,
            "min_height": null,
            "min_width": null,
            "object_fit": null,
            "object_position": null,
            "order": null,
            "overflow": null,
            "overflow_x": null,
            "overflow_y": null,
            "padding": null,
            "right": null,
            "top": null,
            "visibility": null,
            "width": null
          }
        },
        "368e551c626b49ddb6907d8d95a7bd91": {
          "model_module": "@jupyter-widgets/controls",
          "model_module_version": "1.5.0",
          "model_name": "DescriptionStyleModel",
          "state": {
            "_model_module": "@jupyter-widgets/controls",
            "_model_module_version": "1.5.0",
            "_model_name": "DescriptionStyleModel",
            "_view_count": null,
            "_view_module": "@jupyter-widgets/base",
            "_view_module_version": "1.2.0",
            "_view_name": "StyleView",
            "description_width": ""
          }
        },
        "451d21529192409387a14068b31e8630": {
          "model_module": "@jupyter-widgets/controls",
          "model_module_version": "1.5.0",
          "model_name": "HBoxModel",
          "state": {
            "_dom_classes": [],
            "_model_module": "@jupyter-widgets/controls",
            "_model_module_version": "1.5.0",
            "_model_name": "HBoxModel",
            "_view_count": null,
            "_view_module": "@jupyter-widgets/controls",
            "_view_module_version": "1.5.0",
            "_view_name": "HBoxView",
            "box_style": "",
            "children": [
              "IPY_MODEL_a945a3374b574320ae3485a423c13eec",
              "IPY_MODEL_fa9f37dc78904312a4817c05b4dca777",
              "IPY_MODEL_737efafedf93495ebf59611752958ee1"
            ],
            "layout": "IPY_MODEL_991d316b8303448a9dbbaa4c357eeefb"
          }
        },
        "453eb5cec1924f4a834a551535ff2175": {
          "model_module": "@jupyter-widgets/base",
          "model_module_version": "1.2.0",
          "model_name": "LayoutModel",
          "state": {
            "_model_module": "@jupyter-widgets/base",
            "_model_module_version": "1.2.0",
            "_model_name": "LayoutModel",
            "_view_count": null,
            "_view_module": "@jupyter-widgets/base",
            "_view_module_version": "1.2.0",
            "_view_name": "LayoutView",
            "align_content": null,
            "align_items": null,
            "align_self": null,
            "border": null,
            "bottom": null,
            "display": null,
            "flex": null,
            "flex_flow": null,
            "grid_area": null,
            "grid_auto_columns": null,
            "grid_auto_flow": null,
            "grid_auto_rows": null,
            "grid_column": null,
            "grid_gap": null,
            "grid_row": null,
            "grid_template_areas": null,
            "grid_template_columns": null,
            "grid_template_rows": null,
            "height": null,
            "justify_content": null,
            "justify_items": null,
            "left": null,
            "margin": null,
            "max_height": null,
            "max_width": null,
            "min_height": null,
            "min_width": null,
            "object_fit": null,
            "object_position": null,
            "order": null,
            "overflow": null,
            "overflow_x": null,
            "overflow_y": null,
            "padding": null,
            "right": null,
            "top": null,
            "visibility": null,
            "width": null
          }
        },
        "472fd7791ba041f682c163b061350655": {
          "model_module": "@jupyter-widgets/controls",
          "model_module_version": "1.5.0",
          "model_name": "DescriptionStyleModel",
          "state": {
            "_model_module": "@jupyter-widgets/controls",
            "_model_module_version": "1.5.0",
            "_model_name": "DescriptionStyleModel",
            "_view_count": null,
            "_view_module": "@jupyter-widgets/base",
            "_view_module_version": "1.2.0",
            "_view_name": "StyleView",
            "description_width": ""
          }
        },
        "4d336151394b414f965aeaf9104e7930": {
          "model_module": "@jupyter-widgets/controls",
          "model_module_version": "1.5.0",
          "model_name": "DescriptionStyleModel",
          "state": {
            "_model_module": "@jupyter-widgets/controls",
            "_model_module_version": "1.5.0",
            "_model_name": "DescriptionStyleModel",
            "_view_count": null,
            "_view_module": "@jupyter-widgets/base",
            "_view_module_version": "1.2.0",
            "_view_name": "StyleView",
            "description_width": ""
          }
        },
        "52a1dde3ff974a2aa95d6781ce13abc5": {
          "model_module": "@jupyter-widgets/controls",
          "model_module_version": "1.5.0",
          "model_name": "HBoxModel",
          "state": {
            "_dom_classes": [],
            "_model_module": "@jupyter-widgets/controls",
            "_model_module_version": "1.5.0",
            "_model_name": "HBoxModel",
            "_view_count": null,
            "_view_module": "@jupyter-widgets/controls",
            "_view_module_version": "1.5.0",
            "_view_name": "HBoxView",
            "box_style": "",
            "children": [
              "IPY_MODEL_d247b78f488f453ab2a40fac51afa4ed",
              "IPY_MODEL_57d050c7331e4fa2a4546c6dcbc06e8d",
              "IPY_MODEL_089015ddd47b4693ae1c61cb0ea33b9c"
            ],
            "layout": "IPY_MODEL_c5de383659fc4cf8a22cbb9a47a0593d"
          }
        },
        "57d050c7331e4fa2a4546c6dcbc06e8d": {
          "model_module": "@jupyter-widgets/controls",
          "model_module_version": "1.5.0",
          "model_name": "FloatProgressModel",
          "state": {
            "_dom_classes": [],
            "_model_module": "@jupyter-widgets/controls",
            "_model_module_version": "1.5.0",
            "_model_name": "FloatProgressModel",
            "_view_count": null,
            "_view_module": "@jupyter-widgets/controls",
            "_view_module_version": "1.5.0",
            "_view_name": "ProgressView",
            "bar_style": "success",
            "description": "",
            "description_tooltip": null,
            "layout": "IPY_MODEL_ac24b0d6915d457090fe6a48dffbfc93",
            "max": 7377,
            "min": 0,
            "orientation": "horizontal",
            "style": "IPY_MODEL_f715f13ac18e4128a9bae1e646ee16b1",
            "value": 7377
          }
        },
        "584113573df24923839a52283f237866": {
          "model_module": "@jupyter-widgets/base",
          "model_module_version": "1.2.0",
          "model_name": "LayoutModel",
          "state": {
            "_model_module": "@jupyter-widgets/base",
            "_model_module_version": "1.2.0",
            "_model_name": "LayoutModel",
            "_view_count": null,
            "_view_module": "@jupyter-widgets/base",
            "_view_module_version": "1.2.0",
            "_view_name": "LayoutView",
            "align_content": null,
            "align_items": null,
            "align_self": null,
            "border": null,
            "bottom": null,
            "display": null,
            "flex": null,
            "flex_flow": null,
            "grid_area": null,
            "grid_auto_columns": null,
            "grid_auto_flow": null,
            "grid_auto_rows": null,
            "grid_column": null,
            "grid_gap": null,
            "grid_row": null,
            "grid_template_areas": null,
            "grid_template_columns": null,
            "grid_template_rows": null,
            "height": null,
            "justify_content": null,
            "justify_items": null,
            "left": null,
            "margin": null,
            "max_height": null,
            "max_width": null,
            "min_height": null,
            "min_width": null,
            "object_fit": null,
            "object_position": null,
            "order": null,
            "overflow": null,
            "overflow_x": null,
            "overflow_y": null,
            "padding": null,
            "right": null,
            "top": null,
            "visibility": null,
            "width": null
          }
        },
        "596c617c0e9b45a2b9bd9d56476d76e0": {
          "model_module": "@jupyter-widgets/controls",
          "model_module_version": "1.5.0",
          "model_name": "FloatProgressModel",
          "state": {
            "_dom_classes": [],
            "_model_module": "@jupyter-widgets/controls",
            "_model_module_version": "1.5.0",
            "_model_name": "FloatProgressModel",
            "_view_count": null,
            "_view_module": "@jupyter-widgets/controls",
            "_view_module_version": "1.5.0",
            "_view_name": "ProgressView",
            "bar_style": "success",
            "description": "",
            "description_tooltip": null,
            "layout": "IPY_MODEL_6acbfbfed6d0473f8d73a002bf401d79",
            "max": 200,
            "min": 0,
            "orientation": "horizontal",
            "style": "IPY_MODEL_a1fde85e4d8d44ed94b21b964b2b0b9d",
            "value": 200
          }
        },
        "6669c11a885b485bb996cb928bc564d5": {
          "model_module": "@jupyter-widgets/controls",
          "model_module_version": "1.5.0",
          "model_name": "DescriptionStyleModel",
          "state": {
            "_model_module": "@jupyter-widgets/controls",
            "_model_module_version": "1.5.0",
            "_model_name": "DescriptionStyleModel",
            "_view_count": null,
            "_view_module": "@jupyter-widgets/base",
            "_view_module_version": "1.2.0",
            "_view_name": "StyleView",
            "description_width": ""
          }
        },
        "6a0fd7f5c5af416eb5b8939d9f86bb0c": {
          "model_module": "@jupyter-widgets/base",
          "model_module_version": "1.2.0",
          "model_name": "LayoutModel",
          "state": {
            "_model_module": "@jupyter-widgets/base",
            "_model_module_version": "1.2.0",
            "_model_name": "LayoutModel",
            "_view_count": null,
            "_view_module": "@jupyter-widgets/base",
            "_view_module_version": "1.2.0",
            "_view_name": "LayoutView",
            "align_content": null,
            "align_items": null,
            "align_self": null,
            "border": null,
            "bottom": null,
            "display": null,
            "flex": null,
            "flex_flow": null,
            "grid_area": null,
            "grid_auto_columns": null,
            "grid_auto_flow": null,
            "grid_auto_rows": null,
            "grid_column": null,
            "grid_gap": null,
            "grid_row": null,
            "grid_template_areas": null,
            "grid_template_columns": null,
            "grid_template_rows": null,
            "height": null,
            "justify_content": null,
            "justify_items": null,
            "left": null,
            "margin": null,
            "max_height": null,
            "max_width": null,
            "min_height": null,
            "min_width": null,
            "object_fit": null,
            "object_position": null,
            "order": null,
            "overflow": null,
            "overflow_x": null,
            "overflow_y": null,
            "padding": null,
            "right": null,
            "top": null,
            "visibility": null,
            "width": null
          }
        },
        "6acbfbfed6d0473f8d73a002bf401d79": {
          "model_module": "@jupyter-widgets/base",
          "model_module_version": "1.2.0",
          "model_name": "LayoutModel",
          "state": {
            "_model_module": "@jupyter-widgets/base",
            "_model_module_version": "1.2.0",
            "_model_name": "LayoutModel",
            "_view_count": null,
            "_view_module": "@jupyter-widgets/base",
            "_view_module_version": "1.2.0",
            "_view_name": "LayoutView",
            "align_content": null,
            "align_items": null,
            "align_self": null,
            "border": null,
            "bottom": null,
            "display": null,
            "flex": null,
            "flex_flow": null,
            "grid_area": null,
            "grid_auto_columns": null,
            "grid_auto_flow": null,
            "grid_auto_rows": null,
            "grid_column": null,
            "grid_gap": null,
            "grid_row": null,
            "grid_template_areas": null,
            "grid_template_columns": null,
            "grid_template_rows": null,
            "height": null,
            "justify_content": null,
            "justify_items": null,
            "left": null,
            "margin": null,
            "max_height": null,
            "max_width": null,
            "min_height": null,
            "min_width": null,
            "object_fit": null,
            "object_position": null,
            "order": null,
            "overflow": null,
            "overflow_x": null,
            "overflow_y": null,
            "padding": null,
            "right": null,
            "top": null,
            "visibility": null,
            "width": null
          }
        },
        "6fed12dae79a495b8fc3b969dd261c96": {
          "model_module": "@jupyter-widgets/controls",
          "model_module_version": "1.5.0",
          "model_name": "HBoxModel",
          "state": {
            "_dom_classes": [],
            "_model_module": "@jupyter-widgets/controls",
            "_model_module_version": "1.5.0",
            "_model_name": "HBoxModel",
            "_view_count": null,
            "_view_module": "@jupyter-widgets/controls",
            "_view_module_version": "1.5.0",
            "_view_name": "HBoxView",
            "box_style": "",
            "children": [
              "IPY_MODEL_28a7972bb6b447fabb28e2d9db3209e9",
              "IPY_MODEL_c4679660c2784cd08ef83e6ecda16cc0",
              "IPY_MODEL_9dd2797fe7a54e558317a0d7ff82dcf7"
            ],
            "layout": "IPY_MODEL_0e3259dd0b8b45afaf091acb992be7e2"
          }
        },
        "737efafedf93495ebf59611752958ee1": {
          "model_module": "@jupyter-widgets/controls",
          "model_module_version": "1.5.0",
          "model_name": "HTMLModel",
          "state": {
            "_dom_classes": [],
            "_model_module": "@jupyter-widgets/controls",
            "_model_module_version": "1.5.0",
            "_model_name": "HTMLModel",
            "_view_count": null,
            "_view_module": "@jupyter-widgets/controls",
            "_view_module_version": "1.5.0",
            "_view_name": "HTMLView",
            "description": "",
            "description_tooltip": null,
            "layout": "IPY_MODEL_9d1eb37f5ac34cc8b3ff76ffec58275e",
            "placeholder": "​",
            "style": "IPY_MODEL_79b8b8309d174443aad63d134aeca05f",
            "value": " 800/800 [00:00&lt;00:00, 2057.72 examples/s]"
          }
        },
        "79b8b8309d174443aad63d134aeca05f": {
          "model_module": "@jupyter-widgets/controls",
          "model_module_version": "1.5.0",
          "model_name": "DescriptionStyleModel",
          "state": {
            "_model_module": "@jupyter-widgets/controls",
            "_model_module_version": "1.5.0",
            "_model_name": "DescriptionStyleModel",
            "_view_count": null,
            "_view_module": "@jupyter-widgets/base",
            "_view_module_version": "1.2.0",
            "_view_name": "StyleView",
            "description_width": ""
          }
        },
        "7afbb74bbcca4fe880dd2570fa3ee038": {
          "model_module": "@jupyter-widgets/controls",
          "model_module_version": "1.5.0",
          "model_name": "DescriptionStyleModel",
          "state": {
            "_model_module": "@jupyter-widgets/controls",
            "_model_module_version": "1.5.0",
            "_model_name": "DescriptionStyleModel",
            "_view_count": null,
            "_view_module": "@jupyter-widgets/base",
            "_view_module_version": "1.2.0",
            "_view_name": "StyleView",
            "description_width": ""
          }
        },
        "7b575ba4603b450091aa54ac5f016375": {
          "model_module": "@jupyter-widgets/controls",
          "model_module_version": "1.5.0",
          "model_name": "ProgressStyleModel",
          "state": {
            "_model_module": "@jupyter-widgets/controls",
            "_model_module_version": "1.5.0",
            "_model_name": "ProgressStyleModel",
            "_view_count": null,
            "_view_module": "@jupyter-widgets/base",
            "_view_module_version": "1.2.0",
            "_view_name": "StyleView",
            "bar_color": null,
            "description_width": ""
          }
        },
        "7fb18bac5ee640309a3e075683731626": {
          "model_module": "@jupyter-widgets/controls",
          "model_module_version": "1.5.0",
          "model_name": "HBoxModel",
          "state": {
            "_dom_classes": [],
            "_model_module": "@jupyter-widgets/controls",
            "_model_module_version": "1.5.0",
            "_model_name": "HBoxModel",
            "_view_count": null,
            "_view_module": "@jupyter-widgets/controls",
            "_view_module_version": "1.5.0",
            "_view_name": "HBoxView",
            "box_style": "",
            "children": [
              "IPY_MODEL_23b3e801d0994647871e0539193115ce",
              "IPY_MODEL_596c617c0e9b45a2b9bd9d56476d76e0",
              "IPY_MODEL_c32c1bc517894155ac8db0c0f510435a"
            ],
            "layout": "IPY_MODEL_584113573df24923839a52283f237866"
          }
        },
        "8ec6d7e0c7ff48bdba32b609c12a5ec5": {
          "model_module": "@jupyter-widgets/controls",
          "model_module_version": "1.5.0",
          "model_name": "ProgressStyleModel",
          "state": {
            "_model_module": "@jupyter-widgets/controls",
            "_model_module_version": "1.5.0",
            "_model_name": "ProgressStyleModel",
            "_view_count": null,
            "_view_module": "@jupyter-widgets/base",
            "_view_module_version": "1.2.0",
            "_view_name": "StyleView",
            "bar_color": null,
            "description_width": ""
          }
        },
        "953a2a2747ef4ecfb474bc6343d0bf2f": {
          "model_module": "@jupyter-widgets/controls",
          "model_module_version": "1.5.0",
          "model_name": "DescriptionStyleModel",
          "state": {
            "_model_module": "@jupyter-widgets/controls",
            "_model_module_version": "1.5.0",
            "_model_name": "DescriptionStyleModel",
            "_view_count": null,
            "_view_module": "@jupyter-widgets/base",
            "_view_module_version": "1.2.0",
            "_view_name": "StyleView",
            "description_width": ""
          }
        },
        "95f4e85877c6477c91ec8b964c72b7a8": {
          "model_module": "@jupyter-widgets/base",
          "model_module_version": "1.2.0",
          "model_name": "LayoutModel",
          "state": {
            "_model_module": "@jupyter-widgets/base",
            "_model_module_version": "1.2.0",
            "_model_name": "LayoutModel",
            "_view_count": null,
            "_view_module": "@jupyter-widgets/base",
            "_view_module_version": "1.2.0",
            "_view_name": "LayoutView",
            "align_content": null,
            "align_items": null,
            "align_self": null,
            "border": null,
            "bottom": null,
            "display": null,
            "flex": null,
            "flex_flow": null,
            "grid_area": null,
            "grid_auto_columns": null,
            "grid_auto_flow": null,
            "grid_auto_rows": null,
            "grid_column": null,
            "grid_gap": null,
            "grid_row": null,
            "grid_template_areas": null,
            "grid_template_columns": null,
            "grid_template_rows": null,
            "height": null,
            "justify_content": null,
            "justify_items": null,
            "left": null,
            "margin": null,
            "max_height": null,
            "max_width": null,
            "min_height": null,
            "min_width": null,
            "object_fit": null,
            "object_position": null,
            "order": null,
            "overflow": null,
            "overflow_x": null,
            "overflow_y": null,
            "padding": null,
            "right": null,
            "top": null,
            "visibility": null,
            "width": null
          }
        },
        "991d316b8303448a9dbbaa4c357eeefb": {
          "model_module": "@jupyter-widgets/base",
          "model_module_version": "1.2.0",
          "model_name": "LayoutModel",
          "state": {
            "_model_module": "@jupyter-widgets/base",
            "_model_module_version": "1.2.0",
            "_model_name": "LayoutModel",
            "_view_count": null,
            "_view_module": "@jupyter-widgets/base",
            "_view_module_version": "1.2.0",
            "_view_name": "LayoutView",
            "align_content": null,
            "align_items": null,
            "align_self": null,
            "border": null,
            "bottom": null,
            "display": null,
            "flex": null,
            "flex_flow": null,
            "grid_area": null,
            "grid_auto_columns": null,
            "grid_auto_flow": null,
            "grid_auto_rows": null,
            "grid_column": null,
            "grid_gap": null,
            "grid_row": null,
            "grid_template_areas": null,
            "grid_template_columns": null,
            "grid_template_rows": null,
            "height": null,
            "justify_content": null,
            "justify_items": null,
            "left": null,
            "margin": null,
            "max_height": null,
            "max_width": null,
            "min_height": null,
            "min_width": null,
            "object_fit": null,
            "object_position": null,
            "order": null,
            "overflow": null,
            "overflow_x": null,
            "overflow_y": null,
            "padding": null,
            "right": null,
            "top": null,
            "visibility": null,
            "width": null
          }
        },
        "9a09959367a94b6aac74e9411f805fc4": {
          "model_module": "@jupyter-widgets/base",
          "model_module_version": "1.2.0",
          "model_name": "LayoutModel",
          "state": {
            "_model_module": "@jupyter-widgets/base",
            "_model_module_version": "1.2.0",
            "_model_name": "LayoutModel",
            "_view_count": null,
            "_view_module": "@jupyter-widgets/base",
            "_view_module_version": "1.2.0",
            "_view_name": "LayoutView",
            "align_content": null,
            "align_items": null,
            "align_self": null,
            "border": null,
            "bottom": null,
            "display": null,
            "flex": null,
            "flex_flow": null,
            "grid_area": null,
            "grid_auto_columns": null,
            "grid_auto_flow": null,
            "grid_auto_rows": null,
            "grid_column": null,
            "grid_gap": null,
            "grid_row": null,
            "grid_template_areas": null,
            "grid_template_columns": null,
            "grid_template_rows": null,
            "height": null,
            "justify_content": null,
            "justify_items": null,
            "left": null,
            "margin": null,
            "max_height": null,
            "max_width": null,
            "min_height": null,
            "min_width": null,
            "object_fit": null,
            "object_position": null,
            "order": null,
            "overflow": null,
            "overflow_x": null,
            "overflow_y": null,
            "padding": null,
            "right": null,
            "top": null,
            "visibility": null,
            "width": null
          }
        },
        "9af389f3e63c4b7eadc1655f27516787": {
          "model_module": "@jupyter-widgets/base",
          "model_module_version": "1.2.0",
          "model_name": "LayoutModel",
          "state": {
            "_model_module": "@jupyter-widgets/base",
            "_model_module_version": "1.2.0",
            "_model_name": "LayoutModel",
            "_view_count": null,
            "_view_module": "@jupyter-widgets/base",
            "_view_module_version": "1.2.0",
            "_view_name": "LayoutView",
            "align_content": null,
            "align_items": null,
            "align_self": null,
            "border": null,
            "bottom": null,
            "display": null,
            "flex": null,
            "flex_flow": null,
            "grid_area": null,
            "grid_auto_columns": null,
            "grid_auto_flow": null,
            "grid_auto_rows": null,
            "grid_column": null,
            "grid_gap": null,
            "grid_row": null,
            "grid_template_areas": null,
            "grid_template_columns": null,
            "grid_template_rows": null,
            "height": null,
            "justify_content": null,
            "justify_items": null,
            "left": null,
            "margin": null,
            "max_height": null,
            "max_width": null,
            "min_height": null,
            "min_width": null,
            "object_fit": null,
            "object_position": null,
            "order": null,
            "overflow": null,
            "overflow_x": null,
            "overflow_y": null,
            "padding": null,
            "right": null,
            "top": null,
            "visibility": null,
            "width": null
          }
        },
        "9d1eb37f5ac34cc8b3ff76ffec58275e": {
          "model_module": "@jupyter-widgets/base",
          "model_module_version": "1.2.0",
          "model_name": "LayoutModel",
          "state": {
            "_model_module": "@jupyter-widgets/base",
            "_model_module_version": "1.2.0",
            "_model_name": "LayoutModel",
            "_view_count": null,
            "_view_module": "@jupyter-widgets/base",
            "_view_module_version": "1.2.0",
            "_view_name": "LayoutView",
            "align_content": null,
            "align_items": null,
            "align_self": null,
            "border": null,
            "bottom": null,
            "display": null,
            "flex": null,
            "flex_flow": null,
            "grid_area": null,
            "grid_auto_columns": null,
            "grid_auto_flow": null,
            "grid_auto_rows": null,
            "grid_column": null,
            "grid_gap": null,
            "grid_row": null,
            "grid_template_areas": null,
            "grid_template_columns": null,
            "grid_template_rows": null,
            "height": null,
            "justify_content": null,
            "justify_items": null,
            "left": null,
            "margin": null,
            "max_height": null,
            "max_width": null,
            "min_height": null,
            "min_width": null,
            "object_fit": null,
            "object_position": null,
            "order": null,
            "overflow": null,
            "overflow_x": null,
            "overflow_y": null,
            "padding": null,
            "right": null,
            "top": null,
            "visibility": null,
            "width": null
          }
        },
        "9dd2797fe7a54e558317a0d7ff82dcf7": {
          "model_module": "@jupyter-widgets/controls",
          "model_module_version": "1.5.0",
          "model_name": "HTMLModel",
          "state": {
            "_dom_classes": [],
            "_model_module": "@jupyter-widgets/controls",
            "_model_module_version": "1.5.0",
            "_model_name": "HTMLModel",
            "_view_count": null,
            "_view_module": "@jupyter-widgets/controls",
            "_view_module_version": "1.5.0",
            "_view_name": "HTMLView",
            "description": "",
            "description_tooltip": null,
            "layout": "IPY_MODEL_336eae20c6eb425888800be5d96c00c0",
            "placeholder": "​",
            "style": "IPY_MODEL_472fd7791ba041f682c163b061350655",
            "value": " 4.20k/4.20k [00:00&lt;00:00, 317kB/s]"
          }
        },
        "a1fde85e4d8d44ed94b21b964b2b0b9d": {
          "model_module": "@jupyter-widgets/controls",
          "model_module_version": "1.5.0",
          "model_name": "ProgressStyleModel",
          "state": {
            "_model_module": "@jupyter-widgets/controls",
            "_model_module_version": "1.5.0",
            "_model_name": "ProgressStyleModel",
            "_view_count": null,
            "_view_module": "@jupyter-widgets/base",
            "_view_module_version": "1.2.0",
            "_view_name": "StyleView",
            "bar_color": null,
            "description_width": ""
          }
        },
        "a945a3374b574320ae3485a423c13eec": {
          "model_module": "@jupyter-widgets/controls",
          "model_module_version": "1.5.0",
          "model_name": "HTMLModel",
          "state": {
            "_dom_classes": [],
            "_model_module": "@jupyter-widgets/controls",
            "_model_module_version": "1.5.0",
            "_model_name": "HTMLModel",
            "_view_count": null,
            "_view_module": "@jupyter-widgets/controls",
            "_view_module_version": "1.5.0",
            "_view_name": "HTMLView",
            "description": "",
            "description_tooltip": null,
            "layout": "IPY_MODEL_c217d4dd6f724775a519ba94bf2f50bf",
            "placeholder": "​",
            "style": "IPY_MODEL_e253b5bed61647b3a7f82305f53a2893",
            "value": "Map: 100%"
          }
        },
        "ac24b0d6915d457090fe6a48dffbfc93": {
          "model_module": "@jupyter-widgets/base",
          "model_module_version": "1.2.0",
          "model_name": "LayoutModel",
          "state": {
            "_model_module": "@jupyter-widgets/base",
            "_model_module_version": "1.2.0",
            "_model_name": "LayoutModel",
            "_view_count": null,
            "_view_module": "@jupyter-widgets/base",
            "_view_module_version": "1.2.0",
            "_view_name": "LayoutView",
            "align_content": null,
            "align_items": null,
            "align_self": null,
            "border": null,
            "bottom": null,
            "display": null,
            "flex": null,
            "flex_flow": null,
            "grid_area": null,
            "grid_auto_columns": null,
            "grid_auto_flow": null,
            "grid_auto_rows": null,
            "grid_column": null,
            "grid_gap": null,
            "grid_row": null,
            "grid_template_areas": null,
            "grid_template_columns": null,
            "grid_template_rows": null,
            "height": null,
            "justify_content": null,
            "justify_items": null,
            "left": null,
            "margin": null,
            "max_height": null,
            "max_width": null,
            "min_height": null,
            "min_width": null,
            "object_fit": null,
            "object_position": null,
            "order": null,
            "overflow": null,
            "overflow_x": null,
            "overflow_y": null,
            "padding": null,
            "right": null,
            "top": null,
            "visibility": null,
            "width": null
          }
        },
        "ba8d91eaadce4f918188ec22180e4b8d": {
          "model_module": "@jupyter-widgets/base",
          "model_module_version": "1.2.0",
          "model_name": "LayoutModel",
          "state": {
            "_model_module": "@jupyter-widgets/base",
            "_model_module_version": "1.2.0",
            "_model_name": "LayoutModel",
            "_view_count": null,
            "_view_module": "@jupyter-widgets/base",
            "_view_module_version": "1.2.0",
            "_view_name": "LayoutView",
            "align_content": null,
            "align_items": null,
            "align_self": null,
            "border": null,
            "bottom": null,
            "display": null,
            "flex": null,
            "flex_flow": null,
            "grid_area": null,
            "grid_auto_columns": null,
            "grid_auto_flow": null,
            "grid_auto_rows": null,
            "grid_column": null,
            "grid_gap": null,
            "grid_row": null,
            "grid_template_areas": null,
            "grid_template_columns": null,
            "grid_template_rows": null,
            "height": null,
            "justify_content": null,
            "justify_items": null,
            "left": null,
            "margin": null,
            "max_height": null,
            "max_width": null,
            "min_height": null,
            "min_width": null,
            "object_fit": null,
            "object_position": null,
            "order": null,
            "overflow": null,
            "overflow_x": null,
            "overflow_y": null,
            "padding": null,
            "right": null,
            "top": null,
            "visibility": null,
            "width": null
          }
        },
        "c217d4dd6f724775a519ba94bf2f50bf": {
          "model_module": "@jupyter-widgets/base",
          "model_module_version": "1.2.0",
          "model_name": "LayoutModel",
          "state": {
            "_model_module": "@jupyter-widgets/base",
            "_model_module_version": "1.2.0",
            "_model_name": "LayoutModel",
            "_view_count": null,
            "_view_module": "@jupyter-widgets/base",
            "_view_module_version": "1.2.0",
            "_view_name": "LayoutView",
            "align_content": null,
            "align_items": null,
            "align_self": null,
            "border": null,
            "bottom": null,
            "display": null,
            "flex": null,
            "flex_flow": null,
            "grid_area": null,
            "grid_auto_columns": null,
            "grid_auto_flow": null,
            "grid_auto_rows": null,
            "grid_column": null,
            "grid_gap": null,
            "grid_row": null,
            "grid_template_areas": null,
            "grid_template_columns": null,
            "grid_template_rows": null,
            "height": null,
            "justify_content": null,
            "justify_items": null,
            "left": null,
            "margin": null,
            "max_height": null,
            "max_width": null,
            "min_height": null,
            "min_width": null,
            "object_fit": null,
            "object_position": null,
            "order": null,
            "overflow": null,
            "overflow_x": null,
            "overflow_y": null,
            "padding": null,
            "right": null,
            "top": null,
            "visibility": null,
            "width": null
          }
        },
        "c32c1bc517894155ac8db0c0f510435a": {
          "model_module": "@jupyter-widgets/controls",
          "model_module_version": "1.5.0",
          "model_name": "HTMLModel",
          "state": {
            "_dom_classes": [],
            "_model_module": "@jupyter-widgets/controls",
            "_model_module_version": "1.5.0",
            "_model_name": "HTMLModel",
            "_view_count": null,
            "_view_module": "@jupyter-widgets/controls",
            "_view_module_version": "1.5.0",
            "_view_name": "HTMLView",
            "description": "",
            "description_tooltip": null,
            "layout": "IPY_MODEL_e7c6c49659844a73a2d1c31049d985b6",
            "placeholder": "​",
            "style": "IPY_MODEL_192cd90430fd46139f7b0e450b1e7ff7",
            "value": " 200/200 [00:00&lt;00:00, 1618.48 examples/s]"
          }
        },
        "c4679660c2784cd08ef83e6ecda16cc0": {
          "model_module": "@jupyter-widgets/controls",
          "model_module_version": "1.5.0",
          "model_name": "FloatProgressModel",
          "state": {
            "_dom_classes": [],
            "_model_module": "@jupyter-widgets/controls",
            "_model_module_version": "1.5.0",
            "_model_name": "FloatProgressModel",
            "_view_count": null,
            "_view_module": "@jupyter-widgets/controls",
            "_view_module_version": "1.5.0",
            "_view_name": "ProgressView",
            "bar_style": "success",
            "description": "",
            "description_tooltip": null,
            "layout": "IPY_MODEL_453eb5cec1924f4a834a551535ff2175",
            "max": 4203,
            "min": 0,
            "orientation": "horizontal",
            "style": "IPY_MODEL_23fa83c7aefa40f794c19b05488d3453",
            "value": 4203
          }
        },
        "c5de383659fc4cf8a22cbb9a47a0593d": {
          "model_module": "@jupyter-widgets/base",
          "model_module_version": "1.2.0",
          "model_name": "LayoutModel",
          "state": {
            "_model_module": "@jupyter-widgets/base",
            "_model_module_version": "1.2.0",
            "_model_name": "LayoutModel",
            "_view_count": null,
            "_view_module": "@jupyter-widgets/base",
            "_view_module_version": "1.2.0",
            "_view_name": "LayoutView",
            "align_content": null,
            "align_items": null,
            "align_self": null,
            "border": null,
            "bottom": null,
            "display": null,
            "flex": null,
            "flex_flow": null,
            "grid_area": null,
            "grid_auto_columns": null,
            "grid_auto_flow": null,
            "grid_auto_rows": null,
            "grid_column": null,
            "grid_gap": null,
            "grid_row": null,
            "grid_template_areas": null,
            "grid_template_columns": null,
            "grid_template_rows": null,
            "height": null,
            "justify_content": null,
            "justify_items": null,
            "left": null,
            "margin": null,
            "max_height": null,
            "max_width": null,
            "min_height": null,
            "min_width": null,
            "object_fit": null,
            "object_position": null,
            "order": null,
            "overflow": null,
            "overflow_x": null,
            "overflow_y": null,
            "padding": null,
            "right": null,
            "top": null,
            "visibility": null,
            "width": null
          }
        },
        "cd2f047af1f8489e91ef0f5febc68bf2": {
          "model_module": "@jupyter-widgets/base",
          "model_module_version": "1.2.0",
          "model_name": "LayoutModel",
          "state": {
            "_model_module": "@jupyter-widgets/base",
            "_model_module_version": "1.2.0",
            "_model_name": "LayoutModel",
            "_view_count": null,
            "_view_module": "@jupyter-widgets/base",
            "_view_module_version": "1.2.0",
            "_view_name": "LayoutView",
            "align_content": null,
            "align_items": null,
            "align_self": null,
            "border": null,
            "bottom": null,
            "display": null,
            "flex": null,
            "flex_flow": null,
            "grid_area": null,
            "grid_auto_columns": null,
            "grid_auto_flow": null,
            "grid_auto_rows": null,
            "grid_column": null,
            "grid_gap": null,
            "grid_row": null,
            "grid_template_areas": null,
            "grid_template_columns": null,
            "grid_template_rows": null,
            "height": null,
            "justify_content": null,
            "justify_items": null,
            "left": null,
            "margin": null,
            "max_height": null,
            "max_width": null,
            "min_height": null,
            "min_width": null,
            "object_fit": null,
            "object_position": null,
            "order": null,
            "overflow": null,
            "overflow_x": null,
            "overflow_y": null,
            "padding": null,
            "right": null,
            "top": null,
            "visibility": null,
            "width": null
          }
        },
        "d247b78f488f453ab2a40fac51afa4ed": {
          "model_module": "@jupyter-widgets/controls",
          "model_module_version": "1.5.0",
          "model_name": "HTMLModel",
          "state": {
            "_dom_classes": [],
            "_model_module": "@jupyter-widgets/controls",
            "_model_module_version": "1.5.0",
            "_model_name": "HTMLModel",
            "_view_count": null,
            "_view_module": "@jupyter-widgets/controls",
            "_view_module_version": "1.5.0",
            "_view_name": "HTMLView",
            "description": "",
            "description_tooltip": null,
            "layout": "IPY_MODEL_ba8d91eaadce4f918188ec22180e4b8d",
            "placeholder": "​",
            "style": "IPY_MODEL_7afbb74bbcca4fe880dd2570fa3ee038",
            "value": "Downloading builder script: 100%"
          }
        },
        "d793f09c082140e58b4497d67f3593c7": {
          "model_module": "@jupyter-widgets/base",
          "model_module_version": "1.2.0",
          "model_name": "LayoutModel",
          "state": {
            "_model_module": "@jupyter-widgets/base",
            "_model_module_version": "1.2.0",
            "_model_name": "LayoutModel",
            "_view_count": null,
            "_view_module": "@jupyter-widgets/base",
            "_view_module_version": "1.2.0",
            "_view_name": "LayoutView",
            "align_content": null,
            "align_items": null,
            "align_self": null,
            "border": null,
            "bottom": null,
            "display": null,
            "flex": null,
            "flex_flow": null,
            "grid_area": null,
            "grid_auto_columns": null,
            "grid_auto_flow": null,
            "grid_auto_rows": null,
            "grid_column": null,
            "grid_gap": null,
            "grid_row": null,
            "grid_template_areas": null,
            "grid_template_columns": null,
            "grid_template_rows": null,
            "height": null,
            "justify_content": null,
            "justify_items": null,
            "left": null,
            "margin": null,
            "max_height": null,
            "max_width": null,
            "min_height": null,
            "min_width": null,
            "object_fit": null,
            "object_position": null,
            "order": null,
            "overflow": null,
            "overflow_x": null,
            "overflow_y": null,
            "padding": null,
            "right": null,
            "top": null,
            "visibility": null,
            "width": null
          }
        },
        "e253b5bed61647b3a7f82305f53a2893": {
          "model_module": "@jupyter-widgets/controls",
          "model_module_version": "1.5.0",
          "model_name": "DescriptionStyleModel",
          "state": {
            "_model_module": "@jupyter-widgets/controls",
            "_model_module_version": "1.5.0",
            "_model_name": "DescriptionStyleModel",
            "_view_count": null,
            "_view_module": "@jupyter-widgets/base",
            "_view_module_version": "1.2.0",
            "_view_name": "StyleView",
            "description_width": ""
          }
        },
        "e7c6c49659844a73a2d1c31049d985b6": {
          "model_module": "@jupyter-widgets/base",
          "model_module_version": "1.2.0",
          "model_name": "LayoutModel",
          "state": {
            "_model_module": "@jupyter-widgets/base",
            "_model_module_version": "1.2.0",
            "_model_name": "LayoutModel",
            "_view_count": null,
            "_view_module": "@jupyter-widgets/base",
            "_view_module_version": "1.2.0",
            "_view_name": "LayoutView",
            "align_content": null,
            "align_items": null,
            "align_self": null,
            "border": null,
            "bottom": null,
            "display": null,
            "flex": null,
            "flex_flow": null,
            "grid_area": null,
            "grid_auto_columns": null,
            "grid_auto_flow": null,
            "grid_auto_rows": null,
            "grid_column": null,
            "grid_gap": null,
            "grid_row": null,
            "grid_template_areas": null,
            "grid_template_columns": null,
            "grid_template_rows": null,
            "height": null,
            "justify_content": null,
            "justify_items": null,
            "left": null,
            "margin": null,
            "max_height": null,
            "max_width": null,
            "min_height": null,
            "min_width": null,
            "object_fit": null,
            "object_position": null,
            "order": null,
            "overflow": null,
            "overflow_x": null,
            "overflow_y": null,
            "padding": null,
            "right": null,
            "top": null,
            "visibility": null,
            "width": null
          }
        },
        "f313efffc0d34534b8c2da1eb5ebca38": {
          "model_module": "@jupyter-widgets/controls",
          "model_module_version": "1.5.0",
          "model_name": "DescriptionStyleModel",
          "state": {
            "_model_module": "@jupyter-widgets/controls",
            "_model_module_version": "1.5.0",
            "_model_name": "DescriptionStyleModel",
            "_view_count": null,
            "_view_module": "@jupyter-widgets/base",
            "_view_module_version": "1.2.0",
            "_view_name": "StyleView",
            "description_width": ""
          }
        },
        "f715f13ac18e4128a9bae1e646ee16b1": {
          "model_module": "@jupyter-widgets/controls",
          "model_module_version": "1.5.0",
          "model_name": "ProgressStyleModel",
          "state": {
            "_model_module": "@jupyter-widgets/controls",
            "_model_module_version": "1.5.0",
            "_model_name": "ProgressStyleModel",
            "_view_count": null,
            "_view_module": "@jupyter-widgets/base",
            "_view_module_version": "1.2.0",
            "_view_name": "StyleView",
            "bar_color": null,
            "description_width": ""
          }
        },
        "f9b76c5a1aed44279ceb275795915d11": {
          "model_module": "@jupyter-widgets/controls",
          "model_module_version": "1.5.0",
          "model_name": "FloatProgressModel",
          "state": {
            "_dom_classes": [],
            "_model_module": "@jupyter-widgets/controls",
            "_model_module_version": "1.5.0",
            "_model_name": "FloatProgressModel",
            "_view_count": null,
            "_view_module": "@jupyter-widgets/controls",
            "_view_module_version": "1.5.0",
            "_view_name": "ProgressView",
            "bar_style": "success",
            "description": "",
            "description_tooltip": null,
            "layout": "IPY_MODEL_9a09959367a94b6aac74e9411f805fc4",
            "max": 6785,
            "min": 0,
            "orientation": "horizontal",
            "style": "IPY_MODEL_7b575ba4603b450091aa54ac5f016375",
            "value": 6785
          }
        },
        "fa9f37dc78904312a4817c05b4dca777": {
          "model_module": "@jupyter-widgets/controls",
          "model_module_version": "1.5.0",
          "model_name": "FloatProgressModel",
          "state": {
            "_dom_classes": [],
            "_model_module": "@jupyter-widgets/controls",
            "_model_module_version": "1.5.0",
            "_model_name": "FloatProgressModel",
            "_view_count": null,
            "_view_module": "@jupyter-widgets/controls",
            "_view_module_version": "1.5.0",
            "_view_name": "ProgressView",
            "bar_style": "success",
            "description": "",
            "description_tooltip": null,
            "layout": "IPY_MODEL_d793f09c082140e58b4497d67f3593c7",
            "max": 800,
            "min": 0,
            "orientation": "horizontal",
            "style": "IPY_MODEL_8ec6d7e0c7ff48bdba32b609c12a5ec5",
            "value": 800
          }
        }
      }
    }
  },
  "nbformat": 4,
  "nbformat_minor": 0
}
